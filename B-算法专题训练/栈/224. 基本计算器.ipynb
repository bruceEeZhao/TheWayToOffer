{
 "cells": [
  {
   "cell_type": "code",
   "execution_count": 72,
   "metadata": {},
   "outputs": [],
   "source": [
    "class Solution:\n",
    "    def calculate(self, s: str) -> int:\n",
    "        if s==None or s==\"\":\n",
    "            return 0\n",
    "        \n",
    "        shizi = []\n",
    "        subshizi = []\n",
    "        numtmp = \"\"\n",
    "        for i in s:\n",
    "            if i==\" \":\n",
    "                if len(numtmp):\n",
    "                    shizi.append(numtmp)\n",
    "                    numtmp = \"\"\n",
    "            elif i==')':\n",
    "                if len(numtmp):\n",
    "                    shizi.append(numtmp)\n",
    "                    numtmp = \"\"\n",
    "                print(shizi)\n",
    "                # 元素出栈，计算括号中的值，然后入栈\n",
    "                while shizi[-1]!=\"(\":\n",
    "                    tmp = shizi.pop()\n",
    "                    subshizi.append(tmp)\n",
    "                    \n",
    "                shizi.pop()\n",
    "                shizi.append(self.calSub(subshizi))\n",
    "                subshizi = []\n",
    "            else: #数字和操作符\n",
    "                if i.isdigit():\n",
    "                    numtmp+= i\n",
    "                else:\n",
    "                    if len(numtmp):\n",
    "                        shizi.append(numtmp)\n",
    "                        numtmp = \"\"\n",
    "                    shizi.append(i)\n",
    "                    \n",
    "        if len(numtmp):\n",
    "            shizi.append(numtmp)\n",
    "        \n",
    "        stack = []\n",
    "        while shizi:\n",
    "            stack.append(shizi.pop())\n",
    "\n",
    "        if stack:\n",
    "            return int(self.calSub(stack))\n",
    "        else:\n",
    "            return int(shizi[0])\n",
    "\n",
    "\n",
    "    def calSub(self, stack):\n",
    "        total = 0\n",
    "        while stack:\n",
    "            tmp = stack.pop()\n",
    "            if tmp.lstrip('-').isdigit():\n",
    "                if tmp.startswith(\"-\"):\n",
    "                    total = -int(tmp.lstrip(\"-\"))\n",
    "                else:\n",
    "                    total = int(tmp)\n",
    "            elif  tmp == \"+\":\n",
    "                total += int(stack.pop())\n",
    "                stack.append(str(total))\n",
    "            else:\n",
    "                total -= int(stack.pop())\n",
    "                stack.append(str(total))\n",
    "\n",
    "        return str(total)"
   ]
  },
  {
   "cell_type": "code",
   "execution_count": 73,
   "metadata": {},
   "outputs": [],
   "source": [
    "s = Solution()"
   ]
  },
  {
   "cell_type": "code",
   "execution_count": 74,
   "metadata": {},
   "outputs": [
    {
     "name": "stdout",
     "output_type": "stream",
     "text": [
      "['(', '1', '-', '(', '4', '+', '5', '+', '2']\n",
      "['(', '1', '-', '11', '-', '3']\n",
      "['-13', '-', '(', '6', '+', '8']\n"
     ]
    },
    {
     "data": {
      "text/plain": [
       "-27"
      ]
     },
     "execution_count": 74,
     "metadata": {},
     "output_type": "execute_result"
    }
   ],
   "source": [
    "s.calculate(\"(1-(4+5+2)-3)-(6+8)\")"
   ]
  },
  {
   "cell_type": "code",
   "execution_count": 93,
   "metadata": {},
   "outputs": [],
   "source": [
    "class Solution:\n",
    "    def calculate(self, s: str) -> int:\n",
    "        if s==None or s==\"\":\n",
    "            return 0\n",
    "        \n",
    "        ret = 0\n",
    "        ops = []\n",
    "        flag = 1\n",
    "        ops.append(flag)\n",
    "        i = 0\n",
    "        while i<len(s):\n",
    "            if s[i]==\" \":\n",
    "                i += 1\n",
    "            elif s[i]==\"+\":\n",
    "                flag = ops[-1]\n",
    "                i += 1\n",
    "            elif s[i]==\"-\":\n",
    "                flag = -ops[-1]\n",
    "                i += 1\n",
    "            elif s[i]==\"(\":\n",
    "                ops.append(flag)\n",
    "                i += 1\n",
    "            elif s[i]==\")\":\n",
    "                ops.pop()\n",
    "                i += 1\n",
    "            else:\n",
    "                num = 0\n",
    "                while i<len(s) and s[i].isdigit():\n",
    "                    num *= 10\n",
    "                    num += int(s[i])\n",
    "                    i += 1\n",
    "                ret += flag * num\n",
    "                \n",
    "        return ret"
   ]
  },
  {
   "cell_type": "code",
   "execution_count": 94,
   "metadata": {},
   "outputs": [],
   "source": [
    "s = Solution()"
   ]
  },
  {
   "cell_type": "code",
   "execution_count": 95,
   "metadata": {},
   "outputs": [
    {
     "name": "stdout",
     "output_type": "stream",
     "text": [
      "1\n",
      "4\n",
      "5\n",
      "2\n",
      "3\n",
      "6\n",
      "8\n"
     ]
    },
    {
     "data": {
      "text/plain": [
       "-27"
      ]
     },
     "execution_count": 95,
     "metadata": {},
     "output_type": "execute_result"
    }
   ],
   "source": [
    "s.calculate(\"(1-(4+5+2)-3)-(6+8)\")"
   ]
  },
  {
   "cell_type": "code",
   "execution_count": null,
   "metadata": {},
   "outputs": [],
   "source": []
  }
 ],
 "metadata": {
  "kernelspec": {
   "display_name": "Python 3",
   "language": "python",
   "name": "python3"
  },
  "language_info": {
   "codemirror_mode": {
    "name": "ipython",
    "version": 3
   },
   "file_extension": ".py",
   "mimetype": "text/x-python",
   "name": "python",
   "nbconvert_exporter": "python",
   "pygments_lexer": "ipython3",
   "version": "3.8.5"
  }
 },
 "nbformat": 4,
 "nbformat_minor": 4
}
