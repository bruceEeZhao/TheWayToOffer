{
 "cells": [
  {
   "cell_type": "markdown",
   "metadata": {},
   "source": [
    "[331. 验证二叉树的前序序列化](https://leetcode-cn.com/problems/verify-preorder-serialization-of-a-binary-tree/)\n",
    "\n",
    "```\n",
    "序列化二叉树的一种方法是使用前序遍历。当我们遇到一个非空节点时，我们可以记录下这个节点的值。如果它是一个空节点，我们可以使用一个标记值记录，例如 #。\n",
    "\n",
    "     _9_\n",
    "    /   \\\n",
    "   3     2\n",
    "  / \\   / \\\n",
    " 4   1  #  6\n",
    "/ \\ / \\   / \\\n",
    "# # # #   # #\n",
    "\n",
    "例如，上面的二叉树可以被序列化为字符串 \"9,3,4,#,#,1,#,#,2,#,6,#,#\"，其中 # 代表一个空节点。\n",
    "\n",
    "给定一串以逗号分隔的序列，验证它是否是正确的二叉树的前序序列化。编写一个在不重构树的条件下的可行算法。\n",
    "\n",
    "每个以逗号分隔的字符或为一个整数或为一个表示 null 指针的 '#' 。\n",
    "\n",
    "你可以认为输入格式总是有效的，例如它永远不会包含两个连续的逗号，比如 \"1,,3\" 。\n",
    "\n",
    "示例 1:\n",
    "\n",
    "输入: \"9,3,4,#,#,1,#,#,2,#,6,#,#\"\n",
    "输出: true\n",
    "\n",
    "示例 2:\n",
    "\n",
    "输入: \"1,#\"\n",
    "输出: false\n",
    "\n",
    "示例 3:\n",
    "\n",
    "输入: \"9,#,#,1\"\n",
    "输出: false\n",
    "```"
   ]
  },
  {
   "cell_type": "code",
   "execution_count": null,
   "metadata": {},
   "outputs": [],
   "source": [
    "from typing import *"
   ]
  },
  {
   "cell_type": "code",
   "execution_count": 17,
   "metadata": {},
   "outputs": [],
   "source": [
    "class Solution:\n",
    "    def isValidSerialization(self, preorder: str) -> bool:\n",
    "        if preorder == None or len(preorder)==0:\n",
    "            return False\n",
    "\n",
    "        if preorder==\"#\":\n",
    "            return True\n",
    "        \n",
    "        items = preorder.split(\",\")\n",
    "\n",
    "        queue = []\n",
    "        if items[0].isdigit():\n",
    "            n = Node(items[0])\n",
    "            queue.append(n)\n",
    "        \n",
    "        for i in range(1, len(items)):\n",
    "            if items[i].isdigit():\n",
    "                n = Node(items[i])\n",
    "                if len(queue)==0:\n",
    "                    return False\n",
    "                tmp = queue[-1]\n",
    "                if tmp.left==False:\n",
    "                    tmp.left = True\n",
    "                    queue.append(n)\n",
    "                    continue\n",
    "                if tmp.right==False:\n",
    "                    tmp.right = True\n",
    "                    queue.append(n)  \n",
    "                    \n",
    "            else: # \"#\"\n",
    "                if len(queue)==0:\n",
    "                    return False\n",
    "                tmp = queue[-1]\n",
    "                if tmp.left==False:\n",
    "                    tmp.left = True\n",
    "                    continue\n",
    "                if tmp.right==False:\n",
    "                    tmp.right = True\n",
    "\n",
    "                    while len(queue):\n",
    "                        if queue[-1].left and queue[-1].right:\n",
    "                            queue.pop()\n",
    "                        else:\n",
    "                            break\n",
    "\n",
    "\n",
    "        if len(queue)==0:\n",
    "            return True\n",
    "        else:\n",
    "            return False\n",
    "\n",
    "# 这个结构只是为了记录某一个节点的左右子节点是否全部遍历过\n",
    "class Node:\n",
    "    def __init__(self, v=0):\n",
    "        self.val = v\n",
    "        self.left = False\n",
    "        self.right = False\n",
    "\n",
    "    def __str__(self):\n",
    "        return str(self.val)\n"
   ]
  },
  {
   "cell_type": "code",
   "execution_count": 18,
   "metadata": {},
   "outputs": [],
   "source": [
    "s = Solution()"
   ]
  },
  {
   "cell_type": "code",
   "execution_count": 19,
   "metadata": {},
   "outputs": [
    {
     "data": {
      "text/plain": [
       "False"
      ]
     },
     "execution_count": 19,
     "metadata": {},
     "output_type": "execute_result"
    }
   ],
   "source": [
    "s.isValidSerialization(\"1,#\")"
   ]
  },
  {
   "cell_type": "code",
   "execution_count": null,
   "metadata": {},
   "outputs": [],
   "source": []
  }
 ],
 "metadata": {
  "kernelspec": {
   "display_name": "Python 3",
   "language": "python",
   "name": "python3"
  },
  "language_info": {
   "codemirror_mode": {
    "name": "ipython",
    "version": 3
   },
   "file_extension": ".py",
   "mimetype": "text/x-python",
   "name": "python",
   "nbconvert_exporter": "python",
   "pygments_lexer": "ipython3",
   "version": "3.8.5"
  }
 },
 "nbformat": 4,
 "nbformat_minor": 4
}
