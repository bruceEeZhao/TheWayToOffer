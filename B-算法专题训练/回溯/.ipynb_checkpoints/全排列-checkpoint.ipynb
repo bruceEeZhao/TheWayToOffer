{
 "cells": [
  {
   "cell_type": "markdown",
   "metadata": {},
   "source": [
    "# 1. 没有重复数字的全排列\n",
    "\n",
    "[46. 全排列](https://leetcode-cn.com/problems/permutations/)\n",
    "\n",
    "```\n",
    "给定一个 没有重复 数字的序列，返回其所有可能的全排列。\n",
    "\n",
    "示例:\n",
    "\n",
    "输入: [1,2,3]\n",
    "输出:\n",
    "[\n",
    "  [1,2,3],\n",
    "  [1,3,2],\n",
    "  [2,1,3],\n",
    "  [2,3,1],\n",
    "  [3,1,2],\n",
    "  [3,2,1]\n",
    "]\n",
    "```"
   ]
  },
  {
   "cell_type": "code",
   "execution_count": 1,
   "metadata": {},
   "outputs": [],
   "source": [
    "from typing import *\n",
    "import copy"
   ]
  },
  {
   "cell_type": "code",
   "execution_count": 4,
   "metadata": {},
   "outputs": [],
   "source": [
    "class Solution:\n",
    "    def permute(self, nums: List[int]) -> List[List[int]]:\n",
    "        if nums==None or len(nums)==0:\n",
    "            return []\n",
    "\n",
    "        result = []\n",
    "        visited = [0 for i in range(len(nums))]\n",
    "\n",
    "        for i in range(len(nums)):\n",
    "            tmp = [nums[i]]\n",
    "            visited[i] = 1\n",
    "            self.recur(result, tmp, visited, nums)\n",
    "            visited[i] = 0\n",
    "\n",
    "        return result\n",
    "\n",
    "    def recur(self, result, tmp, visited, nums):\n",
    "        if len(tmp) == len(nums):\n",
    "            result.append(copy.copy(tmp))\n",
    "            return\n",
    "        for i in range(len(nums)):\n",
    "            if visited[i]==0:\n",
    "                tmp.append(nums[i])\n",
    "                visited[i] = 1\n",
    "                self.recur(result, tmp, visited, nums)\n",
    "                visited[i] = 0\n",
    "                tmp.pop()\n"
   ]
  },
  {
   "cell_type": "code",
   "execution_count": 7,
   "metadata": {},
   "outputs": [
    {
     "name": "stdout",
     "output_type": "stream",
     "text": [
      "[[1, 2, 3], [1, 3, 2], [2, 1, 3], [2, 3, 1], [3, 1, 2], [3, 2, 1]]\n"
     ]
    }
   ],
   "source": [
    "s = Solution()\n",
    "print(s.permute([1,2,3]))"
   ]
  },
  {
   "cell_type": "code",
   "execution_count": null,
   "metadata": {},
   "outputs": [],
   "source": []
  },
  {
   "cell_type": "code",
   "execution_count": null,
   "metadata": {},
   "outputs": [],
   "source": []
  },
  {
   "cell_type": "markdown",
   "metadata": {},
   "source": [
    "# 2. 有重复数字的全排列\n",
    "[47. 全排列 II](https://leetcode-cn.com/problems/permutations-ii/)\n",
    "\n",
    "```\n",
    "给定一个可包含重复数字的序列 nums ，按任意顺序 返回所有不重复的全排列。\n",
    "\n",
    " \n",
    "\n",
    "示例 1：\n",
    "\n",
    "输入：nums = [1,1,2]\n",
    "输出：\n",
    "[[1,1,2],\n",
    " [1,2,1],\n",
    " [2,1,1]]\n",
    "\n",
    "示例 2：\n",
    "\n",
    "输入：nums = [1,2,3]\n",
    "输出：[[1,2,3],[1,3,2],[2,1,3],[2,3,1],[3,1,2],[3,2,1]]\n",
    "```"
   ]
  },
  {
   "cell_type": "code",
   "execution_count": 2,
   "metadata": {},
   "outputs": [],
   "source": [
    "class Solution:\n",
    "    def permuteUnique(self, nums: List[int]) -> List[List[int]]:\n",
    "        if nums==None or len(nums)==0:\n",
    "            return []\n",
    "\n",
    "        result = []\n",
    "        # 先对数字进行排序\n",
    "        nums.sort()\n",
    "        visited = [0 for i in range(len(nums))]\n",
    "\n",
    "        for i in range(len(nums)):\n",
    "            tmp = [nums[i]]\n",
    "            visited[i] = 1\n",
    "            self.recur(result, tmp, visited, nums)\n",
    "            visited[i] = 0\n",
    "\n",
    "        return result\n",
    "\n",
    "    def recur(self, result, tmp, visited, nums):\n",
    "        if len(tmp) == len(nums):\n",
    "            result.append(copy.copy(tmp))\n",
    "            return\n",
    "        for i in range(len(nums)):\n",
    "            if  i>0 and nums[i-1]==nums[i] and visited[i-1]==1:\n",
    "                continue\n",
    "            if visited[i]==0:\n",
    "                tmp.append(nums[i])\n",
    "                visited[i] = 1\n",
    "                self.recur(result, tmp, visited, nums)\n",
    "                visited[i] = 0\n",
    "                tmp.pop()"
   ]
  },
  {
   "cell_type": "code",
   "execution_count": 3,
   "metadata": {},
   "outputs": [
    {
     "name": "stdout",
     "output_type": "stream",
     "text": [
      "[[1, 1, 3], [1, 3, 1], [3, 1, 1]]\n"
     ]
    }
   ],
   "source": [
    "s = Solution()\n",
    "print(s.permuteUnique([1,1,3]))"
   ]
  },
  {
   "cell_type": "code",
   "execution_count": null,
   "metadata": {},
   "outputs": [],
   "source": []
  },
  {
   "cell_type": "code",
   "execution_count": null,
   "metadata": {},
   "outputs": [],
   "source": []
  },
  {
   "cell_type": "code",
   "execution_count": null,
   "metadata": {},
   "outputs": [],
   "source": []
  },
  {
   "cell_type": "markdown",
   "metadata": {},
   "source": [
    "# 3. 字母大小写全排列\n",
    "[784. 字母大小写全排列](https://leetcode-cn.com/problems/letter-case-permutation/)\n",
    "\n",
    "\n",
    "给定一个字符串S，通过将字符串S中的每个字母转变大小写，我们可以获得一个新的字符串。返回所有可能得到的字符串集合。\n",
    "\n",
    " \n",
    "```\n",
    "示例：\n",
    "输入：S = \"a1b2\"\n",
    "输出：[\"a1b2\", \"a1B2\", \"A1b2\", \"A1B2\"]\n",
    "\n",
    "输入：S = \"3z4\"\n",
    "输出：[\"3z4\", \"3Z4\"]\n",
    "\n",
    "输入：S = \"12345\"\n",
    "输出：[\"12345\"]\n",
    "```"
   ]
  },
  {
   "cell_type": "code",
   "execution_count": 8,
   "metadata": {},
   "outputs": [],
   "source": [
    "# dfs\n",
    "\n",
    "class Solution:\n",
    "    def letterCasePermutation(self, S: str) -> List[str]:\n",
    "        \"\"\"\n",
    "        :type S: str\n",
    "        :rtype: List[str]\n",
    "        \"\"\"\n",
    "        res = list()\n",
    "        l = len(S)\n",
    "        if l == 0:\n",
    "            return [\"\"]\n",
    "            \n",
    "        def dfs(start, temp):\n",
    "            if start >= l or len(temp) == l: #已经找到了一个答案\n",
    "                res.append(temp)\n",
    "                return\n",
    "            # print start, temp\n",
    "            if S[start].isdigit(): #数字就直接加\n",
    "                dfs(start + 1, temp + S[start])\n",
    "            \n",
    "            elif S[start].islower(): #字母就加本身和对立面\n",
    "                dfs(start + 1, temp + S[start])\n",
    "                dfs(start + 1, temp + S[start].upper())\n",
    "\n",
    "            elif S[start].isupper():\n",
    "                dfs(start + 1, temp + S[start])\n",
    "                dfs(start + 1, temp + S[start].lower())\n",
    "        \n",
    "        dfs(0, \"\")\n",
    "        return res"
   ]
  },
  {
   "cell_type": "code",
   "execution_count": null,
   "metadata": {},
   "outputs": [],
   "source": []
  }
 ],
 "metadata": {
  "kernelspec": {
   "display_name": "Python 3",
   "language": "python",
   "name": "python3"
  },
  "language_info": {
   "codemirror_mode": {
    "name": "ipython",
    "version": 3
   },
   "file_extension": ".py",
   "mimetype": "text/x-python",
   "name": "python",
   "nbconvert_exporter": "python",
   "pygments_lexer": "ipython3",
   "version": "3.8.5"
  }
 },
 "nbformat": 4,
 "nbformat_minor": 4
}
