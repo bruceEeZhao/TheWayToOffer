{
 "cells": [
  {
   "cell_type": "markdown",
   "metadata": {},
   "source": [
    "[59. 螺旋矩阵 II](https://leetcode-cn.com/problems/spiral-matrix-ii/)\n",
    "\n",
    "```\n",
    "给你一个正整数 n ，生成一个包含 1 到 n2 所有元素，且元素按顺时针顺序螺旋排列的 n x n 正方形矩阵 matrix 。\n",
    "\n",
    " \n",
    "\n",
    "示例 1：\n",
    "\n",
    "输入：n = 3\n",
    "输出：[[1,2,3],[8,9,4],[7,6,5]]\n",
    "\n",
    "示例 2：\n",
    "\n",
    "输入：n = 1\n",
    "输出：[[1]]\n",
    "```"
   ]
  },
  {
   "cell_type": "code",
   "execution_count": null,
   "metadata": {},
   "outputs": [],
   "source": []
  },
  {
   "cell_type": "code",
   "execution_count": null,
   "metadata": {},
   "outputs": [],
   "source": []
  },
  {
   "cell_type": "code",
   "execution_count": null,
   "metadata": {},
   "outputs": [],
   "source": []
  },
  {
   "cell_type": "code",
   "execution_count": 1,
   "metadata": {},
   "outputs": [],
   "source": [
    "from typing import *"
   ]
  },
  {
   "cell_type": "code",
   "execution_count": 25,
   "metadata": {},
   "outputs": [],
   "source": [
    "class Solution:\n",
    "    def generateMatrix(self, n: int) -> List[List[int]]:\n",
    "        if n<=0:\n",
    "            return []\n",
    "        if n==1:\n",
    "            return [[1]]\n",
    "\n",
    "        matrix = [[0 for i in range(n)] for i in range(n)]\n",
    "        \n",
    "        left = 0\n",
    "        right = n-1\n",
    "        top = 0\n",
    "        bottom = n-1\n",
    "        \n",
    "        num = 1\n",
    "        while left<right:\n",
    "            for col in range(left, right):\n",
    "                matrix[top][col] = num\n",
    "                num += 1\n",
    "                \n",
    "            for row in range(top, bottom):\n",
    "                matrix[row][right] = num\n",
    "                num += 1\n",
    "                \n",
    "            for col in range(right, left, -1):\n",
    "                matrix[bottom][col] = num\n",
    "                num += 1\n",
    "                \n",
    "            for row in range(bottom, top, -1):\n",
    "                matrix[row][left] = num\n",
    "                num += 1\n",
    "                \n",
    "            left+=1\n",
    "            right-=1\n",
    "            top+=1\n",
    "            bottom-=1\n",
    "        \n",
    "        if n%2==1:\n",
    "            matrix[n//2][n//2] = num\n",
    "            \n",
    "        return matrix\n",
    "\n",
    "        "
   ]
  },
  {
   "cell_type": "code",
   "execution_count": 26,
   "metadata": {},
   "outputs": [],
   "source": [
    "s = Solution()"
   ]
  },
  {
   "cell_type": "code",
   "execution_count": 28,
   "metadata": {},
   "outputs": [
    {
     "data": {
      "text/plain": [
       "[[1, 2, 3], [8, 9, 4], [7, 6, 5]]"
      ]
     },
     "execution_count": 28,
     "metadata": {},
     "output_type": "execute_result"
    }
   ],
   "source": [
    "s.generateMatrix(3)"
   ]
  },
  {
   "cell_type": "code",
   "execution_count": null,
   "metadata": {},
   "outputs": [],
   "source": []
  }
 ],
 "metadata": {
  "kernelspec": {
   "display_name": "Python 3",
   "language": "python",
   "name": "python3"
  },
  "language_info": {
   "codemirror_mode": {
    "name": "ipython",
    "version": 3
   },
   "file_extension": ".py",
   "mimetype": "text/x-python",
   "name": "python",
   "nbconvert_exporter": "python",
   "pygments_lexer": "ipython3",
   "version": "3.8.5"
  }
 },
 "nbformat": 4,
 "nbformat_minor": 4
}
