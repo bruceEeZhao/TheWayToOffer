{
 "cells": [
  {
   "cell_type": "code",
   "execution_count": null,
   "metadata": {},
   "outputs": [],
   "source": []
  },
  {
   "cell_type": "markdown",
   "metadata": {},
   "source": [
    "[221. 最大正方形](https://leetcode-cn.com/problems/maximal-square/)\n",
    "\n",
    "动态规划，定义dp[i][j]为以i,j为右下角元素时，正方形的最大边长\n",
    "\n",
    "```\n",
    "可以使用动态规划降低时间复杂度。我们用 dp(i,j) 表示以 (i,j) 为右下角，且只包含 111 的正方形的边长最大值。如果我们能计算出所有 dp(i,j) 的值，那么其中的最大值即为矩阵中只包含 1 的正方形的边长最大值，其平方即为最大正方形的面积。\n",
    "\n",
    "那么如何计算 dp 中的每个元素值呢？对于每个位置 (i,j)，检查在矩阵中该位置的值：\n",
    "\n",
    "    如果该位置的值是 0，则 dp(i,j)=0，因为当前位置不可能在由 111 组成的正方形中；\n",
    "\n",
    "    如果该位置的值是 111，则 dp(i,j)的值由其上方、左方和左上方的三个相邻位置的 dp 值决定。具体而言，当前位置的元素值等于三个相邻位置的元素中的最小值加 1，状态转移方程如下：\n",
    "\n",
    "    dp(i,j)=min(dp(i−1,j),dp(i−1,j−1),dp(i,j−1))+1\n",
    "\n",
    "\n",
    "```"
   ]
  },
  {
   "cell_type": "code",
   "execution_count": 1,
   "metadata": {},
   "outputs": [],
   "source": [
    "from typing import *"
   ]
  },
  {
   "cell_type": "code",
   "execution_count": 10,
   "metadata": {},
   "outputs": [],
   "source": [
    "class Solution:\n",
    "    def maximalSquare(self, matrix: List[List[str]]) -> int:\n",
    "        m, n = len(matrix), len(matrix[0])\n",
    "\n",
    "        dp = [[0 for i in range(n)] for i in range(m)]\n",
    "        maxside = 0\n",
    "\n",
    "        for i in range(m):\n",
    "            for j in range(n):\n",
    "                if i==0 or j==0:\n",
    "                    dp[i][j] = int(matrix[i][j])\n",
    "                    maxside = max(maxside, dp[i][j])\n",
    "                else:\n",
    "                    if matrix[i][j] == '0':\n",
    "                        dp[i][j] = 0\n",
    "                    else:\n",
    "                        dp[i][j] = min(dp[i-1][j], dp[i-1][j-1], dp[i][j-1]) + 1\n",
    "                        maxside = max(maxside, dp[i][j])\n",
    "        \n",
    "        return maxside*maxside"
   ]
  },
  {
   "cell_type": "code",
   "execution_count": 11,
   "metadata": {},
   "outputs": [
    {
     "data": {
      "text/plain": [
       "4"
      ]
     },
     "execution_count": 11,
     "metadata": {},
     "output_type": "execute_result"
    }
   ],
   "source": [
    "s = Solution()\n",
    "s.maximalSquare([[\"1\",\"0\",\"1\",\"0\",\"0\"],[\"1\",\"0\",\"1\",\"1\",\"1\"],[\"1\",\"1\",\"1\",\"1\",\"1\"],[\"1\",\"0\",\"0\",\"1\",\"0\"]])"
   ]
  },
  {
   "cell_type": "markdown",
   "metadata": {},
   "source": [
    "[5. 最长回文子串](https://leetcode-cn.com/problems/longest-palindromic-substring/)\n",
    "\n",
    "给你一个字符串 s，找到 s 中最长的回文子串。\n",
    "\n",
    " \n",
    "```\n",
    "示例 1：\n",
    "\n",
    "输入：s = \"babad\"\n",
    "输出：\"bab\"\n",
    "解释：\"aba\" 同样是符合题意的答案。\n",
    "\n",
    "示例 2：\n",
    "\n",
    "输入：s = \"cbbd\"\n",
    "输出：\"bb\"\n",
    "\n",
    "示例 3：\n",
    "\n",
    "输入：s = \"a\"\n",
    "输出：\"a\"\n",
    "\n",
    "示例 4：\n",
    "\n",
    "输入：s = \"ac\"\n",
    "输出：\"a\"\n",
    "\n",
    "```"
   ]
  },
  {
   "cell_type": "code",
   "execution_count": null,
   "metadata": {},
   "outputs": [],
   "source": [
    "class Solution:\n",
    "    def longestPalindrome(self, s: str) -> str:\n",
    "        length = len(s)\n",
    "        dp = [[False for i in range(length)] for i in range(length)]\n",
    "\n",
    "        maxl = 0\n",
    "        re = \"\"\n",
    "\n",
    "        for l in range(length):\n",
    "            for i in range(length-l):\n",
    "                j = i+l\n",
    "                if l==0:\n",
    "                    dp[i][j] = True\n",
    "                elif l==1:\n",
    "                    dp[i][j] = s[i]==s[j]\n",
    "                else:\n",
    "                    dp[i][j] = dp[i+1][j-1] and s[i]==s[j]\n",
    "\n",
    "                if dp[i][j] and j-i+1 > maxl:\n",
    "                    maxl = j-i+1\n",
    "                    re = s[i:j+1]\n",
    "\n",
    "        return re "
   ]
  }
 ],
 "metadata": {
  "kernelspec": {
   "display_name": "Python 3",
   "language": "python",
   "name": "python3"
  },
  "language_info": {
   "codemirror_mode": {
    "name": "ipython",
    "version": 3
   },
   "file_extension": ".py",
   "mimetype": "text/x-python",
   "name": "python",
   "nbconvert_exporter": "python",
   "pygments_lexer": "ipython3",
   "version": "3.8.5"
  }
 },
 "nbformat": 4,
 "nbformat_minor": 4
}
