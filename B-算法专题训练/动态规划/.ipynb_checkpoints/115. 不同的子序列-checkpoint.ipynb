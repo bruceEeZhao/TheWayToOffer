{
 "cells": [
  {
   "cell_type": "markdown",
   "metadata": {},
   "source": [
    "[115. 不同的子序列](https://leetcode-cn.com/problems/distinct-subsequences/)\n",
    "\n",
    "```\n",
    "给定一个字符串 s 和一个字符串 t ，计算在 s 的子序列中 t 出现的个数。\n",
    "\n",
    "字符串的一个 子序列 是指，通过删除一些（也可以不删除）字符且不干扰剩余字符相对位置所组成的新字符串。（例如，\"ACE\" 是 \"ABCDE\" 的一个子序列，而 \"AEC\" 不是）\n",
    "\n",
    "题目数据保证答案符合 32 位带符号整数范围。\n",
    "\n",
    " \n",
    "\n",
    "示例 1：\n",
    "\n",
    "输入：s = \"rabbbit\", t = \"rabbit\"\n",
    "输出：3\n",
    "解释：\n",
    "如下图所示, 有 3 种可以从 s 中得到 \"rabbit\" 的方案。\n",
    "(上箭头符号 ^ 表示选取的字母)\n",
    "rabbbit\n",
    "^^^^ ^^\n",
    "rabbbit\n",
    "^^ ^^^^\n",
    "rabbbit\n",
    "^^^ ^^^\n",
    "\n",
    "示例 2：\n",
    "\n",
    "输入：s = \"babgbag\", t = \"bag\"\n",
    "输出：5\n",
    "解释：\n",
    "如下图所示, 有 5 种可以从 s 中得到 \"bag\" 的方案。 \n",
    "(上箭头符号 ^ 表示选取的字母)\n",
    "babgbag\n",
    "^^ ^\n",
    "babgbag\n",
    "^^    ^\n",
    "babgbag\n",
    "^    ^^\n",
    "babgbag\n",
    "  ^  ^^\n",
    "babgbag\n",
    "    ^^^\n",
    "```"
   ]
  },
  {
   "cell_type": "code",
   "execution_count": null,
   "metadata": {},
   "outputs": [],
   "source": []
  },
  {
   "cell_type": "code",
   "execution_count": null,
   "metadata": {},
   "outputs": [],
   "source": []
  },
  {
   "cell_type": "markdown",
   "metadata": {},
   "source": [
    "## 1. 解法1\n",
    "\n",
    "这种方法，在数据量很大时会超时"
   ]
  },
  {
   "cell_type": "code",
   "execution_count": 2,
   "metadata": {},
   "outputs": [],
   "source": [
    "class Solution:\n",
    "    def numDistinct(self, s: str, t: str) -> int:\n",
    "        if s==None or s==\"\":\n",
    "            return 0\n",
    "        if t==None or t==\"\":\n",
    "            return 0\n",
    "        result = 0\n",
    "        def dfs(si, ti):\n",
    "            result = 0\n",
    "            if ti>len(t)-1:\n",
    "                return 1\n",
    "            if si>len(s)-1:\n",
    "                return 0\n",
    "\n",
    "            for i in range(si, len(s)):\n",
    "                if s[i] == t[ti]:\n",
    "                    result += dfs(i+1, ti+1)\n",
    "\n",
    "            return result\n",
    "\n",
    "        return dfs(0,0)"
   ]
  },
  {
   "cell_type": "code",
   "execution_count": 3,
   "metadata": {},
   "outputs": [],
   "source": [
    "s = Solution()"
   ]
  },
  {
   "cell_type": "code",
   "execution_count": 4,
   "metadata": {},
   "outputs": [
    {
     "data": {
      "text/plain": [
       "5"
      ]
     },
     "execution_count": 4,
     "metadata": {},
     "output_type": "execute_result"
    }
   ],
   "source": [
    "s.numDistinct(\"babgbag\", \"bag\")"
   ]
  },
  {
   "cell_type": "code",
   "execution_count": null,
   "metadata": {},
   "outputs": [],
   "source": []
  },
  {
   "cell_type": "code",
   "execution_count": null,
   "metadata": {},
   "outputs": [],
   "source": []
  },
  {
   "cell_type": "markdown",
   "metadata": {},
   "source": [
    "## 2. 解法2 动态规划"
   ]
  },
  {
   "cell_type": "code",
   "execution_count": null,
   "metadata": {},
   "outputs": [],
   "source": []
  },
  {
   "cell_type": "markdown",
   "metadata": {},
   "source": [
    "[解法](https://leetcode-cn.com/problems/distinct-subsequences/solution/bu-tong-de-zi-xu-lie-by-leetcode-solutio-urw3/)"
   ]
  },
  {
   "cell_type": "code",
   "execution_count": 5,
   "metadata": {},
   "outputs": [],
   "source": [
    "class Solution:\n",
    "    def numDistinct(self, s: str, t: str) -> int:\n",
    "        m, n = len(s), len(t)\n",
    "        if m < n:\n",
    "            return 0\n",
    "        \n",
    "        dp = [[0] * (n + 1) for _ in range(m + 1)]\n",
    "        for i in range(m + 1):\n",
    "            dp[i][n] = 1\n",
    "        \n",
    "        for i in range(m - 1, -1, -1):\n",
    "            for j in range(n - 1, -1, -1):\n",
    "                if s[i] == t[j]:\n",
    "                    dp[i][j] = dp[i + 1][j + 1] + dp[i + 1][j]\n",
    "                else:\n",
    "                    dp[i][j] = dp[i + 1][j]\n",
    "        \n",
    "        return dp[0][0]"
   ]
  },
  {
   "cell_type": "code",
   "execution_count": null,
   "metadata": {},
   "outputs": [],
   "source": []
  }
 ],
 "metadata": {
  "kernelspec": {
   "display_name": "Python 3",
   "language": "python",
   "name": "python3"
  },
  "language_info": {
   "codemirror_mode": {
    "name": "ipython",
    "version": 3
   },
   "file_extension": ".py",
   "mimetype": "text/x-python",
   "name": "python",
   "nbconvert_exporter": "python",
   "pygments_lexer": "ipython3",
   "version": "3.8.5"
  }
 },
 "nbformat": 4,
 "nbformat_minor": 4
}
