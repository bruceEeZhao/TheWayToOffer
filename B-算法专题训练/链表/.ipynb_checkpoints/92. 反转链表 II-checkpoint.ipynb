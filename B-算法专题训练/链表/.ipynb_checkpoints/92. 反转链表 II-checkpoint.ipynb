{
 "cells": [
  {
   "cell_type": "markdown",
   "metadata": {},
   "source": [
    "[92. 反转链表 II](https://leetcode-cn.com/problems/reverse-linked-list-ii/)\n",
    "\n",
    "\n",
    "```\n",
    "给你单链表的头节点 head 和两个整数 left 和 right ，其中 left <= right 。请你反转从位置 left 到位置 right 的链表节点，返回 反转后的链表 。\n",
    "\n",
    " \n",
    "\n",
    "示例 1：\n",
    "\n",
    "输入：head = [1,2,3,4,5], left = 2, right = 4\n",
    "输出：[1,4,3,2,5]\n",
    "\n",
    "示例 2：\n",
    "\n",
    "输入：head = [5], left = 1, right = 1\n",
    "输出：[5]\n",
    "```"
   ]
  },
  {
   "cell_type": "code",
   "execution_count": null,
   "metadata": {},
   "outputs": [],
   "source": []
  },
  {
   "cell_type": "code",
   "execution_count": null,
   "metadata": {},
   "outputs": [],
   "source": []
  },
  {
   "cell_type": "code",
   "execution_count": 1,
   "metadata": {},
   "outputs": [],
   "source": [
    "from typing import *"
   ]
  },
  {
   "cell_type": "code",
   "execution_count": 3,
   "metadata": {},
   "outputs": [],
   "source": [
    "# Definition for singly-linked list.\n",
    "class ListNode:\n",
    "    def __init__(self, val=0, next=None):\n",
    "        self.val = val\n",
    "        self.next = next\n",
    "class Solution:\n",
    "    def reverseBetween(self, head: ListNode, left: int, right: int) -> ListNode:\n",
    "        if left>=right:\n",
    "            return head\n",
    "        if head==None:\n",
    "            return head\n",
    "\n",
    "        h = head\n",
    "        count = 1\n",
    "\n",
    "        # 将整个链表分成3部分，前段，反转段，后段\n",
    "        # pre指向前段的最后一个节点\n",
    "        pre = None\n",
    "        reh = None # 反转段的第一个节点\n",
    "        ret = None # 反转段的最后一个节点\n",
    "        rep = None\n",
    "        while h:\n",
    "            if count < left:\n",
    "                pre = h\n",
    "                h = h.next\n",
    "            elif count==left:\n",
    "                reh = h\n",
    "                h = h.next\n",
    "                reh.next = None\n",
    "                rep = reh\n",
    "            elif count>left and count<right:\n",
    "                tmp = h\n",
    "                h = h.next\n",
    "                tmp.next = rep\n",
    "                rep = tmp\n",
    "            elif count ==right:\n",
    "                ret = h\n",
    "                h = h.next\n",
    "                ret.next = rep\n",
    "                rep = ret\n",
    "                # 链接上3段\n",
    "                if pre:\n",
    "                    pre.next = ret \n",
    "                else:\n",
    "                    head = ret\n",
    "                reh.next = h\n",
    "                \n",
    "            else: # count>right\n",
    "                h = h.next\n",
    "            count += 1\n",
    "\n",
    "        return head"
   ]
  },
  {
   "cell_type": "code",
   "execution_count": null,
   "metadata": {},
   "outputs": [],
   "source": []
  }
 ],
 "metadata": {
  "kernelspec": {
   "display_name": "Python 3",
   "language": "python",
   "name": "python3"
  },
  "language_info": {
   "codemirror_mode": {
    "name": "ipython",
    "version": 3
   },
   "file_extension": ".py",
   "mimetype": "text/x-python",
   "name": "python",
   "nbconvert_exporter": "python",
   "pygments_lexer": "ipython3",
   "version": "3.8.5"
  }
 },
 "nbformat": 4,
 "nbformat_minor": 4
}
