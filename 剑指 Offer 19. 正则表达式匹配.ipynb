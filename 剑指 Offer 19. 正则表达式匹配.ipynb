{
 "cells": [
  {
   "cell_type": "markdown",
   "metadata": {},
   "source": [
    "[剑指 Offer 19. 正则表达式匹配](https://leetcode-cn.com/problems/zheng-ze-biao-da-shi-pi-pei-lcof/)"
   ]
  },
  {
   "cell_type": "markdown",
   "metadata": {},
   "source": [
    "```c\n",
    "#include <stdlib.h>\n",
    "#include <stdio.h>\n",
    "\n",
    "bool isMatchCore(char* s, char* p);\n",
    "\n",
    "bool isMatch(char* s, char* p){\n",
    "    if (s==NULL || p==NULL) {\n",
    "        return false;\n",
    "    }\n",
    "    return isMatchCore(s, p);\n",
    "}\n",
    "\n",
    "bool isMatchCore(char* s, char* p) {\n",
    "    if (*s=='\\0' && *p=='\\0') {\n",
    "        return true;\n",
    "    }\n",
    "\n",
    "    if (*p=='\\0' && *s!='\\0') {\n",
    "        return false;\n",
    "    }\n",
    "\n",
    "    if (*(p+1)=='*') {\n",
    "        if (*p==*s || (*p=='.' && *s!='\\0')) {\n",
    "            return isMatchCore(s+1, p+2) \n",
    "            || isMatchCore(s+1, p)\n",
    "            || isMatchCore(s, p+2);\n",
    "        } else {\n",
    "            return isMatchCore(s, p+2);\n",
    "        }\n",
    "    }\n",
    "\n",
    "    if (*p==*s || (*p=='.' && *s!='\\0')) {\n",
    "        return isMatchCore(s+1, p+1);\n",
    "    }\n",
    "\n",
    "    return false;\n",
    "}\n",
    "```"
   ]
  },
  {
   "cell_type": "code",
   "execution_count": 1,
   "metadata": {},
   "outputs": [],
   "source": [
    "'''\n",
    "s = \"aaaaaaaaaaaaab\"\n",
    "p = \"a*a*a*a*a*a*a*a*a*a*c\"\n",
    "超时示例\n",
    "'''\n",
    "\n",
    "class Solution:\n",
    "    def isMatch(self, s: str, p: str) -> bool:\n",
    "        if s==None or p==None:\n",
    "            return False\n",
    "\n",
    "        return self.matchCore(s, p, 0, 0)\n",
    "\n",
    "\n",
    "    def matchCore(self, s, p, si, pi):\n",
    "        # si 字符串s的下标\n",
    "        # pi 模式串p的下标\n",
    "        if si==len(s) and pi==len(p):\n",
    "            return True\n",
    "        \n",
    "        if si<len(s) and pi==len(p):\n",
    "            return False\n",
    "\n",
    "        if pi+1<len(p) and p[pi+1]=='*':\n",
    "            if pi<len(p) and si<len(s) and p[pi]==s[si] or (p[pi]=='.' and si<len(s)):\n",
    "                return self.matchCore(s, p, si+1, pi+2) \\\n",
    "                or self.matchCore(s, p, si+1, pi) \\\n",
    "                or self.matchCore(s, p, si, pi+2)\n",
    "\n",
    "            else:\n",
    "                return self.matchCore(s, p, si, pi+2)\n",
    "\n",
    "        if pi<len(p) and si<len(s) and p[pi]==s[si] or (p[pi]=='.' and si<len(s)):\n",
    "            return self.matchCore(s, p, si+1, pi+1)\n",
    "\n",
    "        return False"
   ]
  },
  {
   "cell_type": "code",
   "execution_count": null,
   "metadata": {},
   "outputs": [],
   "source": []
  },
  {
   "cell_type": "code",
   "execution_count": null,
   "metadata": {},
   "outputs": [],
   "source": []
  },
  {
   "cell_type": "markdown",
   "metadata": {},
   "source": [
    "动态规划\n",
    "\n",
    "我们用 dp[i][j] 表示 s 的前 i 个字符与 p 中的前 j 个字符是否能够匹配。"
   ]
  },
  {
   "cell_type": "code",
   "execution_count": 2,
   "metadata": {},
   "outputs": [],
   "source": [
    "class Solution:\n",
    "    def isMatch(self, s: str, p: str) ->bool:\n",
    "        m, n = len(s), len(p)\n",
    "        dp = [[False for i in range(n+1)] for i in range(m+1)]\n",
    "        dp[0][0] = True\n",
    "        \n",
    "        def matchs(i, j):\n",
    "            if i==0:\n",
    "                return False\n",
    "            if p[j-1]=='.':\n",
    "                return True\n",
    "            return p[j-1]==s[i-1]\n",
    "        \n",
    "        for i in range(m+1):\n",
    "            for j in range(1, n+1):\n",
    "                if p[j - 1] == '*':\n",
    "                    dp[i][j] |= dp[i][j - 2]\n",
    "                    if matchs(i, j - 1):\n",
    "                        dp[i][j] |= dp[i - 1][j]\n",
    "                else:\n",
    "                    if matchs(i, j):\n",
    "                        dp[i][j] |= dp[i - 1][j - 1]\n",
    "        return dp[m][n]\n"
   ]
  },
  {
   "cell_type": "code",
   "execution_count": null,
   "metadata": {},
   "outputs": [],
   "source": []
  },
  {
   "cell_type": "code",
   "execution_count": 3,
   "metadata": {},
   "outputs": [],
   "source": [
    "s = \"aaaaaaaaaaaaab\"\n",
    "p = \"a*a*a*a*a*a*a*a*a*a*c\""
   ]
  },
  {
   "cell_type": "code",
   "execution_count": 4,
   "metadata": {},
   "outputs": [
    {
     "data": {
      "text/plain": [
       "False"
      ]
     },
     "execution_count": 4,
     "metadata": {},
     "output_type": "execute_result"
    }
   ],
   "source": [
    "sl = Solution()\n",
    "sl.isMatch(s, p)"
   ]
  },
  {
   "cell_type": "code",
   "execution_count": null,
   "metadata": {},
   "outputs": [],
   "source": []
  }
 ],
 "metadata": {
  "kernelspec": {
   "display_name": "Python 3",
   "language": "python",
   "name": "python3"
  },
  "language_info": {
   "codemirror_mode": {
    "name": "ipython",
    "version": 3
   },
   "file_extension": ".py",
   "mimetype": "text/x-python",
   "name": "python",
   "nbconvert_exporter": "python",
   "pygments_lexer": "ipython3",
   "version": "3.8.5"
  }
 },
 "nbformat": 4,
 "nbformat_minor": 4
}
