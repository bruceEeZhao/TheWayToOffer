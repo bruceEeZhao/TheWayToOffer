{
 "cells": [
  {
   "cell_type": "markdown",
   "metadata": {},
   "source": [
    "工厂有n个工人和m个任务，和需要获取的最小利润p\n",
    "输入m,n,p，接下来两行分别代表需要的工人数，和产生的利润\n",
    "```\n",
    "2 5 3\n",
    "2 2\n",
    "2 3\n",
    "```\n",
    "求有多少种方式可以达到最小利润。\n",
    "输出\n",
    "```\n",
    "2\n",
    "```\n",
    "解释：\n",
    "可以单独完成任务2，或者同时完成任务1和2"
   ]
  },
  {
   "cell_type": "code",
   "execution_count": null,
   "metadata": {},
   "outputs": [],
   "source": []
  }
 ],
 "metadata": {
  "kernelspec": {
   "display_name": "Python 3",
   "language": "python",
   "name": "python3"
  },
  "language_info": {
   "codemirror_mode": {
    "name": "ipython",
    "version": 3
   },
   "file_extension": ".py",
   "mimetype": "text/x-python",
   "name": "python",
   "nbconvert_exporter": "python",
   "pygments_lexer": "ipython3",
   "version": "3.8.5"
  }
 },
 "nbformat": 4,
 "nbformat_minor": 4
}
