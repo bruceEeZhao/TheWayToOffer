{
 "cells": [
  {
   "cell_type": "markdown",
   "metadata": {},
   "source": [
    "输入一个数组，中间可能会缺失某些数字，要求输出缺失的第k个数字\n",
    "\n",
    "输入：\n",
    "```\n",
    "k=3\n",
    "1 4 5 8 9\n",
    "```\n",
    "\n",
    "输出：\n",
    "```\n",
    "6\n",
    "```\n",
    "解释： 缺失的数字分别为 2,3,6,7 ,缺失的第3个数字为6"
   ]
  },
  {
   "cell_type": "code",
   "execution_count": null,
   "metadata": {},
   "outputs": [],
   "source": []
  }
 ],
 "metadata": {
  "kernelspec": {
   "display_name": "Python 3",
   "language": "python",
   "name": "python3"
  },
  "language_info": {
   "codemirror_mode": {
    "name": "ipython",
    "version": 3
   },
   "file_extension": ".py",
   "mimetype": "text/x-python",
   "name": "python",
   "nbconvert_exporter": "python",
   "pygments_lexer": "ipython3",
   "version": "3.8.5"
  }
 },
 "nbformat": 4,
 "nbformat_minor": 4
}
