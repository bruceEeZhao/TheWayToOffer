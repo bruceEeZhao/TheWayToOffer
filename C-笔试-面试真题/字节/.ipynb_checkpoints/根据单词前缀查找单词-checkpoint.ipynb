{
 "cells": [
  {
   "cell_type": "markdown",
   "metadata": {},
   "source": [
    "问题描述：\n",
    "\n",
    "给出一个单词列表，给出一个前缀，要求查询以该前缀开始的所有单词\n",
    "\n",
    "示例：\n",
    "\n",
    "```\n",
    "输入： ['abc', 'abb', 'abd', 'cc', 'bb']    'ab'\n",
    "输出： ['abc', 'abb', 'abd']\n",
    "```"
   ]
  },
  {
   "cell_type": "code",
   "execution_count": null,
   "metadata": {},
   "outputs": [],
   "source": []
  },
  {
   "cell_type": "code",
   "execution_count": 1,
   "metadata": {},
   "outputs": [],
   "source": [
    "from typing import *"
   ]
  },
  {
   "cell_type": "code",
   "execution_count": null,
   "metadata": {},
   "outputs": [],
   "source": []
  },
  {
   "cell_type": "code",
   "execution_count": 32,
   "metadata": {},
   "outputs": [],
   "source": [
    "class TreeNode:\n",
    "    def __init__(self):\n",
    "        self.children = {}\n",
    "        \n",
    "class Solution:\n",
    "    def getWordStartByPerfix(self, wordlist: List[str], prefix: str)-> List[str]:\n",
    "        root = TreeNode()\n",
    "        self.genTree(wordlist, root)\n",
    "        \n",
    "        r = root\n",
    "        re = []\n",
    "        for char in prefix:\n",
    "            if char not in r.children:\n",
    "                return []\n",
    "            else:\n",
    "                r = r.children[char]\n",
    "        # 找到了前缀最后一个字母的节点\n",
    "        \n",
    "        # 遍历所有的可能\n",
    "        s = []\n",
    "        result = []\n",
    "        self.findAll(result, r, s, prefix)\n",
    "        \n",
    "        return result\n",
    "        \n",
    "        \n",
    "    def findAll(self, result, root:TreeNode, s, prefix):\n",
    "        if root.children=={}:\n",
    "            result.append(self.charArr2str(s, prefix))\n",
    "            \n",
    "        for key,val in root.children.items():\n",
    "            s.append(key)\n",
    "            self.findAll(result, val, s, prefix)\n",
    "            s.pop()\n",
    "            \n",
    "    def charArr2str(self, s, prefix)->str:\n",
    "        re = prefix\n",
    "        for i in s:\n",
    "            re += i\n",
    "            \n",
    "            \n",
    "        return re\n",
    "        \n",
    "    \n",
    "    # 生成树\n",
    "    def genTree(self, wordlist: List[str], root: TreeNode)->TreeNode:\n",
    "        \n",
    "        def wordGen(word, r, index):\n",
    "            if index>=len(word):\n",
    "                return\n",
    "            \n",
    "            if word[index] not in r.children:\n",
    "                r.children[word[index]] = TreeNode()\n",
    "                \n",
    "            wordGen(word, r.children[word[index]], index+1)\n",
    "                \n",
    "        for word in wordlist:\n",
    "            wordGen(word, root, 0)\n",
    "            \n",
    "            \n",
    "            "
   ]
  },
  {
   "cell_type": "code",
   "execution_count": 34,
   "metadata": {},
   "outputs": [
    {
     "data": {
      "text/plain": [
       "['abc', 'abb', 'abd', 'abg']"
      ]
     },
     "execution_count": 34,
     "metadata": {},
     "output_type": "execute_result"
    }
   ],
   "source": [
    "s = Solution()\n",
    "s.getWordStartByPerfix(['abc', 'abb', 'abd', 'cc', 'bb', 'abg'],'ab')"
   ]
  },
  {
   "cell_type": "code",
   "execution_count": null,
   "metadata": {},
   "outputs": [],
   "source": []
  }
 ],
 "metadata": {
  "kernelspec": {
   "display_name": "Python 3",
   "language": "python",
   "name": "python3"
  },
  "language_info": {
   "codemirror_mode": {
    "name": "ipython",
    "version": 3
   },
   "file_extension": ".py",
   "mimetype": "text/x-python",
   "name": "python",
   "nbconvert_exporter": "python",
   "pygments_lexer": "ipython3",
   "version": "3.8.5"
  }
 },
 "nbformat": 4,
 "nbformat_minor": 4
}
