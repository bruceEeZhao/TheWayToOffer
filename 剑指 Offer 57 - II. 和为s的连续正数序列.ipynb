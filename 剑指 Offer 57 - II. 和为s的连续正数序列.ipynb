{
 "cells": [
  {
   "cell_type": "markdown",
   "metadata": {},
   "source": [
    "[剑指 Offer 57 - II. 和为s的连续正数序列](https://leetcode-cn.com/problems/he-wei-sde-lian-xu-zheng-shu-xu-lie-lcof/)\n",
    "\n",
    "```\n",
    "输入一个正整数 target ，输出所有和为 target 的连续正整数序列（至少含有两个数）。\n",
    "\n",
    "序列内的数字由小到大排列，不同序列按照首个数字从小到大排列。\n",
    "\n",
    " \n",
    "\n",
    "示例 1：\n",
    "\n",
    "输入：target = 9\n",
    "输出：[[2,3,4],[4,5]]\n",
    "\n",
    "示例 2：\n",
    "\n",
    "输入：target = 15\n",
    "输出：[[1,2,3,4,5],[4,5,6],[7,8]]\n",
    "```"
   ]
  },
  {
   "cell_type": "code",
   "execution_count": null,
   "metadata": {},
   "outputs": [],
   "source": []
  },
  {
   "cell_type": "code",
   "execution_count": null,
   "metadata": {},
   "outputs": [],
   "source": []
  },
  {
   "cell_type": "code",
   "execution_count": null,
   "metadata": {},
   "outputs": [],
   "source": []
  },
  {
   "cell_type": "code",
   "execution_count": 1,
   "metadata": {},
   "outputs": [],
   "source": [
    "from typing import *"
   ]
  },
  {
   "cell_type": "code",
   "execution_count": 2,
   "metadata": {},
   "outputs": [],
   "source": [
    "class Solution:\n",
    "    def findContinuousSequence(self, target: int) -> List[List[int]]:\n",
    "        if target<=2:\n",
    "            return []\n",
    "        # 最大到target的1//2处\n",
    "        maxNum = (target+1)//2\n",
    "        left = 1\n",
    "        right = 2\n",
    "\n",
    "        result = []\n",
    "        numSum = 3\n",
    "        while left<=right:\n",
    "            while  numSum< target:\n",
    "                right += 1\n",
    "                numSum += right\n",
    "\n",
    "            while left<right and numSum>target:\n",
    "                numSum -= left\n",
    "                left += 1\n",
    "\n",
    "            if numSum == target:\n",
    "                result.append([i for i in range(left, right+1)])\n",
    "\n",
    "            numSum -= left\n",
    "            left += 1\n",
    "           # print(numSum, left, right)\n",
    "\n",
    "\n",
    "        return result\n"
   ]
  },
  {
   "cell_type": "code",
   "execution_count": null,
   "metadata": {},
   "outputs": [],
   "source": []
  }
 ],
 "metadata": {
  "kernelspec": {
   "display_name": "Python 3",
   "language": "python",
   "name": "python3"
  },
  "language_info": {
   "codemirror_mode": {
    "name": "ipython",
    "version": 3
   },
   "file_extension": ".py",
   "mimetype": "text/x-python",
   "name": "python",
   "nbconvert_exporter": "python",
   "pygments_lexer": "ipython3",
   "version": "3.8.5"
  }
 },
 "nbformat": 4,
 "nbformat_minor": 4
}
