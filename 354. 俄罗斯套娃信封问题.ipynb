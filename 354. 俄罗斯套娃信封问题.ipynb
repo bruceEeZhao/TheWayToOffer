{
 "cells": [
  {
   "cell_type": "markdown",
   "metadata": {},
   "source": [
    "[354. 俄罗斯套娃信封问题](https://leetcode-cn.com/problems/russian-doll-envelopes/)\n",
    "\n",
    "```\n",
    "给定一些标记了宽度和高度的信封，宽度和高度以整数对形式 (w, h) 出现。当另一个信封的宽度和高度都比这个信封大的时候，这个信封就可以放进另一个信封里，如同俄罗斯套娃一样。\n",
    "\n",
    "请计算最多能有多少个信封能组成一组“俄罗斯套娃”信封（即可以把一个信封放到另一个信封里面）。\n",
    "\n",
    "说明:\n",
    "不允许旋转信封。\n",
    "\n",
    "示例:\n",
    "\n",
    "输入: envelopes = [[5,4],[6,4],[6,7],[2,3]]\n",
    "输出: 3 \n",
    "解释: 最多信封的个数为 3, 组合为: [2,3] => [5,4] => [6,7]。\n",
    "\n",
    "```"
   ]
  },
  {
   "cell_type": "code",
   "execution_count": null,
   "metadata": {},
   "outputs": [],
   "source": []
  },
  {
   "cell_type": "markdown",
   "metadata": {},
   "source": [
    "[题解](https://leetcode-cn.com/problems/russian-doll-envelopes/solution/zui-chang-di-zeng-zi-xu-lie-kuo-zhan-dao-er-wei-er/)"
   ]
  },
  {
   "cell_type": "code",
   "execution_count": null,
   "metadata": {},
   "outputs": [],
   "source": []
  },
  {
   "cell_type": "code",
   "execution_count": 1,
   "metadata": {},
   "outputs": [],
   "source": [
    "from typing import *"
   ]
  },
  {
   "cell_type": "code",
   "execution_count": 2,
   "metadata": {},
   "outputs": [],
   "source": [
    "class Solution:\n",
    "    def maxEnvelopes(self, envelopes: List[List[int]]) -> int:\n",
    "        if envelopes==None or len(envelopes)<=0:\n",
    "            return 0\n",
    "\n",
    "        envelopes = sorted(envelopes, key=lambda x:(x[0], -x[1]))\n",
    "        f = [envelopes[0][1]]\n",
    "\n",
    "        for i in range(1, len(envelopes)):\n",
    "            num = envelopes[i][1]\n",
    "            if num > f[-1]:\n",
    "                f.append(num)\n",
    "            else:\n",
    "                index = self.binarySearch(f, num)\n",
    "                f[index] = num\n",
    "            #print(f)\n",
    "        \n",
    "        return len(f)\n",
    "\n",
    "    def binarySearch(self, nums, target):\n",
    "        left = 0\n",
    "        right = len(nums)-1\n",
    "\n",
    "        while left<=right:\n",
    "            mid = (left + right) >> 1\n",
    "            if nums[mid]>target:\n",
    "                right = mid-1\n",
    "            elif nums[mid]<target:\n",
    "                left = mid+1\n",
    "            else:\n",
    "                return mid\n",
    "\n",
    "        return left\n",
    "        \n",
    "\n"
   ]
  },
  {
   "cell_type": "code",
   "execution_count": null,
   "metadata": {},
   "outputs": [],
   "source": []
  }
 ],
 "metadata": {
  "kernelspec": {
   "display_name": "Python 3",
   "language": "python",
   "name": "python3"
  },
  "language_info": {
   "codemirror_mode": {
    "name": "ipython",
    "version": 3
   },
   "file_extension": ".py",
   "mimetype": "text/x-python",
   "name": "python",
   "nbconvert_exporter": "python",
   "pygments_lexer": "ipython3",
   "version": "3.8.5"
  }
 },
 "nbformat": 4,
 "nbformat_minor": 4
}
