{
 "cells": [
  {
   "cell_type": "code",
   "execution_count": 1,
   "metadata": {},
   "outputs": [],
   "source": [
    "from typing import *"
   ]
  },
  {
   "cell_type": "markdown",
   "metadata": {},
   "source": [
    "[剑指 Offer 09. 用两个栈实现队列](https://leetcode-cn.com/problems/yong-liang-ge-zhan-shi-xian-dui-lie-lcof/)\n",
    "用两个栈实现一个队列。队列的声明如下，请实现它的两个函数 appendTail 和 deleteHead ，分别完成在队列尾部插入整数和在队列头部删除整数的功能。(若队列中没有元素，deleteHead 操作返回 -1 )"
   ]
  },
  {
   "cell_type": "code",
   "execution_count": 3,
   "metadata": {},
   "outputs": [],
   "source": [
    "class CQueue:\n",
    "\n",
    "    def __init__(self):\n",
    "        self.stack1 = []\n",
    "        self.stack2 = []\n",
    "\n",
    "    def appendTail(self, value: int) -> None:\n",
    "        if len(self.stack2)>0:\n",
    "            while len(self.stack2):\n",
    "                t = self.stack2.pop()\n",
    "                self.stack1.append(t)    \n",
    "        self.stack1.append(value)\n",
    "        \n",
    "    def deleteHead(self) -> int:\n",
    "        if len(self.stack1)>0:\n",
    "            while len(self.stack1):\n",
    "                t = self.stack1.pop()\n",
    "                self.stack2.append(t)\n",
    "        if len(self.stack2):\n",
    "            return self.stack2.pop()\n",
    "        else:\n",
    "            return -1"
   ]
  },
  {
   "cell_type": "code",
   "execution_count": 4,
   "metadata": {},
   "outputs": [],
   "source": [
    "class CQueue:\n",
    "\n",
    "    def __init__(self):\n",
    "        self.stack1 = []\n",
    "        self.stack2 = []\n",
    "\n",
    "    def appendTail(self, value: int) -> None:\n",
    "        self.stack1.append(value)\n",
    "        \n",
    "    def deleteHead(self) -> int:\n",
    "        if len(self.stack2)<=0:\n",
    "            if len(self.stack1)>0:\n",
    "                while len(self.stack1):\n",
    "                    t = self.stack1.pop()\n",
    "                    self.stack2.append(t)\n",
    "        if len(self.stack2):\n",
    "            return self.stack2.pop()\n",
    "        else:\n",
    "            return -1\n"
   ]
  },
  {
   "cell_type": "code",
   "execution_count": null,
   "metadata": {},
   "outputs": [],
   "source": []
  }
 ],
 "metadata": {
  "kernelspec": {
   "display_name": "Python 3",
   "language": "python",
   "name": "python3"
  },
  "language_info": {
   "codemirror_mode": {
    "name": "ipython",
    "version": 3
   },
   "file_extension": ".py",
   "mimetype": "text/x-python",
   "name": "python",
   "nbconvert_exporter": "python",
   "pygments_lexer": "ipython3",
   "version": "3.5.2"
  }
 },
 "nbformat": 4,
 "nbformat_minor": 4
}
