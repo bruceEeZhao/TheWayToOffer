{
 "cells": [
  {
   "cell_type": "markdown",
   "metadata": {},
   "source": [
    "[剑指 Offer 36. 二叉搜索树与双向链表](https://leetcode-cn.com/problems/er-cha-sou-suo-shu-yu-shuang-xiang-lian-biao-lcof/)"
   ]
  },
  {
   "cell_type": "code",
   "execution_count": null,
   "metadata": {},
   "outputs": [],
   "source": []
  },
  {
   "cell_type": "code",
   "execution_count": null,
   "metadata": {},
   "outputs": [],
   "source": []
  },
  {
   "cell_type": "code",
   "execution_count": 1,
   "metadata": {},
   "outputs": [],
   "source": [
    "from typing import *"
   ]
  },
  {
   "cell_type": "markdown",
   "metadata": {},
   "source": [
    "## 1. 方法一\n",
    "1. 先将搜索树按中序遍历，把遍历的节点按顺序加入数组中\n",
    "2. 然后再生成链表"
   ]
  },
  {
   "cell_type": "code",
   "execution_count": 3,
   "metadata": {},
   "outputs": [],
   "source": [
    "\"\"\"\n",
    "# Definition for a Node.\n",
    "class Node:\n",
    "    def __init__(self, val, left=None, right=None):\n",
    "        self.val = val\n",
    "        self.left = left\n",
    "        self.right = right\n",
    "\"\"\"\n",
    "class Solution:\n",
    "    def treeToDoublyList(self, root: 'Node') -> 'Node':\n",
    "        if root==None:\n",
    "            return None\n",
    "        walklist = []\n",
    "\n",
    "        def walk(root):\n",
    "            if root==None:\n",
    "                return\n",
    "\n",
    "            if root.left:\n",
    "                walk(root.left)\n",
    "            walklist.append(root)\n",
    "            if root.right:\n",
    "                walk(root.right)\n",
    "        \n",
    "        walk(root)\n",
    "\n",
    "        for i in range(len(walklist)):\n",
    "            walklist[i].left = walklist[(i-1)%len(walklist)]\n",
    "            walklist[i].right = walklist[(i+1)%len(walklist)]\n",
    "\n",
    "        return walklist[0]"
   ]
  },
  {
   "cell_type": "code",
   "execution_count": null,
   "metadata": {},
   "outputs": [],
   "source": []
  },
  {
   "cell_type": "code",
   "execution_count": null,
   "metadata": {},
   "outputs": [],
   "source": []
  },
  {
   "cell_type": "markdown",
   "metadata": {},
   "source": [
    "## 2. 方法二\n",
    "对于一个子数，根节点的前驱是它的左子树最右边的节点，它的后继是它的右子树的最左边的节点"
   ]
  },
  {
   "cell_type": "code",
   "execution_count": 2,
   "metadata": {},
   "outputs": [],
   "source": [
    "\"\"\"\n",
    "# Definition for a Node.\n",
    "\n",
    "\"\"\"\n",
    "class Node:\n",
    "    def __init__(self, val, left=None, right=None):\n",
    "        self.val = val\n",
    "        self.left = left\n",
    "        self.right = right\n",
    "        \n",
    "class Solution:\n",
    "    def treeToDoublyList(self, root: 'Node') -> 'Node':\n",
    "        if root==None:\n",
    "            return None\n",
    "        \n",
    "        self.head = None\n",
    "        self.tail = None\n",
    "        self.walk(root)\n",
    "\n",
    "        self.head.left = self.tail\n",
    "        self.tail.right = self.head\n",
    "        return self.head\n",
    "\n",
    "\n",
    "    \n",
    "    def walk(self, root):\n",
    "        if root==None:\n",
    "            return\n",
    "        # 递归左子树\n",
    "        self.walk(root.left)\n",
    "\n",
    "        # 根节点\n",
    "        # 根节点的前驱指向左子树的尾节点\n",
    "        # 左子树的尾节点的后继指向根节点\n",
    "        if self.tail:\n",
    "            root.left = self.tail\n",
    "            self.tail.right = root\n",
    "        else:\n",
    "            self.head = root\n",
    "        self.tail = root\n",
    "\n",
    "        # 递归右子树\n",
    "        self.walk(root.right)"
   ]
  },
  {
   "cell_type": "code",
   "execution_count": null,
   "metadata": {},
   "outputs": [],
   "source": []
  }
 ],
 "metadata": {
  "kernelspec": {
   "display_name": "Python 3",
   "language": "python",
   "name": "python3"
  },
  "language_info": {
   "codemirror_mode": {
    "name": "ipython",
    "version": 3
   },
   "file_extension": ".py",
   "mimetype": "text/x-python",
   "name": "python",
   "nbconvert_exporter": "python",
   "pygments_lexer": "ipython3",
   "version": "3.8.5"
  }
 },
 "nbformat": 4,
 "nbformat_minor": 4
}
