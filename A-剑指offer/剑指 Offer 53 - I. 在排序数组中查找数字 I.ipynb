{
 "cells": [
  {
   "cell_type": "markdown",
   "metadata": {},
   "source": [
    "[剑指 Offer 53 - I. 在排序数组中查找数字 I](https://leetcode-cn.com/problems/zai-pai-xu-shu-zu-zhong-cha-zhao-shu-zi-lcof/)\n",
    "\n",
    "```\n",
    "统计一个数字在排序数组中出现的次数。\n",
    "\n",
    " \n",
    "\n",
    "示例 1:\n",
    "\n",
    "输入: nums = [5,7,7,8,8,10], target = 8\n",
    "输出: 2\n",
    "\n",
    "示例 2:\n",
    "\n",
    "输入: nums = [5,7,7,8,8,10], target = 6\n",
    "输出: 0\n",
    "\n",
    "```"
   ]
  },
  {
   "cell_type": "code",
   "execution_count": null,
   "metadata": {},
   "outputs": [],
   "source": []
  },
  {
   "cell_type": "code",
   "execution_count": null,
   "metadata": {},
   "outputs": [],
   "source": []
  },
  {
   "cell_type": "code",
   "execution_count": 2,
   "metadata": {},
   "outputs": [],
   "source": [
    "from typing import *"
   ]
  },
  {
   "cell_type": "code",
   "execution_count": 3,
   "metadata": {},
   "outputs": [],
   "source": [
    "class Solution:\n",
    "    def search(self, nums: List[int], target: int) -> int:\n",
    "        if nums==None or len(nums)==0:\n",
    "            return 0\n",
    "\n",
    "        if target<nums[0] or target>nums[-1]:\n",
    "            return 0\n",
    "\n",
    "        first = self.findFirst(nums, target, 0, len(nums)-1)\n",
    "        last = self.findLast(nums, target, 0, len(nums)-1)\n",
    "\n",
    "        # print(first, last)\n",
    "        if first == last == -1:\n",
    "            return 0\n",
    "\n",
    "        else:\n",
    "            return last-first+1\n",
    "\n",
    "\n",
    "\n",
    "    def findFirst(self, nums, target, left, right):\n",
    "        if left>right:\n",
    "            return -1\n",
    "        loc = -1\n",
    "        mid = (left+right)//2\n",
    "        if nums[mid] == target:\n",
    "            if mid>0 and nums[mid-1]<target:\n",
    "                loc = mid\n",
    "                return loc \n",
    "            elif mid==0:\n",
    "                loc = mid\n",
    "                return loc\n",
    "            else:\n",
    "                loc = self.findFirst(nums, target, left, mid-1)\n",
    "        if nums[mid] > target:\n",
    "            loc = self.findFirst(nums, target, left, mid-1)\n",
    "        if nums[mid] < target:\n",
    "            loc = self.findFirst(nums, target, mid+1, right)\n",
    "\n",
    "        return loc        \n",
    "\n",
    "    def findLast(self, nums, target, left, right):\n",
    "        if left>right:\n",
    "            return -1\n",
    "        loc = -1\n",
    "        mid = (left+right)//2\n",
    "        if nums[mid] == target:\n",
    "            if mid+1 < len(nums) and nums[mid+1]>target:\n",
    "                loc = mid\n",
    "                return loc \n",
    "            elif mid == len(nums)-1:\n",
    "                loc = mid\n",
    "                return loc \n",
    "            else:\n",
    "                loc = self.findLast(nums, target, mid+1, right)\n",
    "        if nums[mid] > target:\n",
    "            loc = self.findLast(nums, target, left, mid-1)\n",
    "        if nums[mid] < target:\n",
    "            loc = self.findLast(nums, target, mid+1, right)\n",
    "\n",
    "        return loc   "
   ]
  },
  {
   "cell_type": "code",
   "execution_count": null,
   "metadata": {},
   "outputs": [],
   "source": []
  }
 ],
 "metadata": {
  "kernelspec": {
   "display_name": "Python 3",
   "language": "python",
   "name": "python3"
  },
  "language_info": {
   "codemirror_mode": {
    "name": "ipython",
    "version": 3
   },
   "file_extension": ".py",
   "mimetype": "text/x-python",
   "name": "python",
   "nbconvert_exporter": "python",
   "pygments_lexer": "ipython3",
   "version": "3.8.5"
  }
 },
 "nbformat": 4,
 "nbformat_minor": 4
}
