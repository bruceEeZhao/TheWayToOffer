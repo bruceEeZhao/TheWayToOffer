{
 "cells": [
  {
   "cell_type": "markdown",
   "metadata": {},
   "source": [
    "[剑指 Offer 53 - II. 0～n-1中缺失的数字](https://leetcode-cn.com/problems/que-shi-de-shu-zi-lcof/)\n",
    "\n",
    "```\n",
    "一个长度为n-1的递增排序数组中的所有数字都是唯一的，并且每个数字都在范围0～n-1之内。在范围0～n-1内的n个数字中有且只有一个数字不在该数组中，请找出这个数字。\n",
    "\n",
    " \n",
    "\n",
    "示例 1:\n",
    "\n",
    "输入: [0,1,3]\n",
    "输出: 2\n",
    "\n",
    "示例 2:\n",
    "\n",
    "输入: [0,1,2,3,4,5,6,7,9]\n",
    "输出: 8\n",
    "```"
   ]
  },
  {
   "cell_type": "code",
   "execution_count": null,
   "metadata": {},
   "outputs": [],
   "source": []
  },
  {
   "cell_type": "code",
   "execution_count": null,
   "metadata": {},
   "outputs": [],
   "source": []
  },
  {
   "cell_type": "code",
   "execution_count": 1,
   "metadata": {},
   "outputs": [],
   "source": [
    "from typing import *"
   ]
  },
  {
   "cell_type": "code",
   "execution_count": 2,
   "metadata": {},
   "outputs": [],
   "source": [
    "class Solution:\n",
    "    def missingNumber(self, nums: List[int]) -> int:\n",
    "        if nums==None or len(nums)==0:\n",
    "            return 0\n",
    "\n",
    "        def find(left, right):\n",
    "            if left>right:\n",
    "                return\n",
    "\n",
    "            num = -1\n",
    "            mid = (left + right)//2\n",
    "            if nums[mid] > mid:\n",
    "                if mid-1>=0 and nums[mid-1]==mid-1:\n",
    "                    num = mid\n",
    "                    return num\n",
    "                elif mid==0:\n",
    "                    return 0\n",
    "                else:\n",
    "                    num = find(left, mid-1)\n",
    "            else:\n",
    "                if mid==right:\n",
    "                    return mid+1\n",
    "                else:\n",
    "                    num = find(mid + 1, right)\n",
    "\n",
    "            return num\n",
    "\n",
    "        return find(0, len(nums)-1)"
   ]
  },
  {
   "cell_type": "code",
   "execution_count": null,
   "metadata": {},
   "outputs": [],
   "source": []
  }
 ],
 "metadata": {
  "kernelspec": {
   "display_name": "Python 3",
   "language": "python",
   "name": "python3"
  },
  "language_info": {
   "codemirror_mode": {
    "name": "ipython",
    "version": 3
   },
   "file_extension": ".py",
   "mimetype": "text/x-python",
   "name": "python",
   "nbconvert_exporter": "python",
   "pygments_lexer": "ipython3",
   "version": "3.8.5"
  }
 },
 "nbformat": 4,
 "nbformat_minor": 4
}
