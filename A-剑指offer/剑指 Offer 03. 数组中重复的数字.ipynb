{
 "cells": [
  {
   "cell_type": "markdown",
   "metadata": {},
   "source": [
    "题目： [剑指 Offer 03. 数组中重复的数字](https://leetcode-cn.com/problems/shu-zu-zhong-zhong-fu-de-shu-zi-lcof/)\n",
    "\n",
    "在一个长度为 n 的数组 nums 里的所有数字都在 0～n-1 的范围内。数组中某些数字是重复的，但不知道有几个数字重复了，也不知道每个数字重复了几次。请找出数组中任意一个重复的数字。\n",
    "\n",
    "示例 1：\n",
    "\n",
    "```\n",
    "输入：\n",
    "[2, 3, 1, 0, 2, 5, 3]\n",
    "输出：2 或 3 \n",
    "```"
   ]
  },
  {
   "cell_type": "markdown",
   "metadata": {},
   "source": [
    "方法一： 先对数组进行排序，然后再找出重复的数字。用快排的方式。时间复杂度为 o(nlogn)"
   ]
  },
  {
   "cell_type": "code",
   "execution_count": 1,
   "metadata": {},
   "outputs": [],
   "source": [
    "from typing import *"
   ]
  },
  {
   "cell_type": "code",
   "execution_count": 2,
   "metadata": {},
   "outputs": [],
   "source": [
    "'''\n",
    "从小到大\n",
    "'''\n",
    "def quickSort(nums: List[int], left: int, right: int):\n",
    "    if left >= right:\n",
    "         return\n",
    "    split = nums[left]\n",
    "    l = left\n",
    "    r = right\n",
    "    p = left\n",
    "    \n",
    "    while l < r:\n",
    "        while l<r and nums[r] > split:\n",
    "            r-=1\n",
    "\n",
    "        nums[l] = nums[r]\n",
    "        \n",
    "        while l < r and nums[l] <= split:\n",
    "            l+=1\n",
    "            \n",
    "        nums[r] = nums[l]\n",
    "        #print(nums, l,r)\n",
    "        \n",
    "    nums[l] = split\n",
    "    \n",
    "    quickSort(nums, left, l-1)\n",
    "    quickSort(nums, l+1, right)\n",
    "            \n"
   ]
  },
  {
   "cell_type": "code",
   "execution_count": 3,
   "metadata": {},
   "outputs": [
    {
     "name": "stdout",
     "output_type": "stream",
     "text": [
      "[1, 2, 3, 4, 5, 6]\n"
     ]
    }
   ],
   "source": [
    "nums = [1,2,3,4,5,6]\n",
    "quickSort(nums,0,5)\n",
    "print(nums)"
   ]
  },
  {
   "cell_type": "code",
   "execution_count": 4,
   "metadata": {},
   "outputs": [],
   "source": [
    "class Solution:\n",
    "    def findRepeatNumber(self, nums: List[int]) -> int:\n",
    "        self.quickSort(nums,0, len(nums)-1)\n",
    "\n",
    "        for i in range(len(nums)-1):\n",
    "            if nums[i] == nums[i+1]:\n",
    "                return nums[i]\n",
    "\n",
    "\n",
    "    def quickSort(self, nums: List[int], left: int, right: int):\n",
    "        if left >= right:\n",
    "            return\n",
    "        split = nums[left]\n",
    "        l = left\n",
    "        r = right\n",
    "        p = left\n",
    "        \n",
    "        while l < r:\n",
    "            while l<r and nums[r] > split:\n",
    "                r-=1\n",
    "\n",
    "            nums[l] = nums[r]\n",
    "            \n",
    "            while l < r and nums[l] <= split:\n",
    "                l+=1\n",
    "                \n",
    "            nums[r] = nums[l]\n",
    "            #print(nums, l,r)\n",
    "            \n",
    "        nums[l] = split\n",
    "        \n",
    "        self.quickSort(nums, left, l-1)\n",
    "        self.quickSort(nums, l+1, right)"
   ]
  },
  {
   "cell_type": "markdown",
   "metadata": {},
   "source": [
    "方法二：使用哈希表，空间复杂度为o(n)"
   ]
  },
  {
   "cell_type": "code",
   "execution_count": 5,
   "metadata": {},
   "outputs": [],
   "source": [
    "class Solution:\n",
    "    def findRepeatNumber(self, nums: List[int]) -> int:\n",
    "        hashmap = dict()\n",
    "\n",
    "        for i in nums:\n",
    "            # 已经存在key\n",
    "            if hashmap.get(i, None) != None:\n",
    "                return i\n",
    "            else:\n",
    "                hashmap[i] = i\n",
    "\n",
    "        return -1"
   ]
  },
  {
   "cell_type": "markdown",
   "metadata": {},
   "source": [
    "方法三：\n",
    "题目限定数组中的数字在0-n-1之间，因此，如果没有重复的数字，那么在排好序的情况下，应该是数组的下标与该下标对应的值相同。\n",
    "\n",
    "解决思路：从头到尾扫描数组中的每个数字。当扫描到下标为i的数字时，将这个数字（值用tmp表示）与i比较，看是否相等：  \n",
    "如果是：则说明这个数字在排序后正确的位置上；  \n",
    "如果不是：则将其与第tmp位置上的数字进行比较。  \n",
    "如果相等，则说明时该数字是重复的数字，直接返回该数字；  \n",
    "如果不是，则将其与第tmp位置的数字进行交换。\n",
    "\n",
    "时间复杂度o(n)，空间复杂度 O(1)"
   ]
  },
  {
   "cell_type": "code",
   "execution_count": 6,
   "metadata": {},
   "outputs": [],
   "source": [
    "class Solution:\n",
    "    def findRepeatNumber(self, nums: List[int]) -> int:\n",
    "        i = 0\n",
    "        while i<len(nums):\n",
    "            if  i==nums[i]:\n",
    "                i+=1\n",
    "                continue\n",
    "            else:\n",
    "                tmp = nums[i]\n",
    "                if nums[tmp] != tmp:\n",
    "                    nums[i], nums[tmp] = nums[tmp], nums[i]\n",
    "                else:\n",
    "                    return tmp\n",
    "\n",
    "        return -1"
   ]
  },
  {
   "cell_type": "code",
   "execution_count": null,
   "metadata": {},
   "outputs": [],
   "source": []
  }
 ],
 "metadata": {
  "kernelspec": {
   "display_name": "Python 3",
   "language": "python",
   "name": "python3"
  },
  "language_info": {
   "codemirror_mode": {
    "name": "ipython",
    "version": 3
   },
   "file_extension": ".py",
   "mimetype": "text/x-python",
   "name": "python",
   "nbconvert_exporter": "python",
   "pygments_lexer": "ipython3",
   "version": "3.8.5"
  }
 },
 "nbformat": 4,
 "nbformat_minor": 4
}
