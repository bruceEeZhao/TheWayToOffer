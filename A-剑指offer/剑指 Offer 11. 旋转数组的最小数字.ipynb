{
 "cells": [
  {
   "cell_type": "markdown",
   "metadata": {},
   "source": [
    "[旋转数组的最小数字](https://leetcode-cn.com/problems/xuan-zhuan-shu-zu-de-zui-xiao-shu-zi-lcof/)\n",
    "\n",
    "把一个数组最开始的若干个元素搬到数组的末尾，我们称之为数组的旋转。输入一个递增排序的数组的一个旋转，输出旋转数组的最小元素。例如，数组 [3,4,5,1,2] 为 [1,2,3,4,5] 的一个旋转，该数组的最小值为1。  \n",
    "\n",
    "```\n",
    "示例 1：\n",
    "\n",
    "输入：[3,4,5,1,2]\n",
    "输出：1\n",
    "\n",
    "示例 2：\n",
    "\n",
    "输入：[2,2,2,0,1]\n",
    "输出：0\n",
    "```"
   ]
  },
  {
   "cell_type": "code",
   "execution_count": 1,
   "metadata": {},
   "outputs": [],
   "source": [
    "from typing import *\n",
    "\n",
    "class Solution:\n",
    "    def minArray(self, numbers: List[int]) -> int:\n",
    "        p1 = 0\n",
    "        p2 = len(numbers)-1\n",
    "\n",
    "        if numbers[p1] < numbers[p2]:\n",
    "            return numbers[p1]\n",
    "\n",
    "        else:\n",
    "            while p1 < p2:\n",
    "                mid = (p1+p2)//2\n",
    "\n",
    "                if numbers[p1] == numbers[p2] and numbers[p1]==numbers[mid]:\n",
    "                    return self.minOrder(numbers, p1, p2)\n",
    "\n",
    "                if numbers[mid] > numbers[p2]:\n",
    "                    p1 = mid+1\n",
    "                if numbers[mid] <= numbers[p2]:\n",
    "                    p2 = mid\n",
    "\n",
    "            if p1==p2:\n",
    "                return numbers[p1]\n",
    "\n",
    "    def minOrder(self, numbers, p1, p2):\n",
    "        re = numbers[p1]\n",
    "        # 顺序查找\n",
    "        for i in range(p1+1,p2+1):\n",
    "            if re > numbers[i]:\n",
    "                re = numbers[i]\n",
    "        return re"
   ]
  },
  {
   "cell_type": "markdown",
   "metadata": {},
   "source": [
    "使用二分查找"
   ]
  }
 ],
 "metadata": {
  "kernelspec": {
   "display_name": "Python 3",
   "language": "python",
   "name": "python3"
  },
  "language_info": {
   "codemirror_mode": {
    "name": "ipython",
    "version": 3
   },
   "file_extension": ".py",
   "mimetype": "text/x-python",
   "name": "python",
   "nbconvert_exporter": "python",
   "pygments_lexer": "ipython3",
   "version": "3.8.5"
  }
 },
 "nbformat": 4,
 "nbformat_minor": 4
}
