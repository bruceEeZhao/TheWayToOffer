{
 "cells": [
  {
   "cell_type": "markdown",
   "metadata": {},
   "source": [
    "[剑指 Offer 56 - I. 数组中数字出现的次数](https://leetcode-cn.com/problems/shu-zu-zhong-shu-zi-chu-xian-de-ci-shu-lcof/)\n",
    "\n",
    "```\n",
    "一个整型数组 nums 里除两个数字之外，其他数字都出现了两次。请写程序找出这两个只出现一次的数字。要求时间复杂度是O(n)，空间复杂度是O(1)。\n",
    "\n",
    " \n",
    "\n",
    "示例 1：\n",
    "\n",
    "输入：nums = [4,1,4,6]\n",
    "输出：[1,6] 或 [6,1]\n",
    "\n",
    "示例 2：\n",
    "\n",
    "输入：nums = [1,2,10,4,1,4,3,3]\n",
    "输出：[2,10] 或 [10,2]\n",
    "```"
   ]
  },
  {
   "cell_type": "markdown",
   "metadata": {},
   "source": [
    "这道题使用了异或的性质\n",
    "```\n",
    "相同为0，不同为1\n",
    "0^0=0\n",
    "0^1=1\n",
    "1^0=1\n",
    "1^1=0\n",
    "```"
   ]
  },
  {
   "cell_type": "code",
   "execution_count": null,
   "metadata": {},
   "outputs": [],
   "source": []
  },
  {
   "cell_type": "code",
   "execution_count": 1,
   "metadata": {},
   "outputs": [],
   "source": [
    "from typing import *"
   ]
  },
  {
   "cell_type": "code",
   "execution_count": 2,
   "metadata": {},
   "outputs": [],
   "source": [
    "class Solution:\n",
    "    def singleNumbers(self, nums: List[int]) -> List[int]:\n",
    "        if len(nums)<=0:\n",
    "            return []\n",
    "\n",
    "        flag = nums[0]\n",
    "        for i in range(1, len(nums)):\n",
    "            flag = flag ^ nums[i]\n",
    "\n",
    "        bit = 1\n",
    "        while bit & flag==0:\n",
    "            bit = bit << 1\n",
    "\n",
    "        a = b = 0\n",
    "        for i in range(len(nums)):\n",
    "            if bit & nums[i]:\n",
    "                a = a ^ nums[i]\n",
    "            else:\n",
    "                b = b ^ nums[i]\n",
    "\n",
    "        return [a, b]"
   ]
  },
  {
   "cell_type": "code",
   "execution_count": null,
   "metadata": {},
   "outputs": [],
   "source": []
  }
 ],
 "metadata": {
  "kernelspec": {
   "display_name": "Python 3",
   "language": "python",
   "name": "python3"
  },
  "language_info": {
   "codemirror_mode": {
    "name": "ipython",
    "version": 3
   },
   "file_extension": ".py",
   "mimetype": "text/x-python",
   "name": "python",
   "nbconvert_exporter": "python",
   "pygments_lexer": "ipython3",
   "version": "3.8.5"
  }
 },
 "nbformat": 4,
 "nbformat_minor": 4
}
