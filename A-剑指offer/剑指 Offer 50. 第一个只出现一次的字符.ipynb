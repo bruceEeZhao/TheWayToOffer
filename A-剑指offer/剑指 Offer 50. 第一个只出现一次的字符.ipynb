{
 "cells": [
  {
   "cell_type": "markdown",
   "metadata": {},
   "source": [
    "[剑指 Offer 50. 第一个只出现一次的字符](https://leetcode-cn.com/problems/di-yi-ge-zhi-chu-xian-yi-ci-de-zi-fu-lcof/)\n",
    "\n",
    "```\n",
    "在字符串 s 中找出第一个只出现一次的字符。如果没有，返回一个单空格。 s 只包含小写字母。\n",
    "\n",
    "示例:\n",
    "\n",
    "s = \"abaccdeff\"\n",
    "返回 \"b\"\n",
    "\n",
    "s = \"\" \n",
    "返回 \" \"\n",
    "```"
   ]
  },
  {
   "cell_type": "code",
   "execution_count": null,
   "metadata": {},
   "outputs": [],
   "source": []
  },
  {
   "cell_type": "code",
   "execution_count": null,
   "metadata": {},
   "outputs": [],
   "source": []
  },
  {
   "cell_type": "code",
   "execution_count": 2,
   "metadata": {},
   "outputs": [],
   "source": [
    "from typing import *"
   ]
  },
  {
   "cell_type": "code",
   "execution_count": 3,
   "metadata": {},
   "outputs": [],
   "source": [
    "class Solution:\n",
    "    def firstUniqChar(self, s: str) -> str:\n",
    "        if s==\"\":\n",
    "            return \" \"\n",
    "        \n",
    "        noRepeted = {}\n",
    "        repeted = {}\n",
    "\n",
    "        for i in range(len(s)):\n",
    "            if s[i] in repeted:\n",
    "                continue\n",
    "\n",
    "            if s[i] in noRepeted:\n",
    "                del noRepeted[s[i]]\n",
    "                repeted[s[i]] = s[i]\n",
    "            else:\n",
    "                noRepeted[s[i]] = [i]\n",
    "\n",
    "        if len(noRepeted)>0: \n",
    "            d = sorted(noRepeted.items(), key=lambda t:t[1])\n",
    "            return d[0][0]\n",
    "\n",
    "        else:\n",
    "            return \" \""
   ]
  },
  {
   "cell_type": "code",
   "execution_count": null,
   "metadata": {},
   "outputs": [],
   "source": []
  }
 ],
 "metadata": {
  "kernelspec": {
   "display_name": "Python 3",
   "language": "python",
   "name": "python3"
  },
  "language_info": {
   "codemirror_mode": {
    "name": "ipython",
    "version": 3
   },
   "file_extension": ".py",
   "mimetype": "text/x-python",
   "name": "python",
   "nbconvert_exporter": "python",
   "pygments_lexer": "ipython3",
   "version": "3.8.5"
  }
 },
 "nbformat": 4,
 "nbformat_minor": 4
}
