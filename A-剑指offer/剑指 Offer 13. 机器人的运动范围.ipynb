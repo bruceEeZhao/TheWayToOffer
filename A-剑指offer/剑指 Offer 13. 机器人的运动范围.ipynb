{
 "cells": [
  {
   "cell_type": "markdown",
   "metadata": {},
   "source": [
    "[剑指 Offer 13. 机器人的运动范围](https://leetcode-cn.com/problems/ji-qi-ren-de-yun-dong-fan-wei-lcof/)\n",
    "\n",
    "地上有一个m行n列的方格，从坐标 [0,0] 到坐标 [m-1,n-1] 。一个机器人从坐标 [0, 0] 的格子开始移动，它每次可以向左、右、上、下移动一格（不能移动到方格外），也不能进入行坐标和列坐标的数位之和大于k的格子。例如，当k为18时，机器人能够进入方格 [35, 37] ，因为3+5+3+7=18。但它不能进入方格 [35, 38]，因为3+5+3+8=19。请问该机器人能够到达多少个格子？\n",
    "\n",
    "```\n",
    "\n",
    "示例 1：\n",
    "\n",
    "输入：m = 2, n = 3, k = 1\n",
    "输出：3\n",
    "\n",
    "示例 2：\n",
    "\n",
    "输入：m = 3, n = 1, k = 0\n",
    "输出：1\n",
    "\n",
    "提示：\n",
    "\n",
    "    1 <= n,m <= 100\n",
    "    0 <= k <= 20\n",
    "```"
   ]
  },
  {
   "cell_type": "code",
   "execution_count": 5,
   "metadata": {},
   "outputs": [],
   "source": [
    "from typing import *\n",
    "\n",
    "class Solution:\n",
    "    def movingCount(self, m: int, n: int, k: int) -> int:\n",
    "        if m<=0 or n<=0 or k<0:\n",
    "            return 0\n",
    "\n",
    "        visited = [[0 for i in range(n)] for i in range(m)]\n",
    "\n",
    "        return self.movingCountcore(m,n,k,0,0,visited)\n",
    "\n",
    "    def movingCountcore(self, rows,cols,k,row,col,visited):\n",
    "        count = 0\n",
    "\n",
    "        if row>=0 and row<rows and col>=0 and col<cols and self.getDigit(row) + self.getDigit(col)<=k and visited[row][col]==0:\n",
    "            visited[row][col] = 1\n",
    "#             print(visited)\n",
    "#             count += 1 + self.movingCountcore(rows, cols, k, row+1, col, visited)\n",
    "#             + self.movingCountcore(rows, cols, k, row, col+1, visited)\n",
    "#             + self.movingCountcore(rows, cols, k, row-1, col, visited)\n",
    "#             + self.movingCountcore(rows, cols, k, row, col-1, visited)\n",
    "#             print(row, col, count)\n",
    "            visited[row][col] = 1\n",
    "            # print(visited)\n",
    "#             count = 1 \n",
    "            r1 = self.movingCountcore(rows, cols, k, row+1, col, visited)\n",
    "            r2 =  self.movingCountcore(rows, cols, k, row, col+1, visited)\n",
    "            r3 =  self.movingCountcore(rows, cols, k, row-1, col, visited)\n",
    "            r4 =  self.movingCountcore(rows, cols, k, row, col-1, visited)\n",
    "            count=r1+r2+r3+r4+1\n",
    "\n",
    "        return count\n",
    "\n",
    "    def getDigit(self, num):\n",
    "        ret = 0\n",
    "\n",
    "        while num>0:\n",
    "            ret += num%10\n",
    "            num = num//10\n",
    "\n",
    "        return ret"
   ]
  },
  {
   "cell_type": "code",
   "execution_count": null,
   "metadata": {},
   "outputs": [],
   "source": []
  },
  {
   "cell_type": "code",
   "execution_count": 6,
   "metadata": {},
   "outputs": [
    {
     "data": {
      "text/plain": [
       "2"
      ]
     },
     "execution_count": 6,
     "metadata": {},
     "output_type": "execute_result"
    }
   ],
   "source": [
    "s = Solution()\n",
    "s.movingCount(1,2,1)"
   ]
  },
  {
   "cell_type": "code",
   "execution_count": null,
   "metadata": {},
   "outputs": [],
   "source": []
  }
 ],
 "metadata": {
  "kernelspec": {
   "display_name": "Python 3",
   "language": "python",
   "name": "python3"
  },
  "language_info": {
   "codemirror_mode": {
    "name": "ipython",
    "version": 3
   },
   "file_extension": ".py",
   "mimetype": "text/x-python",
   "name": "python",
   "nbconvert_exporter": "python",
   "pygments_lexer": "ipython3",
   "version": "3.8.5"
  }
 },
 "nbformat": 4,
 "nbformat_minor": 4
}
