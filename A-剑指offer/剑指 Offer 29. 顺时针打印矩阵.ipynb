{
 "cells": [
  {
   "cell_type": "markdown",
   "metadata": {},
   "source": [
    "[剑指 Offer 29. 顺时针打印矩阵](https://leetcode-cn.com/problems/shun-shi-zhen-da-yin-ju-zhen-lcof/)\n",
    "\n",
    "```\n",
    "输入一个矩阵，按照从外向里以顺时针的顺序依次打印出每一个数字。\n",
    "\n",
    " \n",
    "\n",
    "示例 1：\n",
    "\n",
    "输入：matrix = [[1,2,3],[4,5,6],[7,8,9]]\n",
    "输出：[1,2,3,6,9,8,7,4,5]\n",
    "\n",
    "示例 2：\n",
    "\n",
    "输入：matrix = [[1,2,3,4],[5,6,7,8],[9,10,11,12]]\n",
    "输出：[1,2,3,4,8,12,11,10,9,5,6,7]\n",
    "\n",
    " \n",
    "```"
   ]
  },
  {
   "cell_type": "code",
   "execution_count": null,
   "metadata": {},
   "outputs": [],
   "source": []
  },
  {
   "cell_type": "code",
   "execution_count": null,
   "metadata": {},
   "outputs": [],
   "source": []
  },
  {
   "cell_type": "code",
   "execution_count": 1,
   "metadata": {},
   "outputs": [],
   "source": [
    "from typing import *"
   ]
  },
  {
   "cell_type": "code",
   "execution_count": 2,
   "metadata": {},
   "outputs": [],
   "source": [
    "class Solution:\n",
    "    def spiralOrder(self, matrix: List[List[int]]) -> List[int]:\n",
    "        if len(matrix)==0:\n",
    "            return []\n",
    "        m, n = len(matrix), len(matrix[0])\n",
    "\n",
    "        re = []\n",
    "\n",
    "        i = 0\n",
    "        while i < m:\n",
    "            # right\n",
    "            for j in range(i, n):\n",
    "                re.append(matrix[i][j])\n",
    "\n",
    "            i+=1\n",
    "\n",
    "            # down\n",
    "            if n>j:\n",
    "                for k in range(i, m):\n",
    "                    re.append(matrix[k][j])\n",
    "                n-=1\n",
    "\n",
    "            # left\n",
    "            if m>i:\n",
    "                for j in range(n-1, i-2, -1):\n",
    "                    re.append(matrix[k][j])\n",
    "                m-=1\n",
    "\n",
    "            # up\n",
    "            if n>j:\n",
    "                for k in range(m-1, i-1, -1):\n",
    "                    re.append(matrix[k][j])\n",
    "\n",
    "            j+=1\n",
    "\n",
    "        return re"
   ]
  },
  {
   "cell_type": "code",
   "execution_count": null,
   "metadata": {},
   "outputs": [],
   "source": []
  }
 ],
 "metadata": {
  "kernelspec": {
   "display_name": "Python 3",
   "language": "python",
   "name": "python3"
  },
  "language_info": {
   "codemirror_mode": {
    "name": "ipython",
    "version": 3
   },
   "file_extension": ".py",
   "mimetype": "text/x-python",
   "name": "python",
   "nbconvert_exporter": "python",
   "pygments_lexer": "ipython3",
   "version": "3.8.5"
  }
 },
 "nbformat": 4,
 "nbformat_minor": 4
}
