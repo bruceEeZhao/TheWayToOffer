{
 "cells": [
  {
   "cell_type": "markdown",
   "metadata": {},
   "source": [
    "[剑指 Offer 55 - II. 平衡二叉树](https://leetcode-cn.com/problems/ping-heng-er-cha-shu-lcof/)\n",
    "\n",
    "```\n",
    "输入一棵二叉树的根节点，判断该树是不是平衡二叉树。如果某二叉树中任意节点的左右子树的深度相差不超过1，那么它就是一棵平衡二叉树。\n",
    "\n",
    " \n",
    "\n",
    "示例 1:\n",
    "\n",
    "给定二叉树 [3,9,20,null,null,15,7]\n",
    "\n",
    "    3\n",
    "   / \\\n",
    "  9  20\n",
    "    /  \\\n",
    "   15   7\n",
    "\n",
    "返回 true 。\n",
    "\n",
    "示例 2:\n",
    "\n",
    "给定二叉树 [1,2,2,3,3,null,null,4,4]\n",
    "\n",
    "       1\n",
    "      / \\\n",
    "     2   2\n",
    "    / \\\n",
    "   3   3\n",
    "  / \\\n",
    " 4   4\n",
    "\n",
    "返回 false 。\n",
    "```"
   ]
  },
  {
   "cell_type": "code",
   "execution_count": null,
   "metadata": {},
   "outputs": [],
   "source": []
  },
  {
   "cell_type": "code",
   "execution_count": null,
   "metadata": {},
   "outputs": [],
   "source": []
  },
  {
   "cell_type": "code",
   "execution_count": null,
   "metadata": {},
   "outputs": [],
   "source": []
  },
  {
   "cell_type": "code",
   "execution_count": 1,
   "metadata": {},
   "outputs": [],
   "source": [
    "from typing import *"
   ]
  },
  {
   "cell_type": "code",
   "execution_count": 2,
   "metadata": {},
   "outputs": [],
   "source": [
    "# Definition for a binary tree node.\n",
    "class TreeNode:\n",
    "    def __init__(self, x):\n",
    "        self.val = x\n",
    "        self.left = None\n",
    "        self.right = None\n",
    "\n",
    "class Solution:\n",
    "    def isBalanced(self, root: TreeNode) -> bool:\n",
    "        if root==None:\n",
    "            return True\n",
    "\n",
    "        ld = self.treeDepth(root.left, 0)\n",
    "        rd = self.treeDepth(root.right, 0)\n",
    "\n",
    "        if abs(ld-rd)>1:\n",
    "            return False\n",
    "\n",
    "        return self.isBalanced(root.left) and self.isBalanced(root.right)\n",
    "\n",
    "    \n",
    "\n",
    "    def treeDepth(self, root, depth):\n",
    "        if root==None:\n",
    "            return depth\n",
    "\n",
    "        ld = rd = depth\n",
    "\n",
    "        ld = self.treeDepth(root.left, depth+1)\n",
    "        rd = self.treeDepth(root.right, depth+1)\n",
    "\n",
    "        return max(ld, rd)"
   ]
  },
  {
   "cell_type": "code",
   "execution_count": null,
   "metadata": {},
   "outputs": [],
   "source": []
  }
 ],
 "metadata": {
  "kernelspec": {
   "display_name": "Python 3",
   "language": "python",
   "name": "python3"
  },
  "language_info": {
   "codemirror_mode": {
    "name": "ipython",
    "version": 3
   },
   "file_extension": ".py",
   "mimetype": "text/x-python",
   "name": "python",
   "nbconvert_exporter": "python",
   "pygments_lexer": "ipython3",
   "version": "3.8.5"
  }
 },
 "nbformat": 4,
 "nbformat_minor": 4
}
