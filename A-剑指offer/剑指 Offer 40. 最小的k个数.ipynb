{
 "cells": [
  {
   "cell_type": "markdown",
   "metadata": {},
   "source": [
    "[剑指 Offer 40. 最小的k个数](https://leetcode-cn.com/problems/zui-xiao-de-kge-shu-lcof/)\n",
    "\n",
    "\n",
    "```\n",
    "输入整数数组 arr ，找出其中最小的 k 个数。例如，输入4、5、1、6、2、7、3、8这8个数字，则最小的4个数字是1、2、3、4。\n",
    "\n",
    " \n",
    "\n",
    "示例 1：\n",
    "\n",
    "输入：arr = [3,2,1], k = 2\n",
    "输出：[1,2] 或者 [2,1]\n",
    "\n",
    "示例 2：\n",
    "\n",
    "输入：arr = [0,1,2,1], k = 1\n",
    "输出：[0]\n",
    "```"
   ]
  },
  {
   "cell_type": "code",
   "execution_count": null,
   "metadata": {},
   "outputs": [],
   "source": []
  },
  {
   "cell_type": "code",
   "execution_count": null,
   "metadata": {},
   "outputs": [],
   "source": []
  },
  {
   "cell_type": "code",
   "execution_count": null,
   "metadata": {},
   "outputs": [],
   "source": []
  },
  {
   "cell_type": "code",
   "execution_count": null,
   "metadata": {},
   "outputs": [],
   "source": [
    "class Solution:\n",
    "    def getLeastNumbers(self, arr: List[int], k: int) -> List[int]:\n",
    "        self.quicksort(arr,0 , len(arr)-1)\n",
    "\n",
    "        return arr[0:k]\n",
    "    \n",
    "    def quicksort(self, arr, left, right):\n",
    "        if left>=right:\n",
    "            return\n",
    "\n",
    "        base = arr[left]\n",
    "\n",
    "        l = left\n",
    "        r = right\n",
    "        while l < r:\n",
    "            while l<r and arr[r]>base:\n",
    "                r-=1\n",
    "            arr[l] = arr[r]\n",
    "            while l<r and arr[l]<=base:\n",
    "                l+=1\n",
    "            arr[r] = arr[l]\n",
    "\n",
    "        arr[l] = base\n",
    "\n",
    "        self.quicksort(arr, left, l-1)\n",
    "        self.quicksort(arr, l+1, right)\n"
   ]
  }
 ],
 "metadata": {
  "kernelspec": {
   "display_name": "Python 3",
   "language": "python",
   "name": "python3"
  },
  "language_info": {
   "codemirror_mode": {
    "name": "ipython",
    "version": 3
   },
   "file_extension": ".py",
   "mimetype": "text/x-python",
   "name": "python",
   "nbconvert_exporter": "python",
   "pygments_lexer": "ipython3",
   "version": "3.8.5"
  }
 },
 "nbformat": 4,
 "nbformat_minor": 4
}
