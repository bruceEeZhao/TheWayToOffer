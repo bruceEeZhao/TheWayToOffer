{
 "cells": [
  {
   "cell_type": "markdown",
   "metadata": {},
   "source": [
    "[剑指 Offer 48. 最长不含重复字符的子字符串]()\n",
    "\n",
    "```\n",
    "请从字符串中找出一个最长的不包含重复字符的子字符串，计算该最长子字符串的长度。\n",
    "\n",
    " \n",
    "\n",
    "示例 1:\n",
    "\n",
    "输入: \"abcabcbb\"\n",
    "输出: 3 \n",
    "解释: 因为无重复字符的最长子串是 \"abc\"，所以其长度为 3。\n",
    "\n",
    "示例 2:\n",
    "\n",
    "输入: \"bbbbb\"\n",
    "输出: 1\n",
    "解释: 因为无重复字符的最长子串是 \"b\"，所以其长度为 1。\n",
    "\n",
    "示例 3:\n",
    "\n",
    "输入: \"pwwkew\"\n",
    "输出: 3\n",
    "解释: 因为无重复字符的最长子串是 \"wke\"，所以其长度为 3。\n",
    "     请注意，你的答案必须是 子串 的长度，\"pwke\" 是一个子序列，不是子串。\n",
    "```"
   ]
  },
  {
   "cell_type": "code",
   "execution_count": null,
   "metadata": {},
   "outputs": [],
   "source": []
  },
  {
   "cell_type": "code",
   "execution_count": null,
   "metadata": {},
   "outputs": [],
   "source": []
  },
  {
   "cell_type": "code",
   "execution_count": 1,
   "metadata": {},
   "outputs": [],
   "source": [
    "from typing import *"
   ]
  },
  {
   "cell_type": "code",
   "execution_count": 2,
   "metadata": {},
   "outputs": [],
   "source": [
    "class Solution:\n",
    "    def lengthOfLongestSubstring(self, s: str) -> int:\n",
    "        if s==None or len(s)==0:\n",
    "            return 0\n",
    "\n",
    "        start = 0 \n",
    "        end = 0\n",
    "        noRepeted = {}\n",
    "        maxlen = 0\n",
    "        for end in range(len(s)):\n",
    "            # 第一个字符，直接加入字典\n",
    "            if end==start and end == 0:\n",
    "                noRepeted[s[start]] = start\n",
    "                maxlen = 1\n",
    "                continue\n",
    "            \n",
    "            # end 指向字符是重复的字符\n",
    "            if s[end] in noRepeted:\n",
    "                # 找到重复的字母的下标\n",
    "                flag = noRepeted[s[end]]\n",
    "                # 删除字典中重复字母之前的数据\n",
    "                for i in range(start, flag+1):\n",
    "                    del noRepeted[s[i]]\n",
    "                start = flag + 1\n",
    "            noRepeted[s[end]] = end\n",
    "            \n",
    "            lenth = end-start+1\n",
    "            \n",
    "            if lenth>maxlen:\n",
    "                maxlen = lenth\n",
    "\n",
    "        return maxlen\n",
    "                 "
   ]
  },
  {
   "cell_type": "code",
   "execution_count": null,
   "metadata": {},
   "outputs": [],
   "source": []
  }
 ],
 "metadata": {
  "kernelspec": {
   "display_name": "Python 3",
   "language": "python",
   "name": "python3"
  },
  "language_info": {
   "codemirror_mode": {
    "name": "ipython",
    "version": 3
   },
   "file_extension": ".py",
   "mimetype": "text/x-python",
   "name": "python",
   "nbconvert_exporter": "python",
   "pygments_lexer": "ipython3",
   "version": "3.8.5"
  }
 },
 "nbformat": 4,
 "nbformat_minor": 4
}
