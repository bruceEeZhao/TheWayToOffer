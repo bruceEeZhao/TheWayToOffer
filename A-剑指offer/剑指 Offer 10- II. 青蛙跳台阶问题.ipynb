{
 "cells": [
  {
   "cell_type": "markdown",
   "metadata": {},
   "source": [
    "[剑指 Offer 10- II. 青蛙跳台阶问题](https://leetcode-cn.com/problems/qing-wa-tiao-tai-jie-wen-ti-lcof/)\n",
    "```\n",
    "一只青蛙一次可以跳上1级台阶，也可以跳上2级台阶。求该青蛙跳上一个 n 级的台阶总共有多少种跳法。\n",
    "\n",
    "答案需要取模 1e9+7（1000000007），如计算初始结果为：1000000008，请返回 1。\n",
    "```\n",
    "问题分析角度：\n",
    "1. 斐波那契数列\n",
    "> 把n级台阶时的跳法看成n的函数，记为f(n)。当n>2时，第一次跳的时候有两种不同的选择：一是第一次跳1级，此时跳法数目等于后面剩下的n-1级台阶的跳法数目，即为f(n-1)；二是第一次跳2级，此时跳法数目等一后面的n-2级台阶的跳法数目，即为f(n-2)。因此n级台阶的不同跳法总数f(n) = f(n-1)+f(n-2)。分析到这里，不难看出这实际上就是斐波那契数列。\n",
    "\n",
    "2. 动态规划\n",
    "定义dp[n]为到达第n级台阶的跳法总数，则跳到第n级台阶有两种方式，一是从第n-1级台阶跳过来；二是从第n-2级台阶跳过来，那么到达第n级台阶的跳法的总数就应该等于n-1的总数加上n-2的总数，即dp[n] = dp[n-1] + dp[n-2]"
   ]
  },
  {
   "cell_type": "code",
   "execution_count": 1,
   "metadata": {},
   "outputs": [],
   "source": [
    "from typing import *"
   ]
  },
  {
   "cell_type": "code",
   "execution_count": 2,
   "metadata": {},
   "outputs": [],
   "source": [
    "class Solution:\n",
    "    def numWays(self, n: int) -> int:\n",
    "        if n==0:\n",
    "            return 1\n",
    "        if n<2:\n",
    "            return n\n",
    "\n",
    "        f0 = 1\n",
    "        f1 = 1\n",
    "        f = 0\n",
    "        for i in range(1, n):\n",
    "            f = (f0 + f1)%1000000007\n",
    "            f0 = f1\n",
    "            f1 = f \n",
    "\n",
    "        return f"
   ]
  },
  {
   "cell_type": "markdown",
   "metadata": {},
   "source": [
    "```\n",
    "执行结果：\n",
    "通过\n",
    "显示详情\n",
    "执行用时：32 ms, 在所有 Python3 提交中击败了94.33% 的用户\n",
    "内存消耗：13.5 MB, 在所有 Python3 提交中击败了28.33% 的用户\n",
    "```"
   ]
  },
  {
   "cell_type": "markdown",
   "metadata": {},
   "source": [
    "**使用递归会超时**"
   ]
  },
  {
   "cell_type": "markdown",
   "metadata": {},
   "source": [
    "## 1. 青蛙跳台阶的扩展\n",
    "\n",
    "如果把条件改成：一只青蛙一次可以跳上1级台阶，也可以跳上2级。。。。也可以跳上n级，此时青蛙跳上n级台阶共有多少种跳法：  \n",
    "用数学归纳法可以证明$f(n) = 2^{n-1}$\n",
    "\n",
    "$f(n) = f(n-1)+f(n-2)+....+f(1)+f(0)$，这里定义f(0) = 1  \n",
    "  \n",
    "\n",
    "$$\n",
    "f(1) = 1 \\\\\n",
    "f(2) = 2 \\\\\n",
    "f(3) = f(2) + f(1) + f(0) = 4 \\\\\n",
    "f(4) = f(3) + f(2) + f(1) + f(0) = 8\n",
    "$$"
   ]
  },
  {
   "cell_type": "markdown",
   "metadata": {},
   "source": [
    "## 2. 斐波那契数列的扩展\n",
    "用8个2*1的小矩形，无重叠的覆盖一个2*8的大矩形，总共有多少种方法？\n",
    "![](./pic/jixing.png)\n",
    "\n",
    "我们把2*8的覆盖记为f(8)。用第一个2*1的小矩形去覆盖大矩形的最左边有两种选择：竖着放或横着放。当竖着放时，右边还剩2*7的区域，这种情况下的覆盖方法记为f(7)。接下来考虑横着放的情况。当2*1的小矩形横着放在左上角的时候，左下角**必须**和横着放一个2*1的小矩形，而右边还剩2*6的区域，这种情况下的覆盖方法记为f(6)，因此f(8) = f(7) + f(6)，此时我们发现，这仍然是斐波那契数列。"
   ]
  },
  {
   "cell_type": "code",
   "execution_count": null,
   "metadata": {},
   "outputs": [],
   "source": []
  }
 ],
 "metadata": {
  "kernelspec": {
   "display_name": "Python 3",
   "language": "python",
   "name": "python3"
  },
  "language_info": {
   "codemirror_mode": {
    "name": "ipython",
    "version": 3
   },
   "file_extension": ".py",
   "mimetype": "text/x-python",
   "name": "python",
   "nbconvert_exporter": "python",
   "pygments_lexer": "ipython3",
   "version": "3.8.5"
  }
 },
 "nbformat": 4,
 "nbformat_minor": 4
}
