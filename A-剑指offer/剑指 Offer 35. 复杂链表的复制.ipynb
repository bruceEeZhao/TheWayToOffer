{
 "cells": [
  {
   "cell_type": "code",
   "execution_count": null,
   "metadata": {},
   "outputs": [],
   "source": []
  },
  {
   "cell_type": "markdown",
   "metadata": {},
   "source": [
    "[剑指 Offer 35. 复杂链表的复制](https://leetcode-cn.com/problems/fu-za-lian-biao-de-fu-zhi-lcof/)"
   ]
  },
  {
   "cell_type": "code",
   "execution_count": null,
   "metadata": {},
   "outputs": [],
   "source": []
  },
  {
   "cell_type": "code",
   "execution_count": null,
   "metadata": {},
   "outputs": [],
   "source": []
  },
  {
   "cell_type": "code",
   "execution_count": null,
   "metadata": {},
   "outputs": [],
   "source": [
    "\"\"\"\n",
    "# Definition for a Node.\n",
    "class Node:\n",
    "    def __init__(self, x: int, next: 'Node' = None, random: 'Node' = None):\n",
    "        self.val = int(x)\n",
    "        self.next = next\n",
    "        self.random = random\n",
    "\"\"\"\n",
    "class Solution:\n",
    "    def copyRandomList(self, head: 'Node') -> 'Node':\n",
    "        if head==None:\n",
    "            return None\n",
    "\n",
    "        h = head\n",
    "\n",
    "        newhead = Node(0)\n",
    "        p = newhead\n",
    "\n",
    "        # 复制节点并把节点添加到原链表中\n",
    "        while h:\n",
    "            tmp = Node(h.val, h.next)\n",
    "            h.next = tmp\n",
    "            h = tmp.next\n",
    "\n",
    "        # 处理random指针\n",
    "        h = head\n",
    "        while h:\n",
    "            tmp = h.next\n",
    "            if h.random:\n",
    "                tmp.random = h.random.next\n",
    "\n",
    "            h = tmp.next\n",
    "\n",
    "        # 拆成两个链表\n",
    "        h = head\n",
    "        while h:\n",
    "            tmp = h.next\n",
    "            p.next = tmp\n",
    "            p = p.next\n",
    "\n",
    "            h.next = tmp.next\n",
    "            h = h.next\n",
    "\n",
    "        return newhead.next"
   ]
  }
 ],
 "metadata": {
  "kernelspec": {
   "display_name": "Python 3",
   "language": "python",
   "name": "python3"
  },
  "language_info": {
   "codemirror_mode": {
    "name": "ipython",
    "version": 3
   },
   "file_extension": ".py",
   "mimetype": "text/x-python",
   "name": "python",
   "nbconvert_exporter": "python",
   "pygments_lexer": "ipython3",
   "version": "3.8.5"
  }
 },
 "nbformat": 4,
 "nbformat_minor": 4
}
