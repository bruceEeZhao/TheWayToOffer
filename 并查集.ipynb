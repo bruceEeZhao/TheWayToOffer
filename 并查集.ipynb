{
 "cells": [
  {
   "cell_type": "markdown",
   "metadata": {},
   "source": [
    "[并查集](https://zhuanlan.zhihu.com/p/93647900/)\n",
    "\n",
    " 并查集被很多OIer认为是最简洁而优雅的数据结构之一，主要用于解决一些元素分组的问题。它管理一系列不相交的集合，并支持两种操作：\n",
    " - 合并（Union）：把两个不相交的集合合并为一个集合。\n",
    " - 查询（Find）：查询两个元素是否在同一个集合中。\n",
    "\n",
    "当然，这样的定义未免太过学术化，看完后恐怕不太能理解它具体有什么用。所以我们先来看看并查集最直接的一个应用场景：亲戚问题。"
   ]
  },
  {
   "cell_type": "code",
   "execution_count": 1,
   "metadata": {},
   "outputs": [],
   "source": [
    "from typing import *"
   ]
  },
  {
   "cell_type": "markdown",
   "metadata": {},
   "source": [
    "题目背景\n",
    "```\n",
    "若某个家族人员过于庞大，要判断两个是否是亲戚，确实还很不容易，现在给出某个亲戚关系图，求任意给出的两个人是否具有亲戚关系。\n",
    "题目描述\n",
    "规定：x和y是亲戚，y和z是亲戚，那么x和z也是亲戚。如果x,y是亲戚，那么x的亲戚都是y的亲戚，y的亲戚也都是x的亲戚。\n",
    "输入格式\n",
    "第一行：三个整数n,m,p，（n<=5000,m<=5000,p<=5000），分别表示有n个人，m个亲戚关系，询问p对亲戚关系。\n",
    "以下m行：每行两个数Mi，Mj，1<=Mi，Mj<=N，表示Mi和Mj具有亲戚关系。\n",
    "接下来p行：每行两个数Pi，Pj，询问Pi和Pj是否具有亲戚关系。\n",
    "输出格式\n",
    "P行，每行一个’Yes’或’No’。表示第i个询问的答案为“具有”或“不具有”亲戚关系。\n",
    "```"
   ]
  },
  {
   "cell_type": "code",
   "execution_count": 9,
   "metadata": {},
   "outputs": [],
   "source": [
    "class Union:\n",
    "    def __init__(self, n):\n",
    "        # 首先定义每个人的亲戚就是自己本身\n",
    "        self.parent = [i for i in range(n)]\n",
    "        \n",
    "    def find(self, x):\n",
    "        if x == self.parent[x]:\n",
    "            return x\n",
    "        else:\n",
    "            self.parent[x] = self.find(self.parent[x])\n",
    "            \n",
    "            return self.parent[x]\n",
    "        \n",
    "    def merge(self, x, y):\n",
    "        t1 = self.find(x)\n",
    "        t2 = self.find(y)\n",
    "        if t1 == t2 :\n",
    "            return\n",
    "        else:\n",
    "            self.parent[t1] = t2\n",
    "            "
   ]
  },
  {
   "cell_type": "code",
   "execution_count": 12,
   "metadata": {},
   "outputs": [],
   "source": [
    "class Family:\n",
    "    def solution(self, reliations:List[List], n) -> bool:\n",
    "        m = len(reliations)\n",
    "        self.u = Union(n)\n",
    "        \n",
    "        for i in reliations:\n",
    "            self.u.merge(i[0], i[1])\n",
    "    \n",
    "    # 检查x,y,是否是亲戚\n",
    "    def check(self, x, y):\n",
    "        if self.u.find(x)==self.u.find(y):\n",
    "            print(\"yes\")\n",
    "        else:\n",
    "            print(\"no\")\n",
    "            \n",
    "        "
   ]
  },
  {
   "cell_type": "code",
   "execution_count": 14,
   "metadata": {},
   "outputs": [
    {
     "name": "stdout",
     "output_type": "stream",
     "text": [
      "no\n"
     ]
    }
   ],
   "source": [
    "s = Family()\n",
    "relations = [[0,2], [1,3], [3,1]]\n",
    "s.solution(relations, 4)\n",
    "s.check(0,1)"
   ]
  },
  {
   "cell_type": "markdown",
   "metadata": {},
   "source": [
    "[990. 等式方程的可满足性](https://leetcode-cn.com/problems/satisfiability-of-equality-equations/)\n",
    "\n",
    "给定一个由表示变量之间关系的字符串方程组成的数组，每个字符串方程 equations[i] 的长度为 4，并采用两种不同的形式之一：\"a==b\" 或 \"a!=b\"。在这里，a 和 b 是小写字母（不一定不同），表示单字母变量名。\n",
    "\n",
    "只有当可以将整数分配给变量名，以便满足所有给定的方程时才返回 true，否则返回 false。 \n",
    "\n",
    " \n",
    "```\n",
    "示例 1：\n",
    "\n",
    "输入：[\"a==b\",\"b!=a\"]\n",
    "输出：false\n",
    "解释：如果我们指定，a = 1 且 b = 1，那么可以满足第一个方程，但无法满足第二个方程。没有办法分配变量同时满足这两个方程。\n",
    "\n",
    "示例 2：\n",
    "\n",
    "输入：[\"b==a\",\"a==b\"]\n",
    "输出：true\n",
    "解释：我们可以指定 a = 1 且 b = 1 以满足满足这两个方程。\n",
    "\n",
    "示例 3：\n",
    "\n",
    "输入：[\"a==b\",\"b==c\",\"a==c\"]\n",
    "输出：true\n",
    "\n",
    "示例 4：\n",
    "\n",
    "输入：[\"a==b\",\"b!=c\",\"c==a\"]\n",
    "输出：false\n",
    "\n",
    "示例 5：\n",
    "\n",
    "输入：[\"c==c\",\"b==d\",\"x!=z\"]\n",
    "输出：true\n",
    "```"
   ]
  },
  {
   "cell_type": "code",
   "execution_count": 15,
   "metadata": {},
   "outputs": [],
   "source": [
    "class Solution:\n",
    "    def equationsPossible(self, equations: List[str]) -> bool:\n",
    "        n = len(equations)\n",
    "        u = Union(n)\n",
    "\n",
    "        # 根据 \"==\" 建立并查集关系， \"==\" 证明其是有关系的\n",
    "        for fu in equations:\n",
    "            tmp = fu.split(\"==\")\n",
    "            if len(tmp)>1:\n",
    "                u.merge(tmp[0], tmp[1])\n",
    "\n",
    "        # 如果有两个变量的关系是 \"!=\" ，但是他们却拥有共同的根节点，则说明是错误的算式，返回False\n",
    "        for fu in equations:\n",
    "            tmp = fu.split(\"!=\")\n",
    "            if len(tmp)>1:\n",
    "                if u.find(tmp[0]) == u.find(tmp[1]):\n",
    "                    return False\n",
    "        \n",
    "        return True\n",
    "\n",
    "\n",
    "class Union:\n",
    "    def __init__(self, n):\n",
    "        self.parent = dict()\n",
    "\n",
    "    def find(self, x):\n",
    "        if x not in self.parent:\n",
    "            self.parent[x] = x\n",
    "        if self.parent[x] != x:\n",
    "            self.parent[x] = self.find(self.parent[x])\n",
    "        \n",
    "        return self.parent[x]\n",
    "\n",
    "    def merge(self, x, y):\n",
    "        t1 = self.find(x)\n",
    "        t2 = self.find(y)\n",
    "\n",
    "        if t1==t2:\n",
    "            return\n",
    "        else:\n",
    "            self.parent[t1] = t2"
   ]
  },
  {
   "cell_type": "code",
   "execution_count": 17,
   "metadata": {},
   "outputs": [
    {
     "name": "stdout",
     "output_type": "stream",
     "text": [
      "True\n",
      "False\n"
     ]
    }
   ],
   "source": [
    "s = Solution()\n",
    "print(s.equationsPossible([\"c==c\",\"b==d\",\"x!=z\"]))\n",
    "print(s.equationsPossible([\"a==b\",\"b!=c\",\"c==a\"]))"
   ]
  },
  {
   "cell_type": "code",
   "execution_count": null,
   "metadata": {},
   "outputs": [],
   "source": []
  }
 ],
 "metadata": {
  "kernelspec": {
   "display_name": "Python 3",
   "language": "python",
   "name": "python3"
  },
  "language_info": {
   "codemirror_mode": {
    "name": "ipython",
    "version": 3
   },
   "file_extension": ".py",
   "mimetype": "text/x-python",
   "name": "python",
   "nbconvert_exporter": "python",
   "pygments_lexer": "ipython3",
   "version": "3.8.5"
  }
 },
 "nbformat": 4,
 "nbformat_minor": 4
}
