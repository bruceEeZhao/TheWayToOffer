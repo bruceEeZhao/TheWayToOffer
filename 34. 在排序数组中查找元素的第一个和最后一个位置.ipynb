{
 "cells": [
  {
   "cell_type": "markdown",
   "metadata": {},
   "source": [
    "[34. 在排序数组中查找元素的第一个和最后一个位置](https://leetcode-cn.com/problems/find-first-and-last-position-of-element-in-sorted-array/)\n",
    "\n",
    "给定一个按照升序排列的整数数组 nums，和一个目标值 target。找出给定目标值在数组中的开始位置和结束位置。\n",
    "\n",
    "如果数组中不存在目标值 target，返回 [-1, -1]。"
   ]
  },
  {
   "cell_type": "code",
   "execution_count": 2,
   "metadata": {},
   "outputs": [],
   "source": [
    "from typing import *"
   ]
  },
  {
   "cell_type": "code",
   "execution_count": 3,
   "metadata": {},
   "outputs": [],
   "source": [
    "# 方法一，时间复杂度为 O(n)\n",
    "\n",
    "class Solution:\n",
    "    def searchRange(self, nums: List[int], target: int) -> List[int]:\n",
    "        ret = [-1,-1]\n",
    "\n",
    "        if nums == None or len(nums)==0:\n",
    "            return ret\n",
    "\n",
    "        for i in range(len(nums)):\n",
    "            if nums[i] == target:\n",
    "                ret[0] = i\n",
    "                break\n",
    "\n",
    "        for i in range(len(nums)-1, -1, -1):\n",
    "            if nums[i] == target:\n",
    "                ret[1] = i \n",
    "                break\n",
    "            \n",
    "\n",
    "        return ret"
   ]
  },
  {
   "cell_type": "markdown",
   "metadata": {},
   "source": [
    "方法二，本题中数组是有序的，因此可以考虑二分法查找，时间复杂度为o(logn)"
   ]
  },
  {
   "cell_type": "code",
   "execution_count": null,
   "metadata": {},
   "outputs": [],
   "source": [
    "class Solution:\n",
    "    def searchRange(self, nums: List[int], target: int) -> List[int]:\n",
    "        ret = [-1,-1]\n",
    "\n",
    "        if nums == None or len(nums)==0:\n",
    "            return ret\n",
    "\n",
    "\n",
    "        ret[0] = self.binarySearch(nums, target, True)\n",
    "        ret[1] = self.binarySearch(nums, target, False)-1\n",
    "\n",
    "        if ret[0]<=ret[1] and ret[1]<len(nums) and nums[ret[0]] == target and nums[ret[1]] == target:\n",
    "            return ret \n",
    "        else:\n",
    "            return [-1,-1]\n",
    "\n",
    "    def binarySearch(self, nums, target, flag):\n",
    "        left = 0\n",
    "        right = len(nums)-1\n",
    "\n",
    "        while(left <= right):\n",
    "            mid = left + right\n",
    "            if nums[mid] > target or (flag and nums[mid]>=target):\n",
    "                right = mid-1\n",
    "            else:\n",
    "                left = mid+1\n",
    "\n",
    "        return left"
   ]
  }
 ],
 "metadata": {
  "kernelspec": {
   "display_name": "Python 3",
   "language": "python",
   "name": "python3"
  },
  "language_info": {
   "codemirror_mode": {
    "name": "ipython",
    "version": 3
   },
   "file_extension": ".py",
   "mimetype": "text/x-python",
   "name": "python",
   "nbconvert_exporter": "python",
   "pygments_lexer": "ipython3",
   "version": "3.5.2"
  }
 },
 "nbformat": 4,
 "nbformat_minor": 2
}
