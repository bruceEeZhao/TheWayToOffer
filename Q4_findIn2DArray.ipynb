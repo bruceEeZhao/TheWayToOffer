{
 "cells": [
  {
   "cell_type": "markdown",
   "metadata": {},
   "source": [
    "[剑指 Offer 04. 二维数组中的查找](https://leetcode-cn.com/problems/er-wei-shu-zu-zhong-de-cha-zhao-lcof/)\n",
    "\n",
    "在一个 n * m 的二维数组中，每一行都按照从左到右递增的顺序排序，每一列都按照从上到下递增的顺序排序。请完成一个高效的函数，输入这样的一个二维数组和一个整数，判断数组中是否含有该整数。"
   ]
  },
  {
   "cell_type": "markdown",
   "metadata": {},
   "source": [
    "思路：每次检查右上角的元素，  \n",
    "如果该元素>target，那么这个元素所在的列必然不包含这个数字，去掉一列  \n",
    "如果该元素==target，则返回ture  \n",
    "如果该元素<target，那么该元素左边的元素必然都小于target，去掉一行"
   ]
  },
  {
   "cell_type": "code",
   "execution_count": null,
   "metadata": {},
   "outputs": [],
   "source": [
    "class Solution:\n",
    "    def findNumberIn2DArray(self, matrix: List[List[int]], target: int) -> bool:\n",
    "        if matrix==None or len(matrix)==0:\n",
    "            return False\n",
    "\n",
    "        n,m = len(matrix), len(matrix[0])\n",
    "        row = 0\n",
    "        columns = m-1\n",
    "        while columns>=0 and row < n:\n",
    "            if matrix[row][columns] > target:\n",
    "                columns -= 1\n",
    "            elif matrix[row][columns] == target:\n",
    "                return True\n",
    "            else:\n",
    "                row += 1\n",
    "\n",
    "        return False"
   ]
  }
 ],
 "metadata": {
  "kernelspec": {
   "display_name": "Python 3",
   "language": "python",
   "name": "python3"
  },
  "language_info": {
   "codemirror_mode": {
    "name": "ipython",
    "version": 3
   },
   "file_extension": ".py",
   "mimetype": "text/x-python",
   "name": "python",
   "nbconvert_exporter": "python",
   "pygments_lexer": "ipython3",
   "version": "3.5.2"
  }
 },
 "nbformat": 4,
 "nbformat_minor": 2
}
