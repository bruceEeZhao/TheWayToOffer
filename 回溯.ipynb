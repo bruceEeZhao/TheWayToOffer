{
 "cells": [
  {
   "cell_type": "markdown",
   "metadata": {},
   "source": [
    "[131. 分割回文串](https://leetcode-cn.com/problems/palindrome-partitioning/)\n",
    "\n",
    "给定一个字符串 s，将 s 分割成一些子串，使每个子串都是回文串。\n",
    "\n",
    "返回 s 所有可能的分割方案。\n",
    "```\n",
    "示例:\n",
    "\n",
    "输入: \"aab\"\n",
    "输出:\n",
    "[\n",
    "  [\"aa\",\"b\"],\n",
    "  [\"a\",\"a\",\"b\"]\n",
    "]\n",
    "\n",
    "```"
   ]
  },
  {
   "cell_type": "code",
   "execution_count": 1,
   "metadata": {},
   "outputs": [],
   "source": [
    "from typing import *"
   ]
  },
  {
   "cell_type": "code",
   "execution_count": 2,
   "metadata": {},
   "outputs": [],
   "source": [
    "class Solution:\n",
    "    def partition(self, s: str) -> List[List[str]]:\n",
    "        self.re = []\n",
    "\n",
    "        self.dfs(s, 0, [])\n",
    "\n",
    "        return self.re\n",
    "\n",
    "    def dfs(self, s, start, sub):\n",
    "        if start == len(s):\n",
    "            self.re.append(copy.copy(sub))\n",
    "            return \n",
    "\n",
    "        for i in range(start, len(s)):\n",
    "            if not self.check(s, start, i):\n",
    "                continue\n",
    "\n",
    "            sub.append(s[start:i+1])\n",
    "            self.dfs(s, i+1, sub)\n",
    "            sub.pop()\n",
    "\n",
    "    def check(self, s, left, right):\n",
    "        l,r = left, right\n",
    "\n",
    "        while l < r:\n",
    "            if s[l] == s[r]:\n",
    "                l+=1\n",
    "                r-=1\n",
    "            else:\n",
    "                return False\n",
    "\n",
    "        return True"
   ]
  },
  {
   "cell_type": "code",
   "execution_count": 3,
   "metadata": {},
   "outputs": [],
   "source": [
    "class Solution:\n",
    "    def partition(self, s: str) -> List[List[str]]:\n",
    "        self.re = []\n",
    "        length = len(s)\n",
    "        dp = [[False] * len(s) for i in range(len(s))]\n",
    "\n",
    "        for l in range(length):\n",
    "            for i in range(length-l):\n",
    "                j = i+l \n",
    "                if l == 0:\n",
    "                    dp[i][j] = True\n",
    "                elif l==1:\n",
    "                    dp[i][j] = s[i]==s[j]\n",
    "                else:\n",
    "                    dp[i][j] = dp[i+1][j-1] and s[i]==s[j]\n",
    "\n",
    "        self.dfs(s, 0, [], dp)\n",
    "\n",
    "        return self.re\n",
    "\n",
    "    def dfs(self, s, start, sub, dp):\n",
    "        if start == len(s):\n",
    "            self.re.append(copy.copy(sub))\n",
    "            return \n",
    "\n",
    "        for i in range(start, len(s)):\n",
    "            #if not self.check(s, start, i):\n",
    "            if not dp[start][i]:\n",
    "                continue\n",
    "\n",
    "            sub.append(s[start:i+1])\n",
    "            self.dfs(s, i+1, sub, dp)\n",
    "            sub.pop()"
   ]
  },
  {
   "cell_type": "code",
   "execution_count": null,
   "metadata": {},
   "outputs": [],
   "source": []
  }
 ],
 "metadata": {
  "kernelspec": {
   "display_name": "Python 3",
   "language": "python",
   "name": "python3"
  },
  "language_info": {
   "codemirror_mode": {
    "name": "ipython",
    "version": 3
   },
   "file_extension": ".py",
   "mimetype": "text/x-python",
   "name": "python",
   "nbconvert_exporter": "python",
   "pygments_lexer": "ipython3",
   "version": "3.8.5"
  }
 },
 "nbformat": 4,
 "nbformat_minor": 4
}
