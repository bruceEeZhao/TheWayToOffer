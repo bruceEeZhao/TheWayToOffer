{
 "cells": [
  {
   "cell_type": "markdown",
   "metadata": {},
   "source": [
    "[剑指 Offer 42. 连续子数组的最大和](https://leetcode-cn.com/problems/lian-xu-zi-shu-zu-de-zui-da-he-lcof/)\n",
    "\n",
    "```\n",
    "输入一个整型数组，数组中的一个或连续多个整数组成一个子数组。求所有子数组的和的最大值。\n",
    "\n",
    "要求时间复杂度为O(n)。\n",
    "\n",
    " \n",
    "\n",
    "示例1:\n",
    "\n",
    "输入: nums = [-2,1,-3,4,-1,2,1,-5,4]\n",
    "输出: 6\n",
    "解释: 连续子数组 [4,-1,2,1] 的和最大，为 6。\n",
    "```"
   ]
  },
  {
   "cell_type": "code",
   "execution_count": null,
   "metadata": {},
   "outputs": [],
   "source": []
  },
  {
   "cell_type": "code",
   "execution_count": null,
   "metadata": {},
   "outputs": [],
   "source": []
  },
  {
   "cell_type": "code",
   "execution_count": 1,
   "metadata": {},
   "outputs": [],
   "source": [
    "from typing import *"
   ]
  },
  {
   "cell_type": "code",
   "execution_count": 2,
   "metadata": {},
   "outputs": [],
   "source": [
    "class Solution:\n",
    "    def maxSubArray(self, nums: List[int]) -> int:\n",
    "        if nums==None or len(nums)==0:\n",
    "            return -2147483648\n",
    "\n",
    "        maxsum = nums[0]\n",
    "        maxarr = [nums[0]]\n",
    "        tmpsum = nums[0]\n",
    "        for i in range(1, len(nums)):\n",
    "            if tmpsum<0:\n",
    "                maxarr = [nums[i]]\n",
    "                tmpsum = nums[i]\n",
    "            else:\n",
    "                maxarr.append(nums[i])\n",
    "                tmpsum += nums[i]\n",
    "            if tmpsum>maxsum:\n",
    "                maxsum = tmpsum\n",
    "\n",
    "        return maxsum"
   ]
  },
  {
   "cell_type": "code",
   "execution_count": null,
   "metadata": {},
   "outputs": [],
   "source": []
  },
  {
   "cell_type": "code",
   "execution_count": null,
   "metadata": {},
   "outputs": [],
   "source": []
  },
  {
   "cell_type": "markdown",
   "metadata": {},
   "source": [
    "## 动态规划"
   ]
  },
  {
   "cell_type": "code",
   "execution_count": 3,
   "metadata": {},
   "outputs": [],
   "source": [
    "class Solution:\n",
    "    def maxSubArray(self, nums: List[int]) -> int:\n",
    "        if nums==None or len(nums)==0:\n",
    "            return -2147483648\n",
    "\n",
    "        # maxsum[i] 表示以i结尾的数组的最大值\n",
    "        maxsum = [0 for i in range(len(nums))]\n",
    "\n",
    "        maxsum[0] = nums[0]\n",
    "\n",
    "        for i in range(1, len(nums)):\n",
    "            if maxsum[i-1]<=0:\n",
    "                maxsum[i] = nums[i]\n",
    "            else:\n",
    "                maxsum[i] = nums[i] + maxsum[i-1]\n",
    "\n",
    "        return max(maxsum)"
   ]
  },
  {
   "cell_type": "code",
   "execution_count": null,
   "metadata": {},
   "outputs": [],
   "source": []
  }
 ],
 "metadata": {
  "kernelspec": {
   "display_name": "Python 3",
   "language": "python",
   "name": "python3"
  },
  "language_info": {
   "codemirror_mode": {
    "name": "ipython",
    "version": 3
   },
   "file_extension": ".py",
   "mimetype": "text/x-python",
   "name": "python",
   "nbconvert_exporter": "python",
   "pygments_lexer": "ipython3",
   "version": "3.8.5"
  }
 },
 "nbformat": 4,
 "nbformat_minor": 4
}
