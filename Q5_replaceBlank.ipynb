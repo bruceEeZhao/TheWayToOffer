{
 "cells": [
  {
   "cell_type": "markdown",
   "metadata": {},
   "source": [
    "[剑指 Offer 05. 替换空格](https://leetcode-cn.com/problems/ti-huan-kong-ge-lcof/)\n",
    "\n",
    "把字符串中的空格替换成“%20”,例如：\n",
    "```\n",
    "输入：s = \"We are happy.\"\n",
    "输出：\"We%20are%20happy.\"\n",
    "```"
   ]
  },
  {
   "cell_type": "code",
   "execution_count": 1,
   "metadata": {},
   "outputs": [],
   "source": [
    "# python中提供替换函数\n",
    "class Solution:\n",
    "    def replaceSpace(self, s: str) -> str:\n",
    "        return s.replace(\" \", \"%20\")"
   ]
  },
  {
   "cell_type": "markdown",
   "metadata": {},
   "source": [
    "16 分钟前\t通过\t40 ms\t13.5 MB\tPython3"
   ]
  },
  {
   "cell_type": "code",
   "execution_count": null,
   "metadata": {},
   "outputs": [],
   "source": [
    "class Solution:\n",
    "    def replaceSpace(self, s: str) -> str:\n",
    "        if s==None or len(s)==0:\n",
    "            return \"\"\n",
    "\n",
    "        ret = []\n",
    "        for i in s:\n",
    "            if i==\" \":\n",
    "                ret.append(\"%20\")\n",
    "            else:\n",
    "                ret.append(i)\n",
    "\n",
    "        return \"\".join(ret) "
   ]
  },
  {
   "cell_type": "markdown",
   "metadata": {},
   "source": [
    "执行用时：36 ms, 在所有 Python3 提交中击败了81.44% 的用户\n",
    "内存消耗：13.5 MB, 在所有 Python3 提交中击败了9.41% 的用户"
   ]
  }
 ],
 "metadata": {
  "kernelspec": {
   "display_name": "Python 3",
   "language": "python",
   "name": "python3"
  },
  "language_info": {
   "codemirror_mode": {
    "name": "ipython",
    "version": 3
   },
   "file_extension": ".py",
   "mimetype": "text/x-python",
   "name": "python",
   "nbconvert_exporter": "python",
   "pygments_lexer": "ipython3",
   "version": "3.5.2"
  }
 },
 "nbformat": 4,
 "nbformat_minor": 2
}
