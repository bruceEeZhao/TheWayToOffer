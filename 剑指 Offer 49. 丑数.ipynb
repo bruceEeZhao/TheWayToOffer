{
 "cells": [
  {
   "cell_type": "markdown",
   "metadata": {},
   "source": [
    "[剑指 Offer 49. 丑数](https://leetcode-cn.com/problems/chou-shu-lcof/)\n",
    "\n",
    "```\n",
    "我们把只包含质因子 2、3 和 5 的数称作丑数（Ugly Number）。求按从小到大的顺序的第 n 个丑数。\n",
    "\n",
    " \n",
    "\n",
    "示例:\n",
    "\n",
    "输入: n = 10\n",
    "输出: 12\n",
    "解释: 1, 2, 3, 4, 5, 6, 8, 9, 10, 12 是前 10 个丑数。\n",
    "\n",
    "说明:  \n",
    "\n",
    "    1 是丑数。\n",
    "    n 不超过1690。\n",
    "```"
   ]
  },
  {
   "cell_type": "code",
   "execution_count": null,
   "metadata": {},
   "outputs": [],
   "source": []
  },
  {
   "cell_type": "code",
   "execution_count": null,
   "metadata": {},
   "outputs": [],
   "source": []
  },
  {
   "cell_type": "code",
   "execution_count": 1,
   "metadata": {},
   "outputs": [],
   "source": [
    "from typing import *"
   ]
  },
  {
   "cell_type": "code",
   "execution_count": 2,
   "metadata": {},
   "outputs": [],
   "source": [
    "class Solution:\n",
    "    def nthUglyNumber(self, n: int) -> int:\n",
    "        if n < 1:\n",
    "            return 0\n",
    "        ulgy = [1]\n",
    "        p2, p3, p5 = 0, 0, 0\n",
    "\n",
    "        for i in range(1,n):\n",
    "            minnum = min(ulgy[p2]*2, ulgy[p3]*3, ulgy[p5]*5)\n",
    "            ulgy.append(minnum)\n",
    "\n",
    "            while ulgy[p2]*2 <= ulgy[i]:\n",
    "                p2 += 1 \n",
    "\n",
    "            while ulgy[p3]*3 <= ulgy[i]:\n",
    "                p3 += 1\n",
    "\n",
    "            while ulgy[p5]*5 <= ulgy[i]:\n",
    "                p5 += 1 \n",
    "\n",
    "        return ulgy[n-1] "
   ]
  },
  {
   "cell_type": "code",
   "execution_count": null,
   "metadata": {},
   "outputs": [],
   "source": []
  }
 ],
 "metadata": {
  "kernelspec": {
   "display_name": "Python 3",
   "language": "python",
   "name": "python3"
  },
  "language_info": {
   "codemirror_mode": {
    "name": "ipython",
    "version": 3
   },
   "file_extension": ".py",
   "mimetype": "text/x-python",
   "name": "python",
   "nbconvert_exporter": "python",
   "pygments_lexer": "ipython3",
   "version": "3.8.5"
  }
 },
 "nbformat": 4,
 "nbformat_minor": 4
}
