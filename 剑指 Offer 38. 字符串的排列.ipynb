{
 "cells": [
  {
   "cell_type": "markdown",
   "metadata": {},
   "source": [
    "[剑指 Offer 38. 字符串的排列](https://leetcode-cn.com/problems/zi-fu-chuan-de-pai-lie-lcof/)\n",
    "\n",
    "```\n",
    "输入一个字符串，打印出该字符串中字符的所有排列。\n",
    "\n",
    " \n",
    "\n",
    "你可以以任意顺序返回这个字符串数组，但里面不能有重复元素。\n",
    "\n",
    " \n",
    "\n",
    "示例:\n",
    "\n",
    "输入：s = \"abc\"\n",
    "输出：[\"abc\",\"acb\",\"bac\",\"bca\",\"cab\",\"cba\"]\n",
    "\n",
    "```"
   ]
  },
  {
   "cell_type": "code",
   "execution_count": 4,
   "metadata": {},
   "outputs": [],
   "source": [
    "from typing import *\n",
    "import copy"
   ]
  },
  {
   "cell_type": "code",
   "execution_count": 36,
   "metadata": {},
   "outputs": [],
   "source": [
    "class Solution:\n",
    "    def permutation(self, s: str) -> List[str]:\n",
    "        self.re = list()\n",
    "        list_s = [i for i in s]\n",
    "\n",
    "        list_s.sort()\n",
    "\n",
    "        visited = [False for i in list_s]\n",
    "        self.dfs(list_s, [], visited, 0)\n",
    "\n",
    "        return self.re\n",
    "\n",
    "    \n",
    "    def dfs(self, list_s, sub, visited, index):\n",
    "        if index == len(list_s):\n",
    "            self.re.append(\"\".join(sub[:]))\n",
    "            return\n",
    "\n",
    "        for i in range(len(list_s)):\n",
    "            if not visited[i]:\n",
    "                if i>0 and list_s[i]==list_s[i-1] and visited[i-1]==False:\n",
    "                    continue\n",
    "            \n",
    "                sub.append(list_s[i])\n",
    "                visited[i] = True\n",
    "                self.dfs(list_s, sub, visited, index+1)\n",
    "                sub.pop()\n",
    "                visited[i] = False"
   ]
  },
  {
   "cell_type": "code",
   "execution_count": 37,
   "metadata": {},
   "outputs": [
    {
     "data": {
      "text/plain": [
       "['aab', 'aba', 'baa']"
      ]
     },
     "execution_count": 37,
     "metadata": {},
     "output_type": "execute_result"
    }
   ],
   "source": [
    "s = Solution()\n",
    "s.permutation(\"aba\")"
   ]
  },
  {
   "cell_type": "code",
   "execution_count": null,
   "metadata": {},
   "outputs": [],
   "source": []
  }
 ],
 "metadata": {
  "kernelspec": {
   "display_name": "Python 3",
   "language": "python",
   "name": "python3"
  },
  "language_info": {
   "codemirror_mode": {
    "name": "ipython",
    "version": 3
   },
   "file_extension": ".py",
   "mimetype": "text/x-python",
   "name": "python",
   "nbconvert_exporter": "python",
   "pygments_lexer": "ipython3",
   "version": "3.8.5"
  }
 },
 "nbformat": 4,
 "nbformat_minor": 4
}
