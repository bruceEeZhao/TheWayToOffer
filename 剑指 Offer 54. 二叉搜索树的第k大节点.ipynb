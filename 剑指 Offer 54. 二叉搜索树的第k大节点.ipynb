{
 "cells": [
  {
   "cell_type": "markdown",
   "metadata": {},
   "source": [
    "[剑指 Offer 54. 二叉搜索树的第k大节点](https://leetcode-cn.com/problems/er-cha-sou-suo-shu-de-di-kda-jie-dian-lcof/)\n",
    "\n",
    "```\n",
    "给定一棵二叉搜索树，请找出其中第k大的节点。\n",
    "\n",
    " \n",
    "\n",
    "示例 1:\n",
    "\n",
    "输入: root = [3,1,4,null,2], k = 1\n",
    "   3\n",
    "  / \\\n",
    " 1   4\n",
    "  \\\n",
    "   2\n",
    "输出: 4\n",
    "\n",
    "示例 2:\n",
    "\n",
    "输入: root = [5,3,6,2,4,null,null,1], k = 3\n",
    "       5\n",
    "      / \\\n",
    "     3   6\n",
    "    / \\\n",
    "   2   4\n",
    "  /\n",
    " 1\n",
    "输出: 4\n",
    "```"
   ]
  },
  {
   "cell_type": "code",
   "execution_count": null,
   "metadata": {},
   "outputs": [],
   "source": []
  },
  {
   "cell_type": "code",
   "execution_count": null,
   "metadata": {},
   "outputs": [],
   "source": []
  },
  {
   "cell_type": "code",
   "execution_count": 1,
   "metadata": {},
   "outputs": [],
   "source": [
    "from typing import *"
   ]
  },
  {
   "cell_type": "code",
   "execution_count": 2,
   "metadata": {},
   "outputs": [],
   "source": [
    "# Definition for a binary tree node.\n",
    "class TreeNode:\n",
    "    def __init__(self, x):\n",
    "        self.val = x\n",
    "        self.left = None\n",
    "        self.right = None"
   ]
  },
  {
   "cell_type": "code",
   "execution_count": 3,
   "metadata": {},
   "outputs": [],
   "source": [
    "\n",
    "\n",
    "class Solution:\n",
    "    def kthLargest(self, root: TreeNode, k: int) -> int:\n",
    "        if root==None:\n",
    "            return -1\n",
    "        re = []\n",
    "\n",
    "        self.walk(root, re)\n",
    "\n",
    "        if k>len(re):\n",
    "            return -1\n",
    "        return re[-k]\n",
    "\n",
    "    def walk(self, root, re):\n",
    "        if root==None:\n",
    "            return\n",
    "\n",
    "        if root.left:\n",
    "            self.walk(root.left, re)\n",
    "\n",
    "        re.append(root.val)\n",
    "        \n",
    "        if root.right:\n",
    "            self.walk(root.right, re)"
   ]
  },
  {
   "cell_type": "code",
   "execution_count": null,
   "metadata": {},
   "outputs": [],
   "source": []
  },
  {
   "cell_type": "code",
   "execution_count": null,
   "metadata": {},
   "outputs": [],
   "source": []
  },
  {
   "cell_type": "code",
   "execution_count": null,
   "metadata": {},
   "outputs": [],
   "source": []
  },
  {
   "cell_type": "code",
   "execution_count": 4,
   "metadata": {},
   "outputs": [],
   "source": [
    "class Solution:\n",
    "    def kthLargest(self, root: TreeNode, k: int) -> int:\n",
    "        if root==None:\n",
    "            return -1\n",
    "\n",
    "        target,k = self.walk(root, k)\n",
    "\n",
    "        return target.val\n",
    "\n",
    "        \n",
    "\n",
    "    def walk(self, root, k):\n",
    "        target = None\n",
    "        if root.right:\n",
    "            target,k = self.walk(root.right, k)\n",
    "\n",
    "        if target==None:\n",
    "            if k==1:\n",
    "                target = root\n",
    "            k-=1\n",
    "        \n",
    "        if target==None and root.left:\n",
    "            target,k = self.walk(root.left, k)\n",
    "            \n",
    "        return target,k"
   ]
  },
  {
   "cell_type": "code",
   "execution_count": null,
   "metadata": {},
   "outputs": [],
   "source": []
  }
 ],
 "metadata": {
  "kernelspec": {
   "display_name": "Python 3",
   "language": "python",
   "name": "python3"
  },
  "language_info": {
   "codemirror_mode": {
    "name": "ipython",
    "version": 3
   },
   "file_extension": ".py",
   "mimetype": "text/x-python",
   "name": "python",
   "nbconvert_exporter": "python",
   "pygments_lexer": "ipython3",
   "version": "3.8.5"
  }
 },
 "nbformat": 4,
 "nbformat_minor": 4
}
