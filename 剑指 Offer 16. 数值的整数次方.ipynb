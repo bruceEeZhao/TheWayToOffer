{
 "cells": [
  {
   "cell_type": "markdown",
   "metadata": {},
   "source": [
    "[剑指 Offer 16. 数值的整数次方](https://leetcode-cn.com/problems/shu-zhi-de-zheng-shu-ci-fang-lcof/)\n",
    "\n",
    "\n",
    "首先需要考虑边界条件：n=0, n<0 且 x=0的情况，第一种情况n=0的情况下，任何数的0次幂都是1，第二种情况，0不存在负数次幂\n",
    "\n",
    "其次针对正常的情况（1. n<0 x!=0  2. n>0）这两种情况首先把幂次当成是正数，运算完毕后再对负数的情况做处理\n",
    "\n",
    "求一个数x的n次幂，最直观的会想到循环n次进行乘法，但这样的时间复杂度是O(n)，有更低复杂度的算法。\n",
    "\n",
    "当n是偶数时，$a^n = a^{n/2} * a^{n/2}$ \n",
    "\n",
    "当n是奇数时，$a^n = a^{n/2} * a^{n/2} * a$\n",
    "\n",
    "并使用位运算进行优化"
   ]
  },
  {
   "cell_type": "code",
   "execution_count": 9,
   "metadata": {},
   "outputs": [],
   "source": [
    "from typing import *"
   ]
  },
  {
   "cell_type": "code",
   "execution_count": 10,
   "metadata": {},
   "outputs": [],
   "source": [
    "class Solution:\n",
    "    def myPow(self, x: float, n: int) -> float:\n",
    "        if n == 0:\n",
    "            return 1.0\n",
    "        elif n < 0 and x==0.0:\n",
    "            # 这种情况是异常， 0不能存在负数次方\n",
    "            return 0.0\n",
    "        else:\n",
    "            flag = False\n",
    "            if n < 0:\n",
    "                flag = True\n",
    "                n = -n\n",
    "            re = 1\n",
    "            re = self.myPow2(x, n)\n",
    "\n",
    "            if flag:\n",
    "                re = 1/re \n",
    "\n",
    "            return re \n",
    "\n",
    "    def myPow2(self, x, n):\n",
    "        if n==0:\n",
    "            return 1\n",
    "        if n==1:\n",
    "            return x\n",
    "        \n",
    "        result = self.myPow(x, n>>1)\n",
    "        result *= result\n",
    "        if (n & 0x1 == 1):\n",
    "            result *= x\n",
    "\n",
    "        return result"
   ]
  },
  {
   "cell_type": "code",
   "execution_count": null,
   "metadata": {},
   "outputs": [],
   "source": []
  },
  {
   "cell_type": "code",
   "execution_count": 11,
   "metadata": {},
   "outputs": [
    {
     "name": "stdout",
     "output_type": "stream",
     "text": [
      "0.25\n"
     ]
    }
   ],
   "source": [
    "s = Solution()\n",
    "print(s.myPow(2.0, -2))"
   ]
  },
  {
   "cell_type": "code",
   "execution_count": null,
   "metadata": {},
   "outputs": [],
   "source": []
  }
 ],
 "metadata": {
  "kernelspec": {
   "display_name": "Python 3",
   "language": "python",
   "name": "python3"
  },
  "language_info": {
   "codemirror_mode": {
    "name": "ipython",
    "version": 3
   },
   "file_extension": ".py",
   "mimetype": "text/x-python",
   "name": "python",
   "nbconvert_exporter": "python",
   "pygments_lexer": "ipython3",
   "version": "3.8.5"
  }
 },
 "nbformat": 4,
 "nbformat_minor": 4
}
