{
 "cells": [
  {
   "cell_type": "markdown",
   "metadata": {},
   "source": [
    "[剑指 Offer 07. 重建二叉树](https://leetcode-cn.com/problems/zhong-jian-er-cha-shu-lcof/)\n",
    "\n",
    "输入某二叉树的前序遍历和中序遍历的结果，请重建该二叉树。假设输入的前序遍历和中序遍历的结果中都不含重复的数字。\n",
    "\n",
    "\n",
    "例如，给出\n",
    "```\n",
    "前序遍历 preorder = [3,9,20,15,7]\n",
    "中序遍历 inorder = [9,3,15,20,7]\n",
    "\n",
    "返回如下的二叉树：\n",
    "\n",
    "    3\n",
    "   / \\\n",
    "  9  20\n",
    "    /  \\\n",
    "   15   7\n",
    "\n",
    "````"
   ]
  },
  {
   "cell_type": "code",
   "execution_count": 1,
   "metadata": {},
   "outputs": [],
   "source": [
    "from typing import *\n"
   ]
  },
  {
   "cell_type": "code",
   "execution_count": 2,
   "metadata": {},
   "outputs": [],
   "source": [
    "class TreeNode:\n",
    "    def __init__(self, x):\n",
    "        self.val = x\n",
    "        self.left = None\n",
    "        self.right = None\n",
    "    def __str__(self):\n",
    "        print(\"val = %d, left.val = %d, right.val = %d\" %(self.val, self.left.val, self.right.val))"
   ]
  },
  {
   "cell_type": "code",
   "execution_count": 5,
   "metadata": {},
   "outputs": [],
   "source": [
    "class Solution:\n",
    "    def buildTree(self, preorder: List[int], inorder: List[int]) -> TreeNode:\n",
    "        if preorder==None or len(preorder)==0 or \\\n",
    "           inorder==None or len(inorder)==0 or \\\n",
    "           len(preorder) != len(inorder):\n",
    "           return None\n",
    "\n",
    "        rootVal = preorder[0]\n",
    "        root = TreeNode(rootVal)\n",
    "        # 从中序遍历找出左子树，右子树\n",
    "        leftIn = inorder[0:inorder.index(rootVal)] \n",
    "        rightIn = inorder[inorder.index(rootVal)+1:]\n",
    "\n",
    "        # 从前序遍历找出左子树，右子树\n",
    "       # 从前序遍历找出左子树，右子树\n",
    "        leftPre = preorder[1:len(leftIn)+1]\n",
    "        rightPre = preorder[len(leftIn)+1:]\n",
    "\n",
    "        #print(leftPre, rightPre)\n",
    "\n",
    "        root.left = self.buildTree(leftPre, leftIn)\n",
    "        root.right =self.buildTree(rightPre, rightIn)\n",
    "\n",
    "        return root"
   ]
  },
  {
   "cell_type": "code",
   "execution_count": null,
   "metadata": {},
   "outputs": [],
   "source": []
  }
 ],
 "metadata": {
  "kernelspec": {
   "display_name": "Python 3",
   "language": "python",
   "name": "python3"
  },
  "language_info": {
   "codemirror_mode": {
    "name": "ipython",
    "version": 3
   },
   "file_extension": ".py",
   "mimetype": "text/x-python",
   "name": "python",
   "nbconvert_exporter": "python",
   "pygments_lexer": "ipython3",
   "version": "3.5.2"
  }
 },
 "nbformat": 4,
 "nbformat_minor": 4
}
