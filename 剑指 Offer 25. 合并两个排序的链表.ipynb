{
 "cells": [
  {
   "cell_type": "markdown",
   "metadata": {},
   "source": [
    "[剑指 Offer 25. 合并两个排序的链表](https://leetcode-cn.com/problems/he-bing-liang-ge-pai-xu-de-lian-biao-lcof/)\n",
    "\n",
    "```\n",
    "输入两个递增排序的链表，合并这两个链表并使新链表中的节点仍然是递增排序的。\n",
    "\n",
    "示例1：\n",
    "\n",
    "输入：1->2->4, 1->3->4\n",
    "输出：1->1->2->3->4->4\n",
    "\n",
    "限制：\n",
    "\n",
    "0 <= 链表长度 <= 1000\n",
    "\n",
    "```"
   ]
  },
  {
   "cell_type": "code",
   "execution_count": 5,
   "metadata": {},
   "outputs": [],
   "source": [
    "from typing import *"
   ]
  },
  {
   "cell_type": "code",
   "execution_count": null,
   "metadata": {},
   "outputs": [],
   "source": []
  },
  {
   "cell_type": "code",
   "execution_count": null,
   "metadata": {},
   "outputs": [],
   "source": [
    "# Definition for singly-linked list.\n",
    "# class ListNode:\n",
    "#     def __init__(self, x):\n",
    "#         self.val = x\n",
    "#         self.next = None\n",
    "\n",
    "class Solution:\n",
    "    def mergeTwoLists(self, l1: ListNode, l2: ListNode) -> ListNode:\n",
    "        s = l1\n",
    "        p = l2\n",
    "\n",
    "        head = ListNode(0)\n",
    "        h = head\n",
    "        while s and p:\n",
    "            if s.val < p.val:\n",
    "                h.next = s\n",
    "                s = s.next\n",
    "            else:\n",
    "                h.next = p\n",
    "                p = p.next\n",
    "            h = h.next\n",
    "\n",
    "        if s:\n",
    "            h.next = s\n",
    "        else:\n",
    "            h.next = p\n",
    "\n",
    "        return head.next"
   ]
  },
  {
   "cell_type": "code",
   "execution_count": null,
   "metadata": {},
   "outputs": [],
   "source": []
  },
  {
   "cell_type": "code",
   "execution_count": null,
   "metadata": {},
   "outputs": [],
   "source": []
  },
  {
   "cell_type": "code",
   "execution_count": 2,
   "metadata": {},
   "outputs": [],
   "source": [
    "# 合并多个链表，可以使用 heapq"
   ]
  },
  {
   "cell_type": "code",
   "execution_count": 12,
   "metadata": {},
   "outputs": [],
   "source": [
    "# Definition for singly-linked list.\n",
    "class ListNode(object):\n",
    "    def __init__(self, val=0, next=None):\n",
    "        self.val = val\n",
    "        self.next = next\n",
    "        \n",
    "    def __lt__(self, other):\n",
    "        return self.val < other.val\n",
    "        \n",
    "        \n",
    "from heapq import *\n",
    "\n",
    "class Solution(object):\n",
    "    def mergeKLists(self, lists: List[ListNode]) -> ListNode:\n",
    "        \"\"\"\n",
    "        :type lists: List[ListNode]\n",
    "        :rtype: ListNode\n",
    "        \"\"\"\n",
    "        if len(lists)<1:\n",
    "            return None\n",
    "        \n",
    "        if len(lists)==1:\n",
    "            return lists[0]\n",
    "\n",
    "        heap = []\n",
    "        head = ListNode()\n",
    "        h = head\n",
    "\n",
    "        # 初始化堆，把每个链表中的第一个元素放入堆\n",
    "        for i in range(len(lists)):\n",
    "            if lists[i]:\n",
    "                heappush(heap, (lists[i].val, lists[i]))\n",
    "\n",
    "        while len(heap):\n",
    "            val, pointer = heappop(heap)\n",
    "            h.next = pointer\n",
    "            h = h.next\n",
    "\n",
    "            if pointer.next:\n",
    "                pNext = pointer.next\n",
    "                heappush(heap, (pNext.val, pNext))\n",
    "\n",
    "        return head.next"
   ]
  },
  {
   "cell_type": "code",
   "execution_count": 13,
   "metadata": {},
   "outputs": [],
   "source": [
    "def genLinkList(array: List[int]) -> ListNode:\n",
    "    head = ListNode()\n",
    "    h = head\n",
    "    for i in array:\n",
    "        tmp = ListNode(i, None)\n",
    "        h.next = tmp\n",
    "        h = h.next\n",
    "        \n",
    "    return head.next"
   ]
  },
  {
   "cell_type": "code",
   "execution_count": 14,
   "metadata": {},
   "outputs": [],
   "source": [
    "h1 = genLinkList([1,2,3])\n",
    "h2 = genLinkList([3,5,8,9])\n",
    "h3 = genLinkList([1,1,3,4])\n",
    "lists = [h1,h2,h3]"
   ]
  },
  {
   "cell_type": "code",
   "execution_count": 15,
   "metadata": {},
   "outputs": [
    {
     "name": "stdout",
     "output_type": "stream",
     "text": [
      "1\n",
      "1\n",
      "1\n",
      "2\n",
      "3\n",
      "3\n",
      "3\n",
      "4\n",
      "5\n",
      "8\n",
      "9\n"
     ]
    }
   ],
   "source": [
    "s = Solution()\n",
    "re = s.mergeKLists(lists)\n",
    "r = re \n",
    "while r:\n",
    "    print(r.val)\n",
    "    r = r.next"
   ]
  },
  {
   "cell_type": "code",
   "execution_count": 11,
   "metadata": {},
   "outputs": [
    {
     "name": "stdout",
     "output_type": "stream",
     "text": [
      "3.8.5 (default, Sep  4 2020, 07:30:14) \n",
      "[GCC 7.3.0]\n"
     ]
    }
   ],
   "source": [
    "import sys\n",
    "print(sys.version)"
   ]
  },
  {
   "cell_type": "code",
   "execution_count": null,
   "metadata": {},
   "outputs": [],
   "source": []
  }
 ],
 "metadata": {
  "kernelspec": {
   "display_name": "Python 3",
   "language": "python",
   "name": "python3"
  },
  "language_info": {
   "codemirror_mode": {
    "name": "ipython",
    "version": 3
   },
   "file_extension": ".py",
   "mimetype": "text/x-python",
   "name": "python",
   "nbconvert_exporter": "python",
   "pygments_lexer": "ipython3",
   "version": "3.8.5"
  }
 },
 "nbformat": 4,
 "nbformat_minor": 4
}
