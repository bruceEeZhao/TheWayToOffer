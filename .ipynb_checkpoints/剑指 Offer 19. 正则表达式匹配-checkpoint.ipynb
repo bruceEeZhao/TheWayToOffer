{
 "cells": [
  {
   "cell_type": "markdown",
   "metadata": {},
   "source": [
    "[剑指 Offer 19. 正则表达式匹配](https://leetcode-cn.com/problems/zheng-ze-biao-da-shi-pi-pei-lcof/)"
   ]
  },
  {
   "cell_type": "markdown",
   "metadata": {},
   "source": [
    "```c\n",
    "#include <stdlib.h>\n",
    "#include <stdio.h>\n",
    "\n",
    "bool isMatchCore(char* s, char* p);\n",
    "\n",
    "bool isMatch(char* s, char* p){\n",
    "    if (s==NULL || p==NULL) {\n",
    "        return false;\n",
    "    }\n",
    "    return isMatchCore(s, p);\n",
    "}\n",
    "\n",
    "bool isMatchCore(char* s, char* p) {\n",
    "    if (*s=='\\0' && *p=='\\0') {\n",
    "        return true;\n",
    "    }\n",
    "\n",
    "    if (*p=='\\0' && *s!='\\0') {\n",
    "        return false;\n",
    "    }\n",
    "\n",
    "    if (*(p+1)=='*') {\n",
    "        if (*p==*s || (*p=='.' && *s!='\\0')) {\n",
    "            return isMatchCore(s+1, p+2) \n",
    "            || isMatchCore(s+1, p)\n",
    "            || isMatchCore(s, p+2);\n",
    "        } else {\n",
    "            return isMatchCore(s, p+2);\n",
    "        }\n",
    "    }\n",
    "\n",
    "    if (*p==*s || (*p=='.' && *s!='\\0')) {\n",
    "        return isMatchCore(s+1, p+1);\n",
    "    }\n",
    "\n",
    "    return false;\n",
    "}\n",
    "```"
   ]
  },
  {
   "cell_type": "code",
   "execution_count": null,
   "metadata": {},
   "outputs": [],
   "source": []
  }
 ],
 "metadata": {
  "kernelspec": {
   "display_name": "Python 3",
   "language": "python",
   "name": "python3"
  },
  "language_info": {
   "codemirror_mode": {
    "name": "ipython",
    "version": 3
   },
   "file_extension": ".py",
   "mimetype": "text/x-python",
   "name": "python",
   "nbconvert_exporter": "python",
   "pygments_lexer": "ipython3",
   "version": "3.8.5"
  }
 },
 "nbformat": 4,
 "nbformat_minor": 4
}
