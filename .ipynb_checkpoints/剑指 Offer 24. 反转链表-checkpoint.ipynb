{
 "cells": [
  {
   "cell_type": "markdown",
   "metadata": {},
   "source": [
    "[剑指 Offer 24. 反转链表](https://leetcode-cn.com/problems/fan-zhuan-lian-biao-lcof/)\n",
    "\n",
    "```\n",
    "示例:\n",
    "\n",
    "输入: 1->2->3->4->5->NULL\n",
    "输出: 5->4->3->2->1->NULL\n",
    "\n",
    " \n",
    "\n",
    "限制：\n",
    "\n",
    "0 <= 节点个数 <= 5000\n",
    "\n",
    "```"
   ]
  },
  {
   "cell_type": "code",
   "execution_count": null,
   "metadata": {},
   "outputs": [],
   "source": []
  },
  {
   "cell_type": "markdown",
   "metadata": {},
   "source": [
    "递归"
   ]
  },
  {
   "cell_type": "code",
   "execution_count": null,
   "metadata": {},
   "outputs": [],
   "source": [
    "# Definition for singly-linked list.\n",
    "# class ListNode:\n",
    "#     def __init__(self, x):\n",
    "#         self.val = x\n",
    "#         self.next = None\n",
    "\n",
    "class Solution:\n",
    "    def reverseList(self, head: ListNode) -> ListNode:\n",
    "        if head==None:\n",
    "            return None\n",
    "\n",
    "        def rever(root):\n",
    "            if root.next:\n",
    "                newhead = rever(root.next)\n",
    "                root.next.next = root\n",
    "                root.next = None\n",
    "            else:\n",
    "                return root\n",
    "\n",
    "            return newhead\n",
    "            \n",
    "        return rever(head)"
   ]
  },
  {
   "cell_type": "code",
   "execution_count": null,
   "metadata": {},
   "outputs": [],
   "source": []
  },
  {
   "cell_type": "code",
   "execution_count": null,
   "metadata": {},
   "outputs": [],
   "source": []
  },
  {
   "cell_type": "code",
   "execution_count": null,
   "metadata": {},
   "outputs": [],
   "source": [
    "# Definition for singly-linked list.\n",
    "# class ListNode:\n",
    "#     def __init__(self, x):\n",
    "#         self.val = x\n",
    "#         self.next = None\n",
    "\n",
    "class Solution:\n",
    "    def reverseList(self, head: ListNode) -> ListNode:\n",
    "        if head==None:\n",
    "            return None\n",
    "\n",
    "        newHead = None \n",
    "        p = head\n",
    "        pPre = None\n",
    "        while p:\n",
    "            pNext = p.next\n",
    "            if pNext==None:\n",
    "                newHead = p\n",
    "            \n",
    "            p.next = pPre\n",
    "\n",
    "            pPre = p \n",
    "            p = pNext\n",
    "\n",
    "        return newHead"
   ]
  }
 ],
 "metadata": {
  "kernelspec": {
   "display_name": "Python 3",
   "language": "python",
   "name": "python3"
  },
  "language_info": {
   "codemirror_mode": {
    "name": "ipython",
    "version": 3
   },
   "file_extension": ".py",
   "mimetype": "text/x-python",
   "name": "python",
   "nbconvert_exporter": "python",
   "pygments_lexer": "ipython3",
   "version": "3.8.5"
  }
 },
 "nbformat": 4,
 "nbformat_minor": 4
}
