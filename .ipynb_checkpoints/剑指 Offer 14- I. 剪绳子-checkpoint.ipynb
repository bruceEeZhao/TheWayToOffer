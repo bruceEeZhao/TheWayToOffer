{
 "cells": [
  {
   "cell_type": "markdown",
   "metadata": {},
   "source": [
    "[剑指 Offer 14- I. 剪绳子](https://leetcode-cn.com/problems/jian-sheng-zi-lcof/)\n",
    "\n",
    "```\n",
    "给你一根长度为 n 的绳子，请把绳子剪成整数长度的 m 段（m、n都是整数，n>1并且m>1），每段绳子的长度记为 k[0],k[1]...k[m-1] 。请问 k[0]*k[1]*...*k[m-1] 可能的最大乘积是多少？例如，当绳子的长度是8时，我们把它剪成长度分别为2、3、3的三段，此时得到的最大乘积是18。\n",
    "\n",
    "示例 1：\n",
    "\n",
    "输入: 2\n",
    "输出: 1\n",
    "解释: 2 = 1 + 1, 1 × 1 = 1\n",
    "\n",
    "示例 2:\n",
    "\n",
    "输入: 10\n",
    "输出: 36\n",
    "解释: 10 = 3 + 3 + 4, 3 × 3 × 4 = 36\n",
    "\n",
    "```"
   ]
  },
  {
   "cell_type": "code",
   "execution_count": 1,
   "metadata": {},
   "outputs": [],
   "source": [
    "from typing import *"
   ]
  },
  {
   "cell_type": "markdown",
   "metadata": {},
   "source": [
    "定义dp[i]为绳子长度为i时，可以获得的最大乘积"
   ]
  },
  {
   "cell_type": "code",
   "execution_count": 2,
   "metadata": {},
   "outputs": [],
   "source": [
    "class Solution:\n",
    "    def cuttingRope(self, n: int) -> int:\n",
    "        if n < 2:\n",
    "            return 0\n",
    "        if n == 2:\n",
    "            return 1\n",
    "        if n == 3:\n",
    "            return 2\n",
    "\n",
    "        dp = [0 for i in range(n+1)]\n",
    "        dp[0] = 0\n",
    "        dp[1] = 1\n",
    "        dp[2] = 2\n",
    "        dp[3] = 3\n",
    "\n",
    "        for i in range(4, n+1):\n",
    "            maxn = 0\n",
    "            for j in range(1, i//2 + 1):\n",
    "                tmp = dp[j] * dp[i-j]\n",
    "                if tmp > maxn:\n",
    "                    maxn = tmp\n",
    "\n",
    "                dp[i] = maxn\n",
    "\n",
    "        return dp[-1]"
   ]
  },
  {
   "cell_type": "markdown",
   "metadata": {},
   "source": [
    "贪心法： 当绳子长度大于等于5时，切出长度为3的绳子，最后剩下的绳子与之前的乘积相乘即得到最大值"
   ]
  },
  {
   "cell_type": "code",
   "execution_count": 3,
   "metadata": {},
   "outputs": [],
   "source": [
    "class Solution:\n",
    "    def cuttingRope(self, n: int) -> int:\n",
    "        if n < 2:\n",
    "            return 0\n",
    "        if n == 2:\n",
    "            return 1\n",
    "        if n == 3:\n",
    "            return 2\n",
    "\n",
    "        re = 1\n",
    "\n",
    "        while n>=5:\n",
    "            n -= 3\n",
    "            re *= 3\n",
    "\n",
    "        re *= n\n",
    "        return re"
   ]
  },
  {
   "cell_type": "code",
   "execution_count": null,
   "metadata": {},
   "outputs": [],
   "source": []
  }
 ],
 "metadata": {
  "kernelspec": {
   "display_name": "Python 3",
   "language": "python",
   "name": "python3"
  },
  "language_info": {
   "codemirror_mode": {
    "name": "ipython",
    "version": 3
   },
   "file_extension": ".py",
   "mimetype": "text/x-python",
   "name": "python",
   "nbconvert_exporter": "python",
   "pygments_lexer": "ipython3",
   "version": "3.8.5"
  }
 },
 "nbformat": 4,
 "nbformat_minor": 4
}
