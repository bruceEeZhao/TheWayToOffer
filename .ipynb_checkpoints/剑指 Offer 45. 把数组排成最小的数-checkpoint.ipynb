{
 "cells": [
  {
   "cell_type": "markdown",
   "metadata": {},
   "source": [
    "[剑指 Offer 45. 把数组排成最小的数](https://leetcode-cn.com/problems/ba-shu-zu-pai-cheng-zui-xiao-de-shu-lcof/)\n",
    "\n",
    "```\n",
    "输入一个非负整数数组，把数组里所有数字拼接起来排成一个数，打印能拼接出的所有数字中最小的一个。\n",
    "\n",
    " \n",
    "\n",
    "示例 1:\n",
    "\n",
    "输入: [10,2]\n",
    "输出: \"102\"\n",
    "\n",
    "示例 2:\n",
    "\n",
    "输入: [3,30,34,5,9]\n",
    "输出: \"3033459\"\n",
    "\n",
    "```"
   ]
  },
  {
   "cell_type": "code",
   "execution_count": null,
   "metadata": {},
   "outputs": [],
   "source": [
    "from typing import *"
   ]
  },
  {
   "cell_type": "code",
   "execution_count": null,
   "metadata": {},
   "outputs": [],
   "source": [
    "class Solution:\n",
    "    def minNumber(self, nums: List[int]) -> str:\n",
    "        self.quicksort(nums,0, len(nums)-1)\n",
    "        re = \"\"\n",
    "        for i in nums:\n",
    "            re += str(i)\n",
    "\n",
    "        return re\n",
    "\n",
    "    def quicksort(self, nums, left, right):\n",
    "        if left>=right:\n",
    "            return\n",
    "        base = nums[left]\n",
    "\n",
    "        space = left\n",
    "        l = left\n",
    "        r = right\n",
    "        while l < r:\n",
    "            while self.bigger(nums[r], base) and l<r:\n",
    "                r-=1\n",
    "            if self.smaller(nums[r], base) and l<r:\n",
    "                nums[space] = nums[r]\n",
    "                space = r\n",
    "\n",
    "            while self.smaller(nums[l], base) and l<r:\n",
    "                l+=1\n",
    "            if self.bigger(nums[l], base) and l<r:\n",
    "                nums[space] = nums[l]\n",
    "                space = l \n",
    "\n",
    "        nums[space] = base\n",
    "        self.quicksort(nums, left, space-1)\n",
    "        self.quicksort(nums, space+1, right)\n",
    "\n",
    "\n",
    "    def bigger(self, src, des):\n",
    "        s = str(src)\n",
    "        d = str(des)\n",
    "\n",
    "        return True if int(s+d) >= int(d+s) else False\n",
    "\n",
    "\n",
    "    def smaller(self, src, des):\n",
    "        s = str(src)\n",
    "        d = str(des)\n",
    "\n",
    "        return True if int(s+d) <= int(d+s) else False"
   ]
  }
 ],
 "metadata": {
  "kernelspec": {
   "display_name": "Python 3",
   "language": "python",
   "name": "python3"
  },
  "language_info": {
   "codemirror_mode": {
    "name": "ipython",
    "version": 3
   },
   "file_extension": ".py",
   "mimetype": "text/x-python",
   "name": "python",
   "nbconvert_exporter": "python",
   "pygments_lexer": "ipython3",
   "version": "3.8.5"
  }
 },
 "nbformat": 4,
 "nbformat_minor": 4
}
