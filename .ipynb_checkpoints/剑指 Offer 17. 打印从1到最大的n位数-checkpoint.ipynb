{
 "cells": [
  {
   "cell_type": "markdown",
   "metadata": {},
   "source": [
    "[剑指 Offer 17. 打印从1到最大的n位数](https://leetcode-cn.com/problems/da-yin-cong-1dao-zui-da-de-nwei-shu-lcof/)\n",
    "\n",
    "输入数字 n，按顺序打印出从 1 到最大的 n 位十进制数。比如输入 3，则打印出 1、2、3 一直到最大的 3 位数 999。\n",
    "\n",
    "```\n",
    "示例 1:\n",
    "\n",
    "输入: n = 1\n",
    "输出: [1,2,3,4,5,6,7,8,9]\n",
    "```\n"
   ]
  },
  {
   "cell_type": "code",
   "execution_count": 1,
   "metadata": {},
   "outputs": [],
   "source": [
    "from typing import *"
   ]
  },
  {
   "cell_type": "code",
   "execution_count": 2,
   "metadata": {},
   "outputs": [],
   "source": [
    "class Solution:\n",
    "    def printNumbers(self, n: int) -> List[int]:\n",
    "        return [i for i in range(1, 10**n)]"
   ]
  },
  {
   "cell_type": "markdown",
   "metadata": {},
   "source": [
    "其实这道题的原意是要考虑大数的情况，在python3里，数字是不会溢出的，故这是一种偷懒的做法"
   ]
  },
  {
   "cell_type": "code",
   "execution_count": 40,
   "metadata": {},
   "outputs": [],
   "source": [
    "# 考虑大数的情况，用数组的方式完成，\n",
    "# 使用递归\n",
    "\n",
    "class Solution:\n",
    "    def printNumbers(self, n: int) -> List[int]:\n",
    "        self.re = []\n",
    "        num = [0 for i in range(n)]\n",
    "        \n",
    "        for i in range(10):\n",
    "            num[0] = i \n",
    "            self.printToMaxRecur(num, n, 0)\n",
    "            \n",
    "        return self.re\n",
    "            \n",
    "    def printToMaxRecur(self, num, length, index):\n",
    "        if index==length-1:\n",
    "            return self.re.append(self.printnum(num))\n",
    "        \n",
    "        for i in range(10):\n",
    "            num[index+1] = i\n",
    "            self.printToMaxRecur(num, length, index+1)\n",
    "            \n",
    "    def printnum(self, num):\n",
    "        re = \"\"\n",
    "        begin = True\n",
    "        for i in range(len(num)):\n",
    "            if begin:\n",
    "                if num[i]==0:\n",
    "                    continue\n",
    "                else:\n",
    "                    begin = False\n",
    "            re += str(num[i])\n",
    "        return re"
   ]
  },
  {
   "cell_type": "code",
   "execution_count": 36,
   "metadata": {},
   "outputs": [
    {
     "name": "stdout",
     "output_type": "stream",
     "text": [
      "['', '1', '2', '3', '4', '5', '6', '7', '8', '9', '10', '11', '12', '13', '14', '15', '16', '17', '18', '19', '20', '21', '22', '23', '24', '25', '26', '27', '28', '29', '30', '31', '32', '33', '34', '35', '36', '37', '38', '39', '40', '41', '42', '43', '44', '45', '46', '47', '48', '49', '50', '51', '52', '53', '54', '55', '56', '57', '58', '59', '60', '61', '62', '63', '64', '65', '66', '67', '68', '69', '70', '71', '72', '73', '74', '75', '76', '77', '78', '79', '80', '81', '82', '83', '84', '85', '86', '87', '88', '89', '90', '91', '92', '93', '94', '95', '96', '97', '98', '99']\n"
     ]
    }
   ],
   "source": [
    "s = Solution()\n",
    "re = s.printNumbers(2)\n",
    "print(re)"
   ]
  },
  {
   "cell_type": "code",
   "execution_count": 38,
   "metadata": {},
   "outputs": [],
   "source": [
    "class Solution:\n",
    "    def printNumbers(self, n: int) -> List[int]:\n",
    "        self.re = []\n",
    "        num = [0 for i in range(n)]\n",
    "        \n",
    "        for i in range(10):\n",
    "            num[0] = i \n",
    "            self.printToMaxRecur(num, n, 0)\n",
    "            \n",
    "        return self.re[1:]\n",
    "            \n",
    "    def printToMaxRecur(self, num, length, index):\n",
    "        if index==length-1:\n",
    "            return self.re.append(self.printnum(num))\n",
    "        \n",
    "        for i in range(10):\n",
    "            num[index+1] = i\n",
    "            self.printToMaxRecur(num, length, index+1)\n",
    "            \n",
    "    def printnum(self, num):\n",
    "        re = \"\"\n",
    "        begin = True\n",
    "        for i in range(len(num)):\n",
    "            if begin:\n",
    "                if num[i]==0:\n",
    "                    continue\n",
    "                else:\n",
    "                    begin = False\n",
    "            re += str(num[i])\n",
    "\n",
    "        if re==\"\":\n",
    "            re = \"0\"\n",
    "        return int(re)"
   ]
  },
  {
   "cell_type": "code",
   "execution_count": 39,
   "metadata": {},
   "outputs": [
    {
     "name": "stdout",
     "output_type": "stream",
     "text": [
      "[1, 2, 3, 4, 5, 6, 7, 8, 9, 10, 11, 12, 13, 14, 15, 16, 17, 18, 19, 20, 21, 22, 23, 24, 25, 26, 27, 28, 29, 30, 31, 32, 33, 34, 35, 36, 37, 38, 39, 40, 41, 42, 43, 44, 45, 46, 47, 48, 49, 50, 51, 52, 53, 54, 55, 56, 57, 58, 59, 60, 61, 62, 63, 64, 65, 66, 67, 68, 69, 70, 71, 72, 73, 74, 75, 76, 77, 78, 79, 80, 81, 82, 83, 84, 85, 86, 87, 88, 89, 90, 91, 92, 93, 94, 95, 96, 97, 98, 99]\n"
     ]
    }
   ],
   "source": [
    "s = Solution()\n",
    "re = s.printNumbers(2)\n",
    "print(re)"
   ]
  },
  {
   "cell_type": "code",
   "execution_count": null,
   "metadata": {},
   "outputs": [],
   "source": []
  }
 ],
 "metadata": {
  "kernelspec": {
   "display_name": "Python 3",
   "language": "python",
   "name": "python3"
  },
  "language_info": {
   "codemirror_mode": {
    "name": "ipython",
    "version": 3
   },
   "file_extension": ".py",
   "mimetype": "text/x-python",
   "name": "python",
   "nbconvert_exporter": "python",
   "pygments_lexer": "ipython3",
   "version": "3.8.5"
  }
 },
 "nbformat": 4,
 "nbformat_minor": 4
}
