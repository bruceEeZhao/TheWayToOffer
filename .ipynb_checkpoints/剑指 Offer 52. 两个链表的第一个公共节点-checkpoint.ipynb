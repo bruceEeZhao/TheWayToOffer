{
 "cells": [
  {
   "cell_type": "markdown",
   "metadata": {},
   "source": [
    "[剑指 Offer 52. 两个链表的第一个公共节点](https://leetcode-cn.com/problems/liang-ge-lian-biao-de-di-yi-ge-gong-gong-jie-dian-lcof/)\n",
    "\n",
    "```\n",
    "a->b->c--\n",
    "        |->f->g->h\n",
    "c->d->e--\n",
    "\n",
    "两条链表在某一处交叉，前半部分是两条链表，后半部分形成一条链表\n",
    "```"
   ]
  },
  {
   "cell_type": "markdown",
   "metadata": {},
   "source": [
    "## 1. 方法1，利用栈\n",
    "\n",
    "需要借助两个辅助栈，将两条链表分别入栈。入栈之后出栈，找到第一个不同的节点，则这个节点之前出栈的节点即为第一个相同的节点。\n",
    "\n",
    "空间复杂度为O(m+n),时间复杂度为O(m+n)\n",
    "\n",
    "## 2. 方法2，长链先行\n",
    "\n",
    "先分别遍历两个链表，得两个链表的长度，链表的长度差为t，让长的链表先向前走t步，然后两个链表同时向后遍历，如果两个指针相同，则找到了第一个公共节点\n",
    "\n",
    "空间复杂度O(1), 时间复杂度O(m+n)"
   ]
  },
  {
   "cell_type": "code",
   "execution_count": null,
   "metadata": {},
   "outputs": [],
   "source": []
  },
  {
   "cell_type": "code",
   "execution_count": 1,
   "metadata": {},
   "outputs": [],
   "source": [
    "from typing import *"
   ]
  },
  {
   "cell_type": "code",
   "execution_count": 2,
   "metadata": {},
   "outputs": [],
   "source": [
    "# Definition for singly-linked list.\n",
    "class ListNode:\n",
    "    def __init__(self, x):\n",
    "        self.val = x\n",
    "        self.next = None\n",
    "\n",
    "class Solution:\n",
    "    def getIntersectionNode(self, headA: ListNode, headB: ListNode) -> ListNode:\n",
    "        if headA==None or headB==None:\n",
    "            return None\n",
    "\n",
    "        pA = headA\n",
    "        pB = headB\n",
    "        lenA = 0\n",
    "        lenB = 0\n",
    "\n",
    "        while pA:\n",
    "            lenA += 1\n",
    "            pA = pA.next\n",
    "\n",
    "        while pB:\n",
    "            lenB += 1\n",
    "            pB = pB.next\n",
    "\n",
    "        pLong = headA\n",
    "        pShort = headB \n",
    "        if lenB>lenA:\n",
    "            pLong = headB\n",
    "            pShort = headA\n",
    "\n",
    "        for i in range(abs(lenA-lenB)):\n",
    "            pLong = pLong.next\n",
    "\n",
    "        while pLong and pShort:\n",
    "            if pLong==pShort:\n",
    "                break\n",
    "\n",
    "            pLong = pLong.next\n",
    "            pShort = pShort.next\n",
    "\n",
    "        if pLong==pShort:\n",
    "            return pLong\n",
    "        else:\n",
    "            return None"
   ]
  },
  {
   "cell_type": "code",
   "execution_count": null,
   "metadata": {},
   "outputs": [],
   "source": []
  }
 ],
 "metadata": {
  "kernelspec": {
   "display_name": "Python 3",
   "language": "python",
   "name": "python3"
  },
  "language_info": {
   "codemirror_mode": {
    "name": "ipython",
    "version": 3
   },
   "file_extension": ".py",
   "mimetype": "text/x-python",
   "name": "python",
   "nbconvert_exporter": "python",
   "pygments_lexer": "ipython3",
   "version": "3.8.5"
  }
 },
 "nbformat": 4,
 "nbformat_minor": 4
}
