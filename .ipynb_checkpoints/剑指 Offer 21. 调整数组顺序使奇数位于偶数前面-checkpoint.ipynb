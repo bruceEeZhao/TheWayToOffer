{
 "cells": [
  {
   "cell_type": "markdown",
   "metadata": {},
   "source": [
    "[剑指 Offer 21. 调整数组顺序使奇数位于偶数前面](https://leetcode-cn.com/problems/diao-zheng-shu-zu-shun-xu-shi-qi-shu-wei-yu-ou-shu-qian-mian-lcof/)\n",
    "\n",
    "```\n",
    "输入一个整数数组，实现一个函数来调整该数组中数字的顺序，使得所有奇数位于数组的前半部分，所有偶数位于数组的后半部分。\n",
    "\n",
    " \n",
    "\n",
    "示例：\n",
    "\n",
    "输入：nums = [1,2,3,4]\n",
    "输出：[1,3,2,4] \n",
    "注：[3,1,2,4] 也是正确的答案之一。\n",
    "\n",
    "```"
   ]
  },
  {
   "cell_type": "code",
   "execution_count": 2,
   "metadata": {},
   "outputs": [],
   "source": [
    "# 奇数的最低位为1   偶数最低位为0"
   ]
  },
  {
   "cell_type": "code",
   "execution_count": 4,
   "metadata": {},
   "outputs": [],
   "source": [
    "from typing import *"
   ]
  },
  {
   "cell_type": "code",
   "execution_count": 5,
   "metadata": {},
   "outputs": [],
   "source": [
    "\n",
    "class Solution:\n",
    "    def exchange(self, nums: List[int]) -> List[int]:\n",
    "        start = 0\n",
    "        end = len(nums)-1\n",
    "\n",
    "        while (start < end):\n",
    "            # start 指针向后移动，直到它指向偶数\n",
    "            while start<end and nums[start]&0x1!=0:\n",
    "                start+=1\n",
    "\n",
    "            # end 指针向前移动，直到它指向奇数\n",
    "            while start<end and nums[end]&0x1==0:\n",
    "                end-=1\n",
    "\n",
    "            if start<end:\n",
    "                nums[start], nums[end] = nums[end], nums[start]\n",
    "\n",
    "        return nums"
   ]
  },
  {
   "cell_type": "code",
   "execution_count": null,
   "metadata": {},
   "outputs": [],
   "source": []
  },
  {
   "cell_type": "markdown",
   "metadata": {},
   "source": [
    "扩展，可以将判断条件作为一个函数传入，可以动态决定使用什么函数"
   ]
  },
  {
   "cell_type": "code",
   "execution_count": 17,
   "metadata": {},
   "outputs": [],
   "source": [
    "class Solution:\n",
    "    def exchange(self, nums: List[int], func) -> List[int]:\n",
    "        start = 0\n",
    "        end = len(nums)-1\n",
    "\n",
    "        while (start < end):\n",
    "            # start 指针向后移动，直到它指向偶数\n",
    "            while start<end and not func(nums[start]):\n",
    "                start+=1\n",
    "\n",
    "            # end 指针向前移动，直到它指向奇数\n",
    "            while start<end and func(nums[end]):\n",
    "                end-=1\n",
    "\n",
    "            if start<end:\n",
    "                nums[start], nums[end] = nums[end], nums[start]\n",
    "\n",
    "        return nums\n",
    "    "
   ]
  },
  {
   "cell_type": "code",
   "execution_count": 18,
   "metadata": {},
   "outputs": [],
   "source": [
    "s = Solution()\n"
   ]
  },
  {
   "cell_type": "code",
   "execution_count": 19,
   "metadata": {},
   "outputs": [],
   "source": [
    "def func(num)->bool:\n",
    "    # 是偶数\n",
    "    if num&0x1==0:\n",
    "        return True\n",
    "    else:\n",
    "        return False"
   ]
  },
  {
   "cell_type": "code",
   "execution_count": 20,
   "metadata": {},
   "outputs": [
    {
     "data": {
      "text/plain": [
       "[1, 5, 3, 4, 2]"
      ]
     },
     "execution_count": 20,
     "metadata": {},
     "output_type": "execute_result"
    }
   ],
   "source": [
    "s.exchange([1,2,3,4,5], func)"
   ]
  },
  {
   "cell_type": "code",
   "execution_count": null,
   "metadata": {},
   "outputs": [],
   "source": []
  }
 ],
 "metadata": {
  "kernelspec": {
   "display_name": "Python 3",
   "language": "python",
   "name": "python3"
  },
  "language_info": {
   "codemirror_mode": {
    "name": "ipython",
    "version": 3
   },
   "file_extension": ".py",
   "mimetype": "text/x-python",
   "name": "python",
   "nbconvert_exporter": "python",
   "pygments_lexer": "ipython3",
   "version": "3.8.5"
  }
 },
 "nbformat": 4,
 "nbformat_minor": 4
}
