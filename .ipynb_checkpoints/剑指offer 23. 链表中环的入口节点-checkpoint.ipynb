{
 "cells": [
  {
   "cell_type": "markdown",
   "metadata": {},
   "source": [
    "[剑指offer 23. 链表中环的入口节点](https://leetcode-cn.com/problems/linked-list-cycle-lcci/submissions/)\n",
    "\n",
    "在leecode上没有剑指offer23题，这是一道相同的题"
   ]
  },
  {
   "cell_type": "code",
   "execution_count": null,
   "metadata": {},
   "outputs": [],
   "source": []
  },
  {
   "cell_type": "code",
   "execution_count": null,
   "metadata": {},
   "outputs": [],
   "source": []
  },
  {
   "cell_type": "code",
   "execution_count": null,
   "metadata": {},
   "outputs": [],
   "source": [
    "# Definition for singly-linked list.\n",
    "# class ListNode:\n",
    "#     def __init__(self, x):\n",
    "#         self.val = x\n",
    "#         self.next = None\n",
    "\n",
    "class Solution:\n",
    "    def detectCycle(self, head: ListNode) -> ListNode:\n",
    "        if head==None:\n",
    "            return None\n",
    "\n",
    "        circle = False \n",
    "\n",
    "        fast = slow = head\n",
    "\n",
    "        while fast.next!=None and fast.next.next != None:\n",
    "            fast = fast.next.next\n",
    "            slow = slow.next\n",
    "            if fast == slow:\n",
    "                circle = True\n",
    "                break\n",
    "\n",
    "        # 链表中没有环\n",
    "        if not circle:\n",
    "            return None\n",
    "\n",
    "        # 计算环的长度\n",
    "        cirlen = 1\n",
    "        fast = slow.next\n",
    "        while fast!=slow:\n",
    "            fast = fast.next\n",
    "            cirlen += 1\n",
    "        \n",
    "        # 开始寻找环的开头节点\n",
    "        fast = slow = head\n",
    "        for i in range(cirlen):\n",
    "            fast = fast.next\n",
    "\n",
    "        while fast!=slow:\n",
    "            fast = fast.next\n",
    "            slow = slow.next\n",
    "\n",
    "        return slow\n"
   ]
  }
 ],
 "metadata": {
  "kernelspec": {
   "display_name": "Python 3",
   "language": "python",
   "name": "python3"
  },
  "language_info": {
   "codemirror_mode": {
    "name": "ipython",
    "version": 3
   },
   "file_extension": ".py",
   "mimetype": "text/x-python",
   "name": "python",
   "nbconvert_exporter": "python",
   "pygments_lexer": "ipython3",
   "version": "3.8.5"
  }
 },
 "nbformat": 4,
 "nbformat_minor": 4
}
