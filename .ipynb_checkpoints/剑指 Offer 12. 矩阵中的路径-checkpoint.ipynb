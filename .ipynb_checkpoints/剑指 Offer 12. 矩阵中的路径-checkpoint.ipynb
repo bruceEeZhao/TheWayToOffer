{
 "cells": [
  {
   "cell_type": "markdown",
   "metadata": {},
   "source": [
    "[剑指 Offer 12. 矩阵中的路径](https://leetcode-cn.com/problems/ju-zhen-zhong-de-lu-jing-lcof/)\n",
    "\n",
    "```\n",
    "请设计一个函数，用来判断在一个矩阵中是否存在一条包含某字符串所有字符的路径。路径可以从矩阵中的任意一格开始，每一步可以在矩阵中向左、右、上、下移动一格。如果一条路径经过了矩阵的某一格，那么该路径不能再次进入该格子。例如，在下面的3×4的矩阵中包含一条字符串“bfce”的路径（路径中的字母用加粗标出）。\n",
    "\n",
    "[[\"a\",\"b\",\"c\",\"e\"],\n",
    "[\"s\",\"f\",\"c\",\"s\"],\n",
    "[\"a\",\"d\",\"e\",\"e\"]]\n",
    "\n",
    "但矩阵中不包含字符串“abfb”的路径，因为字符串的第一个字符b占据了矩阵中的第一行第二个格子之后，路径不能再次进入这个格子。\n",
    "\n",
    " \n",
    "\n",
    "示例 1：\n",
    "\n",
    "输入：board = [[\"A\",\"B\",\"C\",\"E\"],[\"S\",\"F\",\"C\",\"S\"],[\"A\",\"D\",\"E\",\"E\"]], word = \"ABCCED\"\n",
    "输出：true\n",
    "\n",
    "示例 2：\n",
    "\n",
    "输入：board = [[\"a\",\"b\"],[\"c\",\"d\"]], word = \"abcd\"\n",
    "输出：false\n",
    "\n",
    "```\n"
   ]
  },
  {
   "cell_type": "code",
   "execution_count": 3,
   "metadata": {},
   "outputs": [],
   "source": [
    "from typing import *\n",
    "\n",
    "\n",
    "class Solution:\n",
    "    def exist(self, board: List[List[str]], word: str) -> bool:\n",
    "        rows = len(board)\n",
    "        cols = len(board[0])\n",
    "        visited = [[0 for i in range(cols)] for i in range(rows)]\n",
    "        pathLen = 0\n",
    "\n",
    "        for i in range(rows):\n",
    "            for j in range(cols):\n",
    "                if self.hasPath(board, rows, cols, i, j, word, visited, pathLen):\n",
    "                    return True\n",
    "        \n",
    "        return False\n",
    "\n",
    "    def hasPath(self, board, rows, cols, row, col, word, visited, pathLen):\n",
    "        re = False\n",
    "\n",
    "        # 如果当前访问的字符是路径上的字符，则判断下一个字符能否在路径中找到，向上下左右4个方向进行寻找。\n",
    "        if row>=0 and row < rows and col >= 0 and col < cols and board[row][col] == word[pathLen] and visited[row][col] == False:\n",
    "            pathLen += 1\n",
    "            visited[row][col] = True\n",
    "\n",
    "            if pathLen > len(word)-1:\n",
    "                return True\n",
    "\n",
    "            re = self.hasPath(board, rows, cols, row, col-1, word, visited, pathLen) or \\\n",
    "            self.hasPath(board, rows, cols, row-1, col, word, visited, pathLen) or \\\n",
    "            self.hasPath(board, rows, cols, row, col+1, word, visited, pathLen) or \\\n",
    "            self.hasPath(board, rows, cols, row+1, col, word, visited, pathLen)\n",
    "\n",
    "            # 回溯\n",
    "            if re is False:\n",
    "                pathLen -= 1\n",
    "                visited[row][col] = False\n",
    "\n",
    "\n",
    "        return re"
   ]
  },
  {
   "cell_type": "markdown",
   "metadata": {},
   "source": [
    "回溯法，如果该字符不能构成路径，则进行回溯。"
   ]
  },
  {
   "cell_type": "code",
   "execution_count": null,
   "metadata": {},
   "outputs": [],
   "source": []
  }
 ],
 "metadata": {
  "kernelspec": {
   "display_name": "Python 3",
   "language": "python",
   "name": "python3"
  },
  "language_info": {
   "codemirror_mode": {
    "name": "ipython",
    "version": 3
   },
   "file_extension": ".py",
   "mimetype": "text/x-python",
   "name": "python",
   "nbconvert_exporter": "python",
   "pygments_lexer": "ipython3",
   "version": "3.8.5"
  }
 },
 "nbformat": 4,
 "nbformat_minor": 4
}
