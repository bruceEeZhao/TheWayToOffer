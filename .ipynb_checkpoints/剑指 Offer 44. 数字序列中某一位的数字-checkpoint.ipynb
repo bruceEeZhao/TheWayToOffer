{
 "cells": [
  {
   "cell_type": "markdown",
   "metadata": {},
   "source": [
    "[剑指 Offer 44. 数字序列中某一位的数字](https://leetcode-cn.com/problems/shu-zi-xu-lie-zhong-mou-yi-wei-de-shu-zi-lcof/)\n",
    "\n",
    "```\n",
    "数字以0123456789101112131415…的格式序列化到一个字符序列中。在这个序列中，第5位（从下标0开始计数）是5，第13位是1，第19位是4，等等。\n",
    "\n",
    "请写一个函数，求任意第n位对应的数字。\n",
    "\n",
    " \n",
    "\n",
    "示例 1：\n",
    "\n",
    "输入：n = 3\n",
    "输出：3\n",
    "\n",
    "示例 2：\n",
    "\n",
    "输入：n = 11\n",
    "输出：0\n",
    "```"
   ]
  },
  {
   "cell_type": "code",
   "execution_count": null,
   "metadata": {},
   "outputs": [],
   "source": []
  },
  {
   "cell_type": "code",
   "execution_count": null,
   "metadata": {},
   "outputs": [],
   "source": []
  },
  {
   "cell_type": "code",
   "execution_count": 2,
   "metadata": {},
   "outputs": [],
   "source": [
    "from typing import *"
   ]
  },
  {
   "cell_type": "code",
   "execution_count": 3,
   "metadata": {},
   "outputs": [],
   "source": [
    "class Solution:\n",
    "    def findNthDigit(self, n: int) -> int:\n",
    "        if n<10:\n",
    "            return n \n",
    "        if n==10:\n",
    "            return 1\n",
    "\n",
    "        # 数字的位数，1位，2位...\n",
    "        numlen = 1\n",
    "        while n>(numlen * self.countOfIntergers(numlen)):\n",
    "            n -= numlen * self.countOfIntergers(numlen)\n",
    "            numlen += 1\n",
    "\n",
    "        order = n/numlen\n",
    "        shift = n%numlen\n",
    "        num = pow(10, numlen-1)+order\n",
    "        num = str(num)\n",
    "        return int(num[shift])\n",
    "\n",
    "        \n",
    "    \n",
    "    def countOfIntergers(self, n):\n",
    "        if n==1:\n",
    "            return 10\n",
    "        \n",
    "        return pow(10,n-1)*9"
   ]
  },
  {
   "cell_type": "code",
   "execution_count": null,
   "metadata": {},
   "outputs": [],
   "source": []
  }
 ],
 "metadata": {
  "kernelspec": {
   "display_name": "Python 3",
   "language": "python",
   "name": "python3"
  },
  "language_info": {
   "codemirror_mode": {
    "name": "ipython",
    "version": 3
   },
   "file_extension": ".py",
   "mimetype": "text/x-python",
   "name": "python",
   "nbconvert_exporter": "python",
   "pygments_lexer": "ipython3",
   "version": "3.8.5"
  }
 },
 "nbformat": 4,
 "nbformat_minor": 4
}
