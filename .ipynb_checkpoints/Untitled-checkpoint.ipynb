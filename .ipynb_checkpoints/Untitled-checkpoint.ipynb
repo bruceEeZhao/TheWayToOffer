{
 "cells": [
  {
   "cell_type": "code",
   "execution_count": 3,
   "metadata": {},
   "outputs": [
    {
     "name": "stdout",
     "output_type": "stream",
     "text": [
      "sss\n",
      "\n",
      "ddd\n",
      "\n",
      "eee\n"
     ]
    }
   ],
   "source": [
    "def solution(file):\n",
    "    for line in getLines(file):\n",
    "        print(line)\n",
    "        \n",
    "    \n",
    "\n",
    "def getLines(file):\n",
    "    with open(file, \"r\") as f:\n",
    "        for line in f.readlines():\n",
    "            yield line\n",
    "            \n",
    "            \n",
    "solution(\"a.txt\")"
   ]
  },
  {
   "cell_type": "code",
   "execution_count": null,
   "metadata": {},
   "outputs": [],
   "source": []
  },
  {
   "cell_type": "code",
   "execution_count": 6,
   "metadata": {},
   "outputs": [
    {
     "name": "stdout",
     "output_type": "stream",
     "text": [
      "a\n",
      "b\n",
      "c\n",
      "d\n",
      "e\n",
      "f\n",
      "g\n",
      "h\n",
      "i\n",
      "j\n",
      "k\n",
      "l\n",
      "m\n",
      "n\n",
      "o\n",
      "p\n",
      "q\n",
      "r\n",
      "s\n",
      "t\n",
      "u\n",
      "v\n",
      "w\n",
      "x\n",
      "y\n",
      "z\n"
     ]
    }
   ],
   "source": [
    "for i in range(ord('a'), ord('z')+1):\n",
    "    print(chr(i))"
   ]
  },
  {
   "cell_type": "markdown",
   "metadata": {},
   "source": [
    "[剑指 Offer 33. 二叉搜索树的后序遍历序列](https://leetcode-cn.com/problems/er-cha-sou-suo-shu-de-hou-xu-bian-li-xu-lie-lcof/)\n",
    "\n",
    "```\n",
    "输入一个整数数组，判断该数组是不是某二叉搜索树的后序遍历结果。如果是则返回 true，否则返回 false。假设输入的数组的任意两个数字都互不相同。\n",
    "\n",
    " \n",
    "\n",
    "参考以下这颗二叉搜索树：\n",
    "\n",
    "     5\n",
    "    / \\\n",
    "   2   6\n",
    "  / \\\n",
    " 1   3\n",
    "\n",
    "示例 1：\n",
    "\n",
    "输入: [1,6,3,2,5]\n",
    "输出: false\n",
    "\n",
    "示例 2：\n",
    "\n",
    "输入: [1,3,2,6,5]\n",
    "输出: true\n",
    "\n",
    "```"
   ]
  },
  {
   "cell_type": "code",
   "execution_count": null,
   "metadata": {},
   "outputs": [],
   "source": []
  },
  {
   "cell_type": "code",
   "execution_count": null,
   "metadata": {},
   "outputs": [],
   "source": []
  },
  {
   "cell_type": "code",
   "execution_count": null,
   "metadata": {},
   "outputs": [],
   "source": []
  },
  {
   "cell_type": "code",
   "execution_count": null,
   "metadata": {},
   "outputs": [],
   "source": [
    "class Solution:\n",
    "    def verifyPostorder(self, postorder: List[int]) -> bool:\n",
    "        if postorder==None or len(postorder)==0:\n",
    "            return True\n",
    "\n",
    "\n",
    "        def isTree(left, right):\n",
    "            # print(left, right)\n",
    "            if left>=right:\n",
    "                return True\n",
    "\n",
    "            # 最后的值为根节点的值\n",
    "            root = postorder[right]\n",
    "\n",
    "            # 找到左右子树的分界点\n",
    "            mid = left\n",
    "            for mid in range(left, right+1):\n",
    "                if postorder[mid]>root:\n",
    "                    break\n",
    "            \n",
    "            # 右子树的所有值都应该大于根节点\n",
    "            \n",
    "            for i in range(mid, right):\n",
    "                if postorder[i] < root:\n",
    "                    return False\n",
    "\n",
    "            l = isTree(left, mid-1)\n",
    "            r = isTree(mid, right-1)\n",
    "\n",
    "            return l and r\n",
    "                \n",
    "        return isTree(0, len(postorder)-1)"
   ]
  }
 ],
 "metadata": {
  "kernelspec": {
   "display_name": "Python 3",
   "language": "python",
   "name": "python3"
  },
  "language_info": {
   "codemirror_mode": {
    "name": "ipython",
    "version": 3
   },
   "file_extension": ".py",
   "mimetype": "text/x-python",
   "name": "python",
   "nbconvert_exporter": "python",
   "pygments_lexer": "ipython3",
   "version": "3.8.5"
  }
 },
 "nbformat": 4,
 "nbformat_minor": 4
}
