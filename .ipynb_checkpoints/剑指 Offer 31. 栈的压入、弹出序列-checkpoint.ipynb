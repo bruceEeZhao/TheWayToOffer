{
 "cells": [
  {
   "cell_type": "markdown",
   "metadata": {},
   "source": [
    "[剑指 Offer 31. 栈的压入、弹出序列](https://leetcode-cn.com/problems/zhan-de-ya-ru-dan-chu-xu-lie-lcof/)\n",
    "\n",
    "```\n",
    "输入两个整数序列，第一个序列表示栈的压入顺序，请判断第二个序列是否为该栈的弹出顺序。假设压入栈的所有数字均不相等。例如，序列 {1,2,3,4,5} 是某栈的压栈序列，序列 {4,5,3,2,1} 是该压栈序列对应的一个弹出序列，但 {4,3,5,1,2} 就不可能是该压栈序列的弹出序列。\n",
    "\n",
    " \n",
    "\n",
    "示例 1：\n",
    "\n",
    "输入：pushed = [1,2,3,4,5], popped = [4,5,3,2,1]\n",
    "输出：true\n",
    "解释：我们可以按以下顺序执行：\n",
    "push(1), push(2), push(3), push(4), pop() -> 4,\n",
    "push(5), pop() -> 5, pop() -> 3, pop() -> 2, pop() -> 1\n",
    "\n",
    "示例 2：\n",
    "\n",
    "输入：pushed = [1,2,3,4,5], popped = [4,3,5,1,2]\n",
    "输出：false\n",
    "解释：1 不能在 2 之前弹出。\n",
    "\n",
    "```"
   ]
  },
  {
   "cell_type": "code",
   "execution_count": null,
   "metadata": {},
   "outputs": [],
   "source": []
  },
  {
   "cell_type": "markdown",
   "metadata": {},
   "source": [
    "借助一个辅助栈，遍历poped数组，\n",
    "1. 如果当前元素在辅助栈的栈顶，那么将元素出栈，\n",
    "2. 如果当前元素没有在栈顶，且pushed数组长度为0，则说明该顺序不是一个合法的顺序\n",
    "3. 除了上述的情况，将pushed数组中的元素顺序出队，压入辅助栈中，直到一个元素的值与遍历的poped数组的值相同停止。如果没有这样的元素则证明失败"
   ]
  },
  {
   "cell_type": "code",
   "execution_count": 1,
   "metadata": {},
   "outputs": [],
   "source": [
    "from typing import *"
   ]
  },
  {
   "cell_type": "code",
   "execution_count": 2,
   "metadata": {},
   "outputs": [],
   "source": [
    "class Solution:\n",
    "    def validateStackSequences(self, pushed: List[int], popped: List[int]) -> bool:\n",
    "        stack = []\n",
    "\n",
    "        for item in popped:\n",
    "            if len(stack) and item==stack[-1]:\n",
    "                stack.pop()\n",
    "            elif len(stack) and item!=stack[-1] and len(pushed)==0:\n",
    "                return False\n",
    "            else:\n",
    "                flag = False\n",
    "                while len(pushed):\n",
    "                    if pushed[0] == item:\n",
    "                        # stack.append(pushed[0])\n",
    "                        pushed.pop(0)\n",
    "                        flag = True\n",
    "                        break\n",
    "                    else:\n",
    "                        stack.append(pushed[0])\n",
    "                        pushed.pop(0)\n",
    "                if not flag:\n",
    "                    return False\n",
    "\n",
    "        return True"
   ]
  },
  {
   "cell_type": "code",
   "execution_count": null,
   "metadata": {},
   "outputs": [],
   "source": []
  }
 ],
 "metadata": {
  "kernelspec": {
   "display_name": "Python 3",
   "language": "python",
   "name": "python3"
  },
  "language_info": {
   "codemirror_mode": {
    "name": "ipython",
    "version": 3
   },
   "file_extension": ".py",
   "mimetype": "text/x-python",
   "name": "python",
   "nbconvert_exporter": "python",
   "pygments_lexer": "ipython3",
   "version": "3.8.5"
  }
 },
 "nbformat": 4,
 "nbformat_minor": 4
}
